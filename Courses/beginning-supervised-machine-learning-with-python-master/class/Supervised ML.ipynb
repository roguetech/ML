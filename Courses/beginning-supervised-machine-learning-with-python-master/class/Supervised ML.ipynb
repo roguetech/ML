{
 "cells": [
  {
   "cell_type": "markdown",
   "metadata": {},
   "source": [
    "# Supervised Learning"
   ]
  },
  {
   "cell_type": "markdown",
   "metadata": {},
   "source": [
    "## Regression\n",
    "In this Notebook we will examine bitcoin prices and see if we can predict the value.\n",
    "\n",
    "https://www.kaggle.com/mczielinski/bitcoin-historical-data/data\n",
    "\n",
    "Data under CC BY-SA 4.0 License\n",
    "\n",
    "https://www.kaggle.com/mczielinski/bitcoin-historical-data"
   ]
  },
  {
   "cell_type": "code",
   "execution_count": 41,
   "metadata": {},
   "outputs": [],
   "source": [
    "%matplotlib inline\n",
    "    \n",
    "import matplotlib.pyplot as plt\n",
    "import numpy as np\n",
    "import pandas as pd\n",
    "from sklearn import ensemble, linear_model, model_selection, preprocessing, svm\n",
    "from sklearn import metrics \n",
    "from yellowbrick import regressor "
   ]
  },
  {
   "cell_type": "code",
   "execution_count": 42,
   "metadata": {},
   "outputs": [
    {
     "name": "stdout",
     "output_type": "stream",
     "text": [
      "CPU times: user 2.22 s, sys: 750 ms, total: 2.97 s\n",
      "Wall time: 3 s\n"
     ]
    }
   ],
   "source": [
    " %%time\n",
    "# Resampling data from minute interval to day\n",
    "bit_df = pd.read_csv('../data/coinbaseUSD_1-min_data_2014-12-01_to_2018-01-08.csv')\n",
    "# Convert unix time to datetime\n",
    "bit_df['date'] = pd.to_datetime(bit_df.Timestamp, unit='s')\n",
    "# Reset index\n",
    "bit_df = bit_df.set_index('date')\n",
    "# Rename columns so easier to code\n",
    "bit_df = bit_df.rename(columns={'Open':'open', 'High': 'hi', 'Low': 'lo', \n",
    "                       'Close': 'close', 'Volume_(BTC)': 'vol_btc',\n",
    "                       'Volume_(Currency)': 'vol_cur', \n",
    "                       'Weighted_Price': 'wp', 'Timestamp': 'ts'})\n",
    "# Resample and only use recent samples that aren't missing\n",
    "bit_df = bit_df.resample('d').agg({'open': 'first', 'hi': 'max', \n",
    "    'lo': 'min', 'close': 'last', 'vol_btc': 'sum',\n",
    "    'vol_cur': 'sum', 'wp': 'mean', 'ts': 'min'}).iloc[-1000:]\n",
    "# drop last row as it is not complete\n",
    "bit_df = bit_df.iloc[:-1]"
   ]
  },
  {
   "cell_type": "code",
   "execution_count": 43,
   "metadata": {},
   "outputs": [
    {
     "data": {
      "text/html": [
       "<div>\n",
       "<style scoped>\n",
       "    .dataframe tbody tr th:only-of-type {\n",
       "        vertical-align: middle;\n",
       "    }\n",
       "\n",
       "    .dataframe tbody tr th {\n",
       "        vertical-align: top;\n",
       "    }\n",
       "\n",
       "    .dataframe thead th {\n",
       "        text-align: right;\n",
       "    }\n",
       "</style>\n",
       "<table border=\"1\" class=\"dataframe\">\n",
       "  <thead>\n",
       "    <tr style=\"text-align: right;\">\n",
       "      <th></th>\n",
       "      <th>open</th>\n",
       "      <th>hi</th>\n",
       "      <th>lo</th>\n",
       "      <th>close</th>\n",
       "      <th>vol_btc</th>\n",
       "      <th>vol_cur</th>\n",
       "      <th>wp</th>\n",
       "      <th>ts</th>\n",
       "    </tr>\n",
       "    <tr>\n",
       "      <th>date</th>\n",
       "      <th></th>\n",
       "      <th></th>\n",
       "      <th></th>\n",
       "      <th></th>\n",
       "      <th></th>\n",
       "      <th></th>\n",
       "      <th></th>\n",
       "      <th></th>\n",
       "    </tr>\n",
       "  </thead>\n",
       "  <tbody>\n",
       "    <tr>\n",
       "      <th>2015-04-15</th>\n",
       "      <td>221.05</td>\n",
       "      <td>224.52</td>\n",
       "      <td>218.09</td>\n",
       "      <td>224.35</td>\n",
       "      <td>9137.584626</td>\n",
       "      <td>2.029524e+06</td>\n",
       "      <td>222.270771</td>\n",
       "      <td>1.429056e+09</td>\n",
       "    </tr>\n",
       "    <tr>\n",
       "      <th>2015-04-16</th>\n",
       "      <td>224.35</td>\n",
       "      <td>230.75</td>\n",
       "      <td>223.66</td>\n",
       "      <td>229.45</td>\n",
       "      <td>8636.837666</td>\n",
       "      <td>1.970069e+06</td>\n",
       "      <td>227.779413</td>\n",
       "      <td>1.429142e+09</td>\n",
       "    </tr>\n",
       "    <tr>\n",
       "      <th>2015-04-17</th>\n",
       "      <td>229.45</td>\n",
       "      <td>230.08</td>\n",
       "      <td>220.46</td>\n",
       "      <td>223.62</td>\n",
       "      <td>7738.360003</td>\n",
       "      <td>1.741497e+06</td>\n",
       "      <td>224.970863</td>\n",
       "      <td>1.429229e+09</td>\n",
       "    </tr>\n",
       "    <tr>\n",
       "      <th>2015-04-18</th>\n",
       "      <td>223.55</td>\n",
       "      <td>224.04</td>\n",
       "      <td>222.18</td>\n",
       "      <td>224.02</td>\n",
       "      <td>5065.649127</td>\n",
       "      <td>1.131269e+06</td>\n",
       "      <td>223.398170</td>\n",
       "      <td>1.429315e+09</td>\n",
       "    </tr>\n",
       "    <tr>\n",
       "      <th>2015-04-19</th>\n",
       "      <td>224.02</td>\n",
       "      <td>226.72</td>\n",
       "      <td>223.44</td>\n",
       "      <td>224.03</td>\n",
       "      <td>5279.787312</td>\n",
       "      <td>1.185860e+06</td>\n",
       "      <td>224.667792</td>\n",
       "      <td>1.429402e+09</td>\n",
       "    </tr>\n",
       "    <tr>\n",
       "      <th>...</th>\n",
       "      <td>...</td>\n",
       "      <td>...</td>\n",
       "      <td>...</td>\n",
       "      <td>...</td>\n",
       "      <td>...</td>\n",
       "      <td>...</td>\n",
       "      <td>...</td>\n",
       "      <td>...</td>\n",
       "    </tr>\n",
       "    <tr>\n",
       "      <th>2018-01-03</th>\n",
       "      <td>14781.52</td>\n",
       "      <td>15400.00</td>\n",
       "      <td>14628.00</td>\n",
       "      <td>15098.14</td>\n",
       "      <td>17616.327677</td>\n",
       "      <td>2.642264e+08</td>\n",
       "      <td>14989.939350</td>\n",
       "      <td>1.514938e+09</td>\n",
       "    </tr>\n",
       "    <tr>\n",
       "      <th>2018-01-04</th>\n",
       "      <td>15098.23</td>\n",
       "      <td>15400.00</td>\n",
       "      <td>14230.00</td>\n",
       "      <td>15144.99</td>\n",
       "      <td>19567.016783</td>\n",
       "      <td>2.909045e+08</td>\n",
       "      <td>14851.477880</td>\n",
       "      <td>1.515024e+09</td>\n",
       "    </tr>\n",
       "    <tr>\n",
       "      <th>2018-01-05</th>\n",
       "      <td>15145.00</td>\n",
       "      <td>17178.00</td>\n",
       "      <td>14819.78</td>\n",
       "      <td>16960.01</td>\n",
       "      <td>22588.046307</td>\n",
       "      <td>3.619888e+08</td>\n",
       "      <td>15796.596968</td>\n",
       "      <td>1.515110e+09</td>\n",
       "    </tr>\n",
       "    <tr>\n",
       "      <th>2018-01-06</th>\n",
       "      <td>16960.01</td>\n",
       "      <td>17174.00</td>\n",
       "      <td>16251.01</td>\n",
       "      <td>17098.99</td>\n",
       "      <td>13744.804428</td>\n",
       "      <td>2.296885e+08</td>\n",
       "      <td>16661.988247</td>\n",
       "      <td>1.515197e+09</td>\n",
       "    </tr>\n",
       "    <tr>\n",
       "      <th>2018-01-07</th>\n",
       "      <td>17099.00</td>\n",
       "      <td>17115.01</td>\n",
       "      <td>15755.01</td>\n",
       "      <td>16174.22</td>\n",
       "      <td>12201.377159</td>\n",
       "      <td>2.002825e+08</td>\n",
       "      <td>16526.973583</td>\n",
       "      <td>1.515283e+09</td>\n",
       "    </tr>\n",
       "  </tbody>\n",
       "</table>\n",
       "<p>999 rows × 8 columns</p>\n",
       "</div>"
      ],
      "text/plain": [
       "                open        hi        lo     close       vol_btc  \\\n",
       "date                                                               \n",
       "2015-04-15    221.05    224.52    218.09    224.35   9137.584626   \n",
       "2015-04-16    224.35    230.75    223.66    229.45   8636.837666   \n",
       "2015-04-17    229.45    230.08    220.46    223.62   7738.360003   \n",
       "2015-04-18    223.55    224.04    222.18    224.02   5065.649127   \n",
       "2015-04-19    224.02    226.72    223.44    224.03   5279.787312   \n",
       "...              ...       ...       ...       ...           ...   \n",
       "2018-01-03  14781.52  15400.00  14628.00  15098.14  17616.327677   \n",
       "2018-01-04  15098.23  15400.00  14230.00  15144.99  19567.016783   \n",
       "2018-01-05  15145.00  17178.00  14819.78  16960.01  22588.046307   \n",
       "2018-01-06  16960.01  17174.00  16251.01  17098.99  13744.804428   \n",
       "2018-01-07  17099.00  17115.01  15755.01  16174.22  12201.377159   \n",
       "\n",
       "                 vol_cur            wp            ts  \n",
       "date                                                  \n",
       "2015-04-15  2.029524e+06    222.270771  1.429056e+09  \n",
       "2015-04-16  1.970069e+06    227.779413  1.429142e+09  \n",
       "2015-04-17  1.741497e+06    224.970863  1.429229e+09  \n",
       "2015-04-18  1.131269e+06    223.398170  1.429315e+09  \n",
       "2015-04-19  1.185860e+06    224.667792  1.429402e+09  \n",
       "...                  ...           ...           ...  \n",
       "2018-01-03  2.642264e+08  14989.939350  1.514938e+09  \n",
       "2018-01-04  2.909045e+08  14851.477880  1.515024e+09  \n",
       "2018-01-05  3.619888e+08  15796.596968  1.515110e+09  \n",
       "2018-01-06  2.296885e+08  16661.988247  1.515197e+09  \n",
       "2018-01-07  2.002825e+08  16526.973583  1.515283e+09  \n",
       "\n",
       "[999 rows x 8 columns]"
      ]
     },
     "execution_count": 43,
     "metadata": {},
     "output_type": "execute_result"
    }
   ],
   "source": [
    "bit_df"
   ]
  },
  {
   "cell_type": "code",
   "execution_count": 44,
   "metadata": {},
   "outputs": [
    {
     "data": {
      "text/plain": [
       "open       float64\n",
       "hi         float64\n",
       "lo         float64\n",
       "close      float64\n",
       "vol_btc    float64\n",
       "vol_cur    float64\n",
       "wp         float64\n",
       "ts         float64\n",
       "dtype: object"
      ]
     },
     "execution_count": 44,
     "metadata": {},
     "output_type": "execute_result"
    }
   ],
   "source": [
    "bit_df.dtypes"
   ]
  },
  {
   "cell_type": "code",
   "execution_count": 45,
   "metadata": {},
   "outputs": [
    {
     "data": {
      "text/html": [
       "<div>\n",
       "<style scoped>\n",
       "    .dataframe tbody tr th:only-of-type {\n",
       "        vertical-align: middle;\n",
       "    }\n",
       "\n",
       "    .dataframe tbody tr th {\n",
       "        vertical-align: top;\n",
       "    }\n",
       "\n",
       "    .dataframe thead th {\n",
       "        text-align: right;\n",
       "    }\n",
       "</style>\n",
       "<table border=\"1\" class=\"dataframe\">\n",
       "  <thead>\n",
       "    <tr style=\"text-align: right;\">\n",
       "      <th></th>\n",
       "      <th>open</th>\n",
       "      <th>hi</th>\n",
       "      <th>lo</th>\n",
       "      <th>close</th>\n",
       "      <th>vol_btc</th>\n",
       "      <th>vol_cur</th>\n",
       "      <th>wp</th>\n",
       "      <th>ts</th>\n",
       "    </tr>\n",
       "  </thead>\n",
       "  <tbody>\n",
       "    <tr>\n",
       "      <th>count</th>\n",
       "      <td>999.00000</td>\n",
       "      <td>999.000000</td>\n",
       "      <td>999.000000</td>\n",
       "      <td>999.000000</td>\n",
       "      <td>999.000000</td>\n",
       "      <td>9.990000e+02</td>\n",
       "      <td>999.000000</td>\n",
       "      <td>9.990000e+02</td>\n",
       "    </tr>\n",
       "    <tr>\n",
       "      <th>mean</th>\n",
       "      <td>1838.11015</td>\n",
       "      <td>1914.705946</td>\n",
       "      <td>1757.861101</td>\n",
       "      <td>1854.054895</td>\n",
       "      <td>10350.019927</td>\n",
       "      <td>3.553735e+07</td>\n",
       "      <td>1842.224578</td>\n",
       "      <td>1.472170e+09</td>\n",
       "    </tr>\n",
       "    <tr>\n",
       "      <th>std</th>\n",
       "      <td>3169.30283</td>\n",
       "      <td>3346.396825</td>\n",
       "      <td>2966.458499</td>\n",
       "      <td>3201.173766</td>\n",
       "      <td>9947.604406</td>\n",
       "      <td>1.097365e+08</td>\n",
       "      <td>3165.632076</td>\n",
       "      <td>2.492906e+07</td>\n",
       "    </tr>\n",
       "    <tr>\n",
       "      <th>min</th>\n",
       "      <td>211.16000</td>\n",
       "      <td>224.040000</td>\n",
       "      <td>0.060000</td>\n",
       "      <td>211.160000</td>\n",
       "      <td>1525.187302</td>\n",
       "      <td>7.925465e+05</td>\n",
       "      <td>215.969046</td>\n",
       "      <td>1.429056e+09</td>\n",
       "    </tr>\n",
       "    <tr>\n",
       "      <th>25%</th>\n",
       "      <td>384.61500</td>\n",
       "      <td>393.500000</td>\n",
       "      <td>371.300000</td>\n",
       "      <td>384.850000</td>\n",
       "      <td>5320.152105</td>\n",
       "      <td>2.297687e+06</td>\n",
       "      <td>384.227045</td>\n",
       "      <td>1.450613e+09</td>\n",
       "    </tr>\n",
       "    <tr>\n",
       "      <th>50%</th>\n",
       "      <td>629.79000</td>\n",
       "      <td>639.850000</td>\n",
       "      <td>618.130000</td>\n",
       "      <td>630.830000</td>\n",
       "      <td>7367.614526</td>\n",
       "      <td>3.484114e+06</td>\n",
       "      <td>632.673702</td>\n",
       "      <td>1.472170e+09</td>\n",
       "    </tr>\n",
       "    <tr>\n",
       "      <th>75%</th>\n",
       "      <td>1454.14500</td>\n",
       "      <td>1512.965000</td>\n",
       "      <td>1440.095000</td>\n",
       "      <td>1502.495000</td>\n",
       "      <td>11954.181722</td>\n",
       "      <td>1.985804e+07</td>\n",
       "      <td>1471.613323</td>\n",
       "      <td>1.493726e+09</td>\n",
       "    </tr>\n",
       "    <tr>\n",
       "      <th>max</th>\n",
       "      <td>19650.02000</td>\n",
       "      <td>19891.990000</td>\n",
       "      <td>19010.000000</td>\n",
       "      <td>19650.010000</td>\n",
       "      <td>165763.024424</td>\n",
       "      <td>1.393385e+09</td>\n",
       "      <td>19537.276941</td>\n",
       "      <td>1.515283e+09</td>\n",
       "    </tr>\n",
       "  </tbody>\n",
       "</table>\n",
       "</div>"
      ],
      "text/plain": [
       "              open            hi            lo         close        vol_btc  \\\n",
       "count    999.00000    999.000000    999.000000    999.000000     999.000000   \n",
       "mean    1838.11015   1914.705946   1757.861101   1854.054895   10350.019927   \n",
       "std     3169.30283   3346.396825   2966.458499   3201.173766    9947.604406   \n",
       "min      211.16000    224.040000      0.060000    211.160000    1525.187302   \n",
       "25%      384.61500    393.500000    371.300000    384.850000    5320.152105   \n",
       "50%      629.79000    639.850000    618.130000    630.830000    7367.614526   \n",
       "75%     1454.14500   1512.965000   1440.095000   1502.495000   11954.181722   \n",
       "max    19650.02000  19891.990000  19010.000000  19650.010000  165763.024424   \n",
       "\n",
       "            vol_cur            wp            ts  \n",
       "count  9.990000e+02    999.000000  9.990000e+02  \n",
       "mean   3.553735e+07   1842.224578  1.472170e+09  \n",
       "std    1.097365e+08   3165.632076  2.492906e+07  \n",
       "min    7.925465e+05    215.969046  1.429056e+09  \n",
       "25%    2.297687e+06    384.227045  1.450613e+09  \n",
       "50%    3.484114e+06    632.673702  1.472170e+09  \n",
       "75%    1.985804e+07   1471.613323  1.493726e+09  \n",
       "max    1.393385e+09  19537.276941  1.515283e+09  "
      ]
     },
     "execution_count": 45,
     "metadata": {},
     "output_type": "execute_result"
    }
   ],
   "source": [
    "bit_df.describe()"
   ]
  },
  {
   "cell_type": "code",
   "execution_count": 46,
   "metadata": {},
   "outputs": [
    {
     "data": {
      "text/plain": [
       "<matplotlib.axes._subplots.AxesSubplot at 0x7f3c4ef20208>"
      ]
     },
     "execution_count": 46,
     "metadata": {},
     "output_type": "execute_result"
    },
    {
     "data": {
      "image/png": "[encoded data removed]",
      "text/plain": [
       "<Figure size 432x288 with 1 Axes>"
      ]
     },
     "metadata": {
      "needs_background": "light"
     },
     "output_type": "display_data"
    }
   ],
   "source": [
    "bit_df.plot(figsize=(6,4))"
   ]
  },
  {
   "cell_type": "code",
   "execution_count": 47,
   "metadata": {},
   "outputs": [
    {
     "data": {
      "text/plain": [
       "<matplotlib.axes._subplots.AxesSubplot at 0x7f3c4ec77860>"
      ]
     },
     "execution_count": 47,
     "metadata": {},
     "output_type": "execute_result"
    },
    {
     "data": {
      "image/png": "[encoded data removed]",
      "text/plain": [
       "<Figure size 432x288 with 1 Axes>"
      ]
     },
     "metadata": {
      "needs_background": "light"
     },
     "output_type": "display_data"
    }
   ],
   "source": [
    "bit_df.close.plot(figsize=(6,4))"
   ]
  },
  {
   "cell_type": "markdown",
   "metadata": {},
   "source": [
    "### Can we predict tomorrow's close based on today's info?\n",
    "We will use a row of data for input. \n",
    "\n",
    "We will call the input X and the prediction y. This is called \"supervised learning\" as we will feed in both X and y to train the model.\n",
    "\n",
    "Let's use a model called Linear Regression. This performs better if we standardize the data (0 mean, 1 std).\n",
    "\n",
    "For 2 dimensions this takes the form of \n",
    "\n",
    "\\begin{align}y = m*x + b\\end{align}\n",
    "\n",
    "M is the slope (or coefficient) and b is the intercept.\n",
    "\n",
    "Let's see if we can predict the open price from the ts component."
   ]
  },
  {
   "cell_type": "code",
   "execution_count": 48,
   "metadata": {},
   "outputs": [
    {
     "name": "stderr",
     "output_type": "stream",
     "text": [
      "'c' argument looks like a single numeric RGB or RGBA sequence, which should be avoided as value-mapping will have precedence in case its length matches with 'x' & 'y'.  Please use a 2-D array with a single row if you really want to specify the same RGB or RGBA value for all points.\n"
     ]
    },
    {
     "data": {
      "text/plain": [
       "<matplotlib.axes._subplots.AxesSubplot at 0x7f3c4eba6748>"
      ]
     },
     "execution_count": 48,
     "metadata": {},
     "output_type": "execute_result"
    },
    {
     "data": {
      "image/png": "[encoded data removed]",
      "text/plain": [
       "<Figure size 432x288 with 1 Axes>"
      ]
     },
     "metadata": {
      "needs_background": "light"
     },
     "output_type": "display_data"
    }
   ],
   "source": [
    "bit_df.plot(kind='scatter', x='ts', y='open', figsize=(6,4)) "
   ]
  },
  {
   "cell_type": "code",
   "execution_count": 49,
   "metadata": {},
   "outputs": [],
   "source": [
    "# Create our input (X) and our labelled data (y) to train our model\n",
    "X = bit_df[['ts']].iloc[:-1]  # drop last row because we don't know what future is\n",
    "y = bit_df.close.shift(-1).iloc[:-1]"
   ]
  },
  {
   "cell_type": "code",
   "execution_count": 50,
   "metadata": {},
   "outputs": [],
   "source": [
    "# Train a model and predict output if it were given X\n",
    "lr_model = linear_model.LinearRegression()\n",
    "lr_model.fit(X, y)\n",
    "pred = lr_model.predict(X)"
   ]
  },
  {
   "cell_type": "code",
   "execution_count": 51,
   "metadata": {},
   "outputs": [
    {
     "data": {
      "text/plain": [
       "[<matplotlib.lines.Line2D at 0x7f3c4f599080>]"
      ]
     },
     "execution_count": 51,
     "metadata": {},
     "output_type": "execute_result"
    },
    {
     "data": {
      "image/png": "[encoded data removed]",
      "text/plain": [
       "<Figure size 432x288 with 1 Axes>"
      ]
     },
     "metadata": {
      "needs_background": "light"
     },
     "output_type": "display_data"
    }
   ],
   "source": [
    "# Plot the real data, our prediction (blue), and the model from the coeffictient (green shifted)\n",
    "ax = bit_df.plot(kind='scatter', x='ts', y='open', color='black', figsize=(6,4))\n",
    "ax.plot(X, pred, color='blue')  # matplotlib plot\n",
    "ax.plot(X, X*lr_model.coef_ + lr_model.intercept_+ 100, linestyle='--', color='green')"
   ]
  },
  {
   "cell_type": "code",
   "execution_count": 52,
   "metadata": {},
   "outputs": [
    {
     "data": {
      "text/plain": [
       "5905906.764562201"
      ]
     },
     "execution_count": 52,
     "metadata": {},
     "output_type": "execute_result"
    }
   ],
   "source": [
    "# Vertical distance between line and point is the error. *Ordinary Least Squares* \n",
    "# regression tries to minimize the square of the distance.\n",
    "metrics.mean_squared_error(y, pred) "
   ]
  },
  {
   "cell_type": "code",
   "execution_count": 53,
   "metadata": {},
   "outputs": [
    {
     "data": {
      "text/plain": [
       "5905906.764562201"
      ]
     },
     "execution_count": 53,
     "metadata": {},
     "output_type": "execute_result"
    }
   ],
   "source": [
    "# Vertical distance between line and point is the error. *Ordinary Least Squares* \n",
    "# regression tries to minimize the square of the distance.\n",
    "metrics.mean_squared_error(y, pred) "
   ]
  },
  {
   "cell_type": "code",
   "execution_count": null,
   "metadata": {},
   "outputs": [],
   "source": []
  },
  {
   "cell_type": "markdown",
   "metadata": {},
   "source": [
    "### Lab Data\n",
    " \n",
    "This exercise looks at predicting the size of forest fires based on meteorological data \n",
    "https://archive.ics.uci.edu/ml/datasets/Forest+Fires\n",
    "\n",
    "The file is in ../data/forestfires.csv\n",
    "\n",
    "* Read the data into a DataFrame\n",
    "* Examine the types\n",
    "* Describe the data\n",
    "\n",
    "Attribute information:   For more information, read [Cortez and Morais, 2007].\n",
    "\n",
    "1. X - x-axis spatial coordinate within the Montesinho park map: 1 to 9\n",
    "2. Y - y-axis spatial coordinate within the Montesinho park map: 2 to 9\n",
    "3. month - month of the year: \"jan\" to \"dec\" \n",
    "4. day - day of the week: \"mon\" to \"sun\"\n",
    "5. FFMC - FFMC index from the FWI system: 18.7 to 96.20\n",
    "6. DMC - DMC index from the FWI system: 1.1 to 291.3 \n",
    "7. DC - DC index from the FWI system: 7.9 to 860.6 \n",
    "8. ISI - ISI index from the FWI system: 0.0 to 56.10\n",
    "9. temp - temperature in Celsius degrees: 2.2 to 33.30\n",
    "10. RH - relative humidity in %: 15.0 to 100\n",
    "11. wind - wind speed in km/h: 0.40 to 9.40 \n",
    "12. rain - outside rain in mm/m2 : 0.0 to 6.4 \n",
    "13. area - the burned area of the forest (in ha): 0.00 to 1090.84 (this output variable is very skewed towards 0.0, thus it may make\n",
    "sense to model with the logarithm transform)."
   ]
  },
  {
   "cell_type": "code",
   "execution_count": 54,
   "metadata": {},
   "outputs": [],
   "source": [
    "ff = pd.read_csv('../data/forestfires.csv') "
   ]
  },
  {
   "cell_type": "code",
   "execution_count": 55,
   "metadata": {},
   "outputs": [
    {
     "data": {
      "text/plain": [
       "X          int64\n",
       "Y          int64\n",
       "month     object\n",
       "day       object\n",
       "FFMC     float64\n",
       "DMC      float64\n",
       "DC       float64\n",
       "ISI      float64\n",
       "temp     float64\n",
       "RH         int64\n",
       "wind     float64\n",
       "rain     float64\n",
       "area     float64\n",
       "dtype: object"
      ]
     },
     "execution_count": 55,
     "metadata": {},
     "output_type": "execute_result"
    }
   ],
   "source": [
    "ff.dtypes "
   ]
  },
  {
   "cell_type": "code",
   "execution_count": 56,
   "metadata": {},
   "outputs": [
    {
     "data": {
      "text/html": [
       "<div>\n",
       "<style scoped>\n",
       "    .dataframe tbody tr th:only-of-type {\n",
       "        vertical-align: middle;\n",
       "    }\n",
       "\n",
       "    .dataframe tbody tr th {\n",
       "        vertical-align: top;\n",
       "    }\n",
       "\n",
       "    .dataframe thead th {\n",
       "        text-align: right;\n",
       "    }\n",
       "</style>\n",
       "<table border=\"1\" class=\"dataframe\">\n",
       "  <thead>\n",
       "    <tr style=\"text-align: right;\">\n",
       "      <th></th>\n",
       "      <th>X</th>\n",
       "      <th>Y</th>\n",
       "      <th>FFMC</th>\n",
       "      <th>DMC</th>\n",
       "      <th>DC</th>\n",
       "      <th>ISI</th>\n",
       "      <th>temp</th>\n",
       "      <th>RH</th>\n",
       "      <th>wind</th>\n",
       "      <th>rain</th>\n",
       "      <th>area</th>\n",
       "    </tr>\n",
       "  </thead>\n",
       "  <tbody>\n",
       "    <tr>\n",
       "      <th>count</th>\n",
       "      <td>517.000000</td>\n",
       "      <td>517.000000</td>\n",
       "      <td>517.000000</td>\n",
       "      <td>517.000000</td>\n",
       "      <td>517.000000</td>\n",
       "      <td>517.000000</td>\n",
       "      <td>517.000000</td>\n",
       "      <td>517.000000</td>\n",
       "      <td>517.000000</td>\n",
       "      <td>517.000000</td>\n",
       "      <td>517.000000</td>\n",
       "    </tr>\n",
       "    <tr>\n",
       "      <th>mean</th>\n",
       "      <td>4.669246</td>\n",
       "      <td>4.299807</td>\n",
       "      <td>90.644681</td>\n",
       "      <td>110.872340</td>\n",
       "      <td>547.940039</td>\n",
       "      <td>9.021663</td>\n",
       "      <td>18.889168</td>\n",
       "      <td>44.288201</td>\n",
       "      <td>4.017602</td>\n",
       "      <td>0.021663</td>\n",
       "      <td>12.847292</td>\n",
       "    </tr>\n",
       "    <tr>\n",
       "      <th>std</th>\n",
       "      <td>2.313778</td>\n",
       "      <td>1.229900</td>\n",
       "      <td>5.520111</td>\n",
       "      <td>64.046482</td>\n",
       "      <td>248.066192</td>\n",
       "      <td>4.559477</td>\n",
       "      <td>5.806625</td>\n",
       "      <td>16.317469</td>\n",
       "      <td>1.791653</td>\n",
       "      <td>0.295959</td>\n",
       "      <td>63.655818</td>\n",
       "    </tr>\n",
       "    <tr>\n",
       "      <th>min</th>\n",
       "      <td>1.000000</td>\n",
       "      <td>2.000000</td>\n",
       "      <td>18.700000</td>\n",
       "      <td>1.100000</td>\n",
       "      <td>7.900000</td>\n",
       "      <td>0.000000</td>\n",
       "      <td>2.200000</td>\n",
       "      <td>15.000000</td>\n",
       "      <td>0.400000</td>\n",
       "      <td>0.000000</td>\n",
       "      <td>0.000000</td>\n",
       "    </tr>\n",
       "    <tr>\n",
       "      <th>25%</th>\n",
       "      <td>3.000000</td>\n",
       "      <td>4.000000</td>\n",
       "      <td>90.200000</td>\n",
       "      <td>68.600000</td>\n",
       "      <td>437.700000</td>\n",
       "      <td>6.500000</td>\n",
       "      <td>15.500000</td>\n",
       "      <td>33.000000</td>\n",
       "      <td>2.700000</td>\n",
       "      <td>0.000000</td>\n",
       "      <td>0.000000</td>\n",
       "    </tr>\n",
       "    <tr>\n",
       "      <th>50%</th>\n",
       "      <td>4.000000</td>\n",
       "      <td>4.000000</td>\n",
       "      <td>91.600000</td>\n",
       "      <td>108.300000</td>\n",
       "      <td>664.200000</td>\n",
       "      <td>8.400000</td>\n",
       "      <td>19.300000</td>\n",
       "      <td>42.000000</td>\n",
       "      <td>4.000000</td>\n",
       "      <td>0.000000</td>\n",
       "      <td>0.520000</td>\n",
       "    </tr>\n",
       "    <tr>\n",
       "      <th>75%</th>\n",
       "      <td>7.000000</td>\n",
       "      <td>5.000000</td>\n",
       "      <td>92.900000</td>\n",
       "      <td>142.400000</td>\n",
       "      <td>713.900000</td>\n",
       "      <td>10.800000</td>\n",
       "      <td>22.800000</td>\n",
       "      <td>53.000000</td>\n",
       "      <td>4.900000</td>\n",
       "      <td>0.000000</td>\n",
       "      <td>6.570000</td>\n",
       "    </tr>\n",
       "    <tr>\n",
       "      <th>max</th>\n",
       "      <td>9.000000</td>\n",
       "      <td>9.000000</td>\n",
       "      <td>96.200000</td>\n",
       "      <td>291.300000</td>\n",
       "      <td>860.600000</td>\n",
       "      <td>56.100000</td>\n",
       "      <td>33.300000</td>\n",
       "      <td>100.000000</td>\n",
       "      <td>9.400000</td>\n",
       "      <td>6.400000</td>\n",
       "      <td>1090.840000</td>\n",
       "    </tr>\n",
       "  </tbody>\n",
       "</table>\n",
       "</div>"
      ],
      "text/plain": [
       "                X           Y        FFMC         DMC          DC         ISI  \\\n",
       "count  517.000000  517.000000  517.000000  517.000000  517.000000  517.000000   \n",
       "mean     4.669246    4.299807   90.644681  110.872340  547.940039    9.021663   \n",
       "std      2.313778    1.229900    5.520111   64.046482  248.066192    4.559477   \n",
       "min      1.000000    2.000000   18.700000    1.100000    7.900000    0.000000   \n",
       "25%      3.000000    4.000000   90.200000   68.600000  437.700000    6.500000   \n",
       "50%      4.000000    4.000000   91.600000  108.300000  664.200000    8.400000   \n",
       "75%      7.000000    5.000000   92.900000  142.400000  713.900000   10.800000   \n",
       "max      9.000000    9.000000   96.200000  291.300000  860.600000   56.100000   \n",
       "\n",
       "             temp          RH        wind        rain         area  \n",
       "count  517.000000  517.000000  517.000000  517.000000   517.000000  \n",
       "mean    18.889168   44.288201    4.017602    0.021663    12.847292  \n",
       "std      5.806625   16.317469    1.791653    0.295959    63.655818  \n",
       "min      2.200000   15.000000    0.400000    0.000000     0.000000  \n",
       "25%     15.500000   33.000000    2.700000    0.000000     0.000000  \n",
       "50%     19.300000   42.000000    4.000000    0.000000     0.520000  \n",
       "75%     22.800000   53.000000    4.900000    0.000000     6.570000  \n",
       "max     33.300000  100.000000    9.400000    6.400000  1090.840000  "
      ]
     },
     "execution_count": 56,
     "metadata": {},
     "output_type": "execute_result"
    }
   ],
   "source": [
    "ff.describe()"
   ]
  },
  {
   "cell_type": "code",
   "execution_count": 57,
   "metadata": {},
   "outputs": [
    {
     "data": {
      "text/plain": [
       "<matplotlib.axes._subplots.AxesSubplot at 0x7f3c4fac84a8>"
      ]
     },
     "execution_count": 57,
     "metadata": {},
     "output_type": "execute_result"
    },
    {
     "data": {
      "image/png": "[encoded data removed]",
      "text/plain": [
       "<Figure size 432x288 with 1 Axes>"
      ]
     },
     "metadata": {
      "needs_background": "light"
     },
     "output_type": "display_data"
    }
   ],
   "source": [
    "ff.area.hist() "
   ]
  },
  {
   "cell_type": "code",
   "execution_count": null,
   "metadata": {},
   "outputs": [],
   "source": []
  },
  {
   "cell_type": "markdown",
   "metadata": {},
   "source": [
    "## Regression Exercise\n",
    "\n",
    "* Use linear regression to predict area from the other columns. (If you have object data columns, you can create dummy columns using `pd.get_dummies`, `pd.concat`, and `pd.drop`)\n",
    "* What is your score?"
   ]
  },
  {
   "cell_type": "code",
   "execution_count": null,
   "metadata": {},
   "outputs": [],
   "source": []
  },
  {
   "cell_type": "code",
   "execution_count": null,
   "metadata": {},
   "outputs": [],
   "source": []
  },
  {
   "cell_type": "code",
   "execution_count": null,
   "metadata": {
    "lines_to_next_cell": 2
   },
   "outputs": [],
   "source": []
  },
  {
   "cell_type": "markdown",
   "metadata": {},
   "source": [
    "### Regression Evaluation"
   ]
  },
  {
   "cell_type": "code",
   "execution_count": 58,
   "metadata": {},
   "outputs": [],
   "source": [
    "# Use more columns\n",
    "# drop last row because we don't know what future is\n",
    "\n",
    "X = (bit_df\n",
    "         .drop(['close'], axis=1)\n",
    "         .iloc[:-1])\n",
    "y = bit_df.close.shift(-1).iloc[:-1]\n",
    "cols = X.columns\n",
    "\n",
    "# We are going to scale the data so that volume and ts don't get more\n",
    "# weight that other values\n",
    "ss = preprocessing.StandardScaler()\n",
    "ss.fit(X)\n",
    "X = ss.transform(X)\n",
    "X = pd.DataFrame(X, columns=cols)\n",
    "\n",
    "X_train, X_test, y_train, y_test = model_selection.\\\n",
    "    train_test_split(X, y, test_size=.3, random_state=42)"
   ]
  },
  {
   "cell_type": "code",
   "execution_count": 59,
   "metadata": {},
   "outputs": [
    {
     "data": {
      "text/html": [
       "<div>\n",
       "<style scoped>\n",
       "    .dataframe tbody tr th:only-of-type {\n",
       "        vertical-align: middle;\n",
       "    }\n",
       "\n",
       "    .dataframe tbody tr th {\n",
       "        vertical-align: top;\n",
       "    }\n",
       "\n",
       "    .dataframe thead th {\n",
       "        text-align: right;\n",
       "    }\n",
       "</style>\n",
       "<table border=\"1\" class=\"dataframe\">\n",
       "  <thead>\n",
       "    <tr style=\"text-align: right;\">\n",
       "      <th></th>\n",
       "      <th>open</th>\n",
       "      <th>hi</th>\n",
       "      <th>lo</th>\n",
       "      <th>vol_btc</th>\n",
       "      <th>vol_cur</th>\n",
       "      <th>wp</th>\n",
       "      <th>ts</th>\n",
       "    </tr>\n",
       "  </thead>\n",
       "  <tbody>\n",
       "    <tr>\n",
       "      <th>count</th>\n",
       "      <td>9.980000e+02</td>\n",
       "      <td>998.000000</td>\n",
       "      <td>9.980000e+02</td>\n",
       "      <td>9.980000e+02</td>\n",
       "      <td>998.000000</td>\n",
       "      <td>9.980000e+02</td>\n",
       "      <td>9.980000e+02</td>\n",
       "    </tr>\n",
       "    <tr>\n",
       "      <th>mean</th>\n",
       "      <td>-5.695733e-17</td>\n",
       "      <td>0.000000</td>\n",
       "      <td>-5.695733e-17</td>\n",
       "      <td>9.967533e-17</td>\n",
       "      <td>0.000000</td>\n",
       "      <td>-5.695733e-17</td>\n",
       "      <td>-5.695733e-17</td>\n",
       "    </tr>\n",
       "    <tr>\n",
       "      <th>std</th>\n",
       "      <td>1.000501e+00</td>\n",
       "      <td>1.000501</td>\n",
       "      <td>1.000501e+00</td>\n",
       "      <td>1.000501e+00</td>\n",
       "      <td>1.000501</td>\n",
       "      <td>1.000501e+00</td>\n",
       "      <td>1.000501e+00</td>\n",
       "    </tr>\n",
       "    <tr>\n",
       "      <th>min</th>\n",
       "      <td>-5.145398e-01</td>\n",
       "      <td>-0.505931</td>\n",
       "      <td>-5.945063e-01</td>\n",
       "      <td>-8.869604e-01</td>\n",
       "      <td>-0.315473</td>\n",
       "      <td>-5.146584e-01</td>\n",
       "      <td>-1.730316e+00</td>\n",
       "    </tr>\n",
       "    <tr>\n",
       "      <th>25%</th>\n",
       "      <td>-4.591903e-01</td>\n",
       "      <td>-0.454985</td>\n",
       "      <td>-4.679614e-01</td>\n",
       "      <td>-5.056673e-01</td>\n",
       "      <td>-0.301741</td>\n",
       "      <td>-4.609381e-01</td>\n",
       "      <td>-8.651581e-01</td>\n",
       "    </tr>\n",
       "    <tr>\n",
       "      <th>50%</th>\n",
       "      <td>-3.811430e-01</td>\n",
       "      <td>-0.380665</td>\n",
       "      <td>-3.838863e-01</td>\n",
       "      <td>-2.998543e-01</td>\n",
       "      <td>-0.290954</td>\n",
       "      <td>-3.816854e-01</td>\n",
       "      <td>0.000000e+00</td>\n",
       "    </tr>\n",
       "    <tr>\n",
       "      <th>75%</th>\n",
       "      <td>-1.274829e-01</td>\n",
       "      <td>-0.124745</td>\n",
       "      <td>-1.129190e-01</td>\n",
       "      <td>1.545122e-01</td>\n",
       "      <td>-0.144161</td>\n",
       "      <td>-1.198984e-01</td>\n",
       "      <td>8.651581e-01</td>\n",
       "    </tr>\n",
       "    <tr>\n",
       "      <th>max</th>\n",
       "      <td>5.691531e+00</td>\n",
       "      <td>5.433195</td>\n",
       "      <td>5.886561e+00</td>\n",
       "      <td>1.562362e+01</td>\n",
       "      <td>12.389219</td>\n",
       "      <td>5.655753e+00</td>\n",
       "      <td>1.730316e+00</td>\n",
       "    </tr>\n",
       "  </tbody>\n",
       "</table>\n",
       "</div>"
      ],
      "text/plain": [
       "               open          hi            lo       vol_btc     vol_cur  \\\n",
       "count  9.980000e+02  998.000000  9.980000e+02  9.980000e+02  998.000000   \n",
       "mean  -5.695733e-17    0.000000 -5.695733e-17  9.967533e-17    0.000000   \n",
       "std    1.000501e+00    1.000501  1.000501e+00  1.000501e+00    1.000501   \n",
       "min   -5.145398e-01   -0.505931 -5.945063e-01 -8.869604e-01   -0.315473   \n",
       "25%   -4.591903e-01   -0.454985 -4.679614e-01 -5.056673e-01   -0.301741   \n",
       "50%   -3.811430e-01   -0.380665 -3.838863e-01 -2.998543e-01   -0.290954   \n",
       "75%   -1.274829e-01   -0.124745 -1.129190e-01  1.545122e-01   -0.144161   \n",
       "max    5.691531e+00    5.433195  5.886561e+00  1.562362e+01   12.389219   \n",
       "\n",
       "                 wp            ts  \n",
       "count  9.980000e+02  9.980000e+02  \n",
       "mean  -5.695733e-17 -5.695733e-17  \n",
       "std    1.000501e+00  1.000501e+00  \n",
       "min   -5.146584e-01 -1.730316e+00  \n",
       "25%   -4.609381e-01 -8.651581e-01  \n",
       "50%   -3.816854e-01  0.000000e+00  \n",
       "75%   -1.198984e-01  8.651581e-01  \n",
       "max    5.655753e+00  1.730316e+00  "
      ]
     },
     "execution_count": 59,
     "metadata": {},
     "output_type": "execute_result"
    }
   ],
   "source": [
    "# We can now see that the data has a mean close to 0\n",
    "# and a std of 1\n",
    "X.describe()"
   ]
  },
  {
   "cell_type": "code",
   "execution_count": 60,
   "metadata": {},
   "outputs": [
    {
     "data": {
      "text/plain": [
       "0.9949690637286265"
      ]
     },
     "execution_count": 60,
     "metadata": {},
     "output_type": "execute_result"
    }
   ],
   "source": [
    "lr_model2 = linear_model.LinearRegression()\n",
    "lr_model2.fit(X_train, y_train)\n",
    "lr_model2.score(X_test, y_test)"
   ]
  },
  {
   "cell_type": "code",
   "execution_count": 61,
   "metadata": {},
   "outputs": [
    {
     "data": {
      "text/plain": [
       "0.9949690637286265"
      ]
     },
     "execution_count": 61,
     "metadata": {},
     "output_type": "execute_result"
    }
   ],
   "source": [
    "metrics.r2_score(y_test, lr_model2.predict(X_test))"
   ]
  },
  {
   "cell_type": "code",
   "execution_count": 62,
   "metadata": {},
   "outputs": [
    {
     "data": {
      "text/plain": [
       "48633.87889223455"
      ]
     },
     "execution_count": 62,
     "metadata": {},
     "output_type": "execute_result"
    }
   ],
   "source": [
    "metrics.mean_squared_error(y_test, lr_model2.predict(X_test))"
   ]
  },
  {
   "cell_type": "code",
   "execution_count": 63,
   "metadata": {},
   "outputs": [
    {
     "data": {
      "text/plain": [
       "72.45942732345566"
      ]
     },
     "execution_count": 63,
     "metadata": {},
     "output_type": "execute_result"
    }
   ],
   "source": [
    "metrics.mean_absolute_error(y_test, lr_model2.predict(X_test))"
   ]
  },
  {
   "cell_type": "code",
   "execution_count": 64,
   "metadata": {},
   "outputs": [
    {
     "data": {
      "image/png": "[encoded data removed]",
      "text/plain": [
       "<Figure size 432x288 with 2 Axes>"
      ]
     },
     "metadata": {
      "needs_background": "light"
     },
     "output_type": "display_data"
    },
    {
     "name": "stderr",
     "output_type": "stream",
     "text": [
      "/home/matt/.envs/env36/lib/python3.6/site-packages/sklearn/base.py:197: FutureWarning: From version 0.24, get_params will raise an AttributeError if a parameter cannot be retrieved as an instance attribute. Previously it would return None.\n",
      "  FutureWarning)\n"
     ]
    },
    {
     "data": {
      "text/plain": [
       "ResidualsPlot(ax=<matplotlib.axes._subplots.AxesSubplot object at 0x7f3c4f519518>,\n",
       "              hist=True, is_fitted='auto', line_color=None, model=None,\n",
       "              test_alpha=None, test_color=None, train_alpha=None,\n",
       "              train_color=None)"
      ]
     },
     "execution_count": 64,
     "metadata": {},
     "output_type": "execute_result"
    }
   ],
   "source": [
    "regressor.residuals_plot(lr_model2, X_train, y_train,X_test, y_test )"
   ]
  },
  {
   "cell_type": "code",
   "execution_count": null,
   "metadata": {},
   "outputs": [],
   "source": []
  },
  {
   "cell_type": "markdown",
   "metadata": {},
   "source": [
    "## Regression Evaluation Exercise\n",
    "\n",
    "Using the forest fire data set\n",
    "\n",
    "* Evaluate the performance of your model with the R2 and MSE score (remember to split your data)\n",
    "* Plot a residuals plot"
   ]
  },
  {
   "cell_type": "code",
   "execution_count": null,
   "metadata": {},
   "outputs": [],
   "source": []
  },
  {
   "cell_type": "code",
   "execution_count": null,
   "metadata": {},
   "outputs": [],
   "source": []
  },
  {
   "cell_type": "code",
   "execution_count": null,
   "metadata": {},
   "outputs": [],
   "source": []
  },
  {
   "cell_type": "code",
   "execution_count": null,
   "metadata": {},
   "outputs": [],
   "source": []
  },
  {
   "cell_type": "markdown",
   "metadata": {},
   "source": [
    "## Classification\n",
    "\n",
    " \n",
    "In this Notebook we will examine bitcoin data and see if we can predict a buy or sell.\n",
    "\n",
    "https://www.kaggle.com/mczielinski/bitcoin-historical-data/data\n",
    "\n",
    "Data under CC BY-SA 4.0 License\n",
    "\n",
    "https://www.kaggle.com/mczielinski/bitcoin-historical-data"
   ]
  },
  {
   "cell_type": "code",
   "execution_count": 65,
   "metadata": {
    "lines_to_next_cell": 2
   },
   "outputs": [],
   "source": [
    "%matplotlib inline\n",
    "import matplotlib.pyplot as plt\n",
    "import numpy as np\n",
    "import pandas as pd\n",
    "from sklearn import ensemble, model_selection, preprocessing, tree\n",
    "from yellowbrick import classifier"
   ]
  },
  {
   "cell_type": "code",
   "execution_count": 66,
   "metadata": {},
   "outputs": [
    {
     "name": "stdout",
     "output_type": "stream",
     "text": [
      "CPU times: user 2.41 s, sys: 922 ms, total: 3.33 s\n",
      "Wall time: 3.41 s\n"
     ]
    }
   ],
   "source": [
    "%%time\n",
    "# Resampling data from minute interval to day\n",
    "bit_df = pd.read_csv('../data/coinbaseUSD_1-min_data_2014-12-01_to_2018-01-08.csv')\n",
    "# Convert unix time to datetime\n",
    "bit_df['date'] = pd.to_datetime(bit_df.Timestamp, unit='s')\n",
    "# Reset index\n",
    "bit_df = bit_df.set_index('date')\n",
    "# Rename columns so easier to code\n",
    "bit_df = bit_df.rename(columns={'Open':'open', 'High': 'hi', 'Low': 'lo', \n",
    "                       'Close': 'close', 'Volume_(BTC)': 'vol_btc',\n",
    "                       'Volume_(Currency)': 'vol_cur', \n",
    "                       'Weighted_Price': 'wp', 'Timestamp': 'ts'})\n",
    "# Resample and only use recent samples that aren't missing\n",
    "bit_df = bit_df.resample('d').agg({'open': 'first', 'hi': 'max', \n",
    "    'lo': 'min', 'close': 'last', 'vol_btc': 'sum',\n",
    "    'vol_cur': 'sum', 'wp': 'mean', 'ts': 'min'}).iloc[-1000:]\n",
    "bit_df['buy'] = (bit_df.close.shift(-1) > bit_df.close).astype(int)\n",
    "# drop last row as it is not complete\n",
    "bit_df = bit_df.iloc[:-1]"
   ]
  },
  {
   "cell_type": "code",
   "execution_count": 67,
   "metadata": {},
   "outputs": [
    {
     "data": {
      "text/html": [
       "<div>\n",
       "<style scoped>\n",
       "    .dataframe tbody tr th:only-of-type {\n",
       "        vertical-align: middle;\n",
       "    }\n",
       "\n",
       "    .dataframe tbody tr th {\n",
       "        vertical-align: top;\n",
       "    }\n",
       "\n",
       "    .dataframe thead th {\n",
       "        text-align: right;\n",
       "    }\n",
       "</style>\n",
       "<table border=\"1\" class=\"dataframe\">\n",
       "  <thead>\n",
       "    <tr style=\"text-align: right;\">\n",
       "      <th></th>\n",
       "      <th>open</th>\n",
       "      <th>hi</th>\n",
       "      <th>lo</th>\n",
       "      <th>close</th>\n",
       "      <th>vol_btc</th>\n",
       "      <th>vol_cur</th>\n",
       "      <th>wp</th>\n",
       "      <th>ts</th>\n",
       "      <th>buy</th>\n",
       "    </tr>\n",
       "    <tr>\n",
       "      <th>date</th>\n",
       "      <th></th>\n",
       "      <th></th>\n",
       "      <th></th>\n",
       "      <th></th>\n",
       "      <th></th>\n",
       "      <th></th>\n",
       "      <th></th>\n",
       "      <th></th>\n",
       "      <th></th>\n",
       "    </tr>\n",
       "  </thead>\n",
       "  <tbody>\n",
       "    <tr>\n",
       "      <th>2015-04-15</th>\n",
       "      <td>221.05</td>\n",
       "      <td>224.52</td>\n",
       "      <td>218.09</td>\n",
       "      <td>224.35</td>\n",
       "      <td>9137.584626</td>\n",
       "      <td>2.029524e+06</td>\n",
       "      <td>222.270771</td>\n",
       "      <td>1.429056e+09</td>\n",
       "      <td>1</td>\n",
       "    </tr>\n",
       "    <tr>\n",
       "      <th>2015-04-16</th>\n",
       "      <td>224.35</td>\n",
       "      <td>230.75</td>\n",
       "      <td>223.66</td>\n",
       "      <td>229.45</td>\n",
       "      <td>8636.837666</td>\n",
       "      <td>1.970069e+06</td>\n",
       "      <td>227.779413</td>\n",
       "      <td>1.429142e+09</td>\n",
       "      <td>0</td>\n",
       "    </tr>\n",
       "    <tr>\n",
       "      <th>2015-04-17</th>\n",
       "      <td>229.45</td>\n",
       "      <td>230.08</td>\n",
       "      <td>220.46</td>\n",
       "      <td>223.62</td>\n",
       "      <td>7738.360003</td>\n",
       "      <td>1.741497e+06</td>\n",
       "      <td>224.970863</td>\n",
       "      <td>1.429229e+09</td>\n",
       "      <td>1</td>\n",
       "    </tr>\n",
       "    <tr>\n",
       "      <th>2015-04-18</th>\n",
       "      <td>223.55</td>\n",
       "      <td>224.04</td>\n",
       "      <td>222.18</td>\n",
       "      <td>224.02</td>\n",
       "      <td>5065.649127</td>\n",
       "      <td>1.131269e+06</td>\n",
       "      <td>223.398170</td>\n",
       "      <td>1.429315e+09</td>\n",
       "      <td>1</td>\n",
       "    </tr>\n",
       "    <tr>\n",
       "      <th>2015-04-19</th>\n",
       "      <td>224.02</td>\n",
       "      <td>226.72</td>\n",
       "      <td>223.44</td>\n",
       "      <td>224.03</td>\n",
       "      <td>5279.787312</td>\n",
       "      <td>1.185860e+06</td>\n",
       "      <td>224.667792</td>\n",
       "      <td>1.429402e+09</td>\n",
       "      <td>1</td>\n",
       "    </tr>\n",
       "    <tr>\n",
       "      <th>...</th>\n",
       "      <td>...</td>\n",
       "      <td>...</td>\n",
       "      <td>...</td>\n",
       "      <td>...</td>\n",
       "      <td>...</td>\n",
       "      <td>...</td>\n",
       "      <td>...</td>\n",
       "      <td>...</td>\n",
       "      <td>...</td>\n",
       "    </tr>\n",
       "    <tr>\n",
       "      <th>2018-01-03</th>\n",
       "      <td>14781.52</td>\n",
       "      <td>15400.00</td>\n",
       "      <td>14628.00</td>\n",
       "      <td>15098.14</td>\n",
       "      <td>17616.327677</td>\n",
       "      <td>2.642264e+08</td>\n",
       "      <td>14989.939350</td>\n",
       "      <td>1.514938e+09</td>\n",
       "      <td>1</td>\n",
       "    </tr>\n",
       "    <tr>\n",
       "      <th>2018-01-04</th>\n",
       "      <td>15098.23</td>\n",
       "      <td>15400.00</td>\n",
       "      <td>14230.00</td>\n",
       "      <td>15144.99</td>\n",
       "      <td>19567.016783</td>\n",
       "      <td>2.909045e+08</td>\n",
       "      <td>14851.477880</td>\n",
       "      <td>1.515024e+09</td>\n",
       "      <td>1</td>\n",
       "    </tr>\n",
       "    <tr>\n",
       "      <th>2018-01-05</th>\n",
       "      <td>15145.00</td>\n",
       "      <td>17178.00</td>\n",
       "      <td>14819.78</td>\n",
       "      <td>16960.01</td>\n",
       "      <td>22588.046307</td>\n",
       "      <td>3.619888e+08</td>\n",
       "      <td>15796.596968</td>\n",
       "      <td>1.515110e+09</td>\n",
       "      <td>1</td>\n",
       "    </tr>\n",
       "    <tr>\n",
       "      <th>2018-01-06</th>\n",
       "      <td>16960.01</td>\n",
       "      <td>17174.00</td>\n",
       "      <td>16251.01</td>\n",
       "      <td>17098.99</td>\n",
       "      <td>13744.804428</td>\n",
       "      <td>2.296885e+08</td>\n",
       "      <td>16661.988247</td>\n",
       "      <td>1.515197e+09</td>\n",
       "      <td>0</td>\n",
       "    </tr>\n",
       "    <tr>\n",
       "      <th>2018-01-07</th>\n",
       "      <td>17099.00</td>\n",
       "      <td>17115.01</td>\n",
       "      <td>15755.01</td>\n",
       "      <td>16174.22</td>\n",
       "      <td>12201.377159</td>\n",
       "      <td>2.002825e+08</td>\n",
       "      <td>16526.973583</td>\n",
       "      <td>1.515283e+09</td>\n",
       "      <td>0</td>\n",
       "    </tr>\n",
       "  </tbody>\n",
       "</table>\n",
       "<p>999 rows × 9 columns</p>\n",
       "</div>"
      ],
      "text/plain": [
       "                open        hi        lo     close       vol_btc  \\\n",
       "date                                                               \n",
       "2015-04-15    221.05    224.52    218.09    224.35   9137.584626   \n",
       "2015-04-16    224.35    230.75    223.66    229.45   8636.837666   \n",
       "2015-04-17    229.45    230.08    220.46    223.62   7738.360003   \n",
       "2015-04-18    223.55    224.04    222.18    224.02   5065.649127   \n",
       "2015-04-19    224.02    226.72    223.44    224.03   5279.787312   \n",
       "...              ...       ...       ...       ...           ...   \n",
       "2018-01-03  14781.52  15400.00  14628.00  15098.14  17616.327677   \n",
       "2018-01-04  15098.23  15400.00  14230.00  15144.99  19567.016783   \n",
       "2018-01-05  15145.00  17178.00  14819.78  16960.01  22588.046307   \n",
       "2018-01-06  16960.01  17174.00  16251.01  17098.99  13744.804428   \n",
       "2018-01-07  17099.00  17115.01  15755.01  16174.22  12201.377159   \n",
       "\n",
       "                 vol_cur            wp            ts  buy  \n",
       "date                                                       \n",
       "2015-04-15  2.029524e+06    222.270771  1.429056e+09    1  \n",
       "2015-04-16  1.970069e+06    227.779413  1.429142e+09    0  \n",
       "2015-04-17  1.741497e+06    224.970863  1.429229e+09    1  \n",
       "2015-04-18  1.131269e+06    223.398170  1.429315e+09    1  \n",
       "2015-04-19  1.185860e+06    224.667792  1.429402e+09    1  \n",
       "...                  ...           ...           ...  ...  \n",
       "2018-01-03  2.642264e+08  14989.939350  1.514938e+09    1  \n",
       "2018-01-04  2.909045e+08  14851.477880  1.515024e+09    1  \n",
       "2018-01-05  3.619888e+08  15796.596968  1.515110e+09    1  \n",
       "2018-01-06  2.296885e+08  16661.988247  1.515197e+09    0  \n",
       "2018-01-07  2.002825e+08  16526.973583  1.515283e+09    0  \n",
       "\n",
       "[999 rows x 9 columns]"
      ]
     },
     "execution_count": 67,
     "metadata": {},
     "output_type": "execute_result"
    }
   ],
   "source": [
    "bit_df"
   ]
  },
  {
   "cell_type": "code",
   "execution_count": 68,
   "metadata": {},
   "outputs": [
    {
     "data": {
      "text/plain": [
       "open       float64\n",
       "hi         float64\n",
       "lo         float64\n",
       "close      float64\n",
       "vol_btc    float64\n",
       "vol_cur    float64\n",
       "wp         float64\n",
       "ts         float64\n",
       "buy          int64\n",
       "dtype: object"
      ]
     },
     "execution_count": 68,
     "metadata": {},
     "output_type": "execute_result"
    }
   ],
   "source": [
    "bit_df.dtypes"
   ]
  },
  {
   "cell_type": "code",
   "execution_count": 69,
   "metadata": {},
   "outputs": [
    {
     "data": {
      "text/html": [
       "<div>\n",
       "<style scoped>\n",
       "    .dataframe tbody tr th:only-of-type {\n",
       "        vertical-align: middle;\n",
       "    }\n",
       "\n",
       "    .dataframe tbody tr th {\n",
       "        vertical-align: top;\n",
       "    }\n",
       "\n",
       "    .dataframe thead th {\n",
       "        text-align: right;\n",
       "    }\n",
       "</style>\n",
       "<table border=\"1\" class=\"dataframe\">\n",
       "  <thead>\n",
       "    <tr style=\"text-align: right;\">\n",
       "      <th></th>\n",
       "      <th>open</th>\n",
       "      <th>hi</th>\n",
       "      <th>lo</th>\n",
       "      <th>close</th>\n",
       "      <th>vol_btc</th>\n",
       "      <th>vol_cur</th>\n",
       "      <th>wp</th>\n",
       "      <th>ts</th>\n",
       "      <th>buy</th>\n",
       "    </tr>\n",
       "  </thead>\n",
       "  <tbody>\n",
       "    <tr>\n",
       "      <th>count</th>\n",
       "      <td>999.00000</td>\n",
       "      <td>999.000000</td>\n",
       "      <td>999.000000</td>\n",
       "      <td>999.000000</td>\n",
       "      <td>999.000000</td>\n",
       "      <td>9.990000e+02</td>\n",
       "      <td>999.000000</td>\n",
       "      <td>9.990000e+02</td>\n",
       "      <td>999.000000</td>\n",
       "    </tr>\n",
       "    <tr>\n",
       "      <th>mean</th>\n",
       "      <td>1838.11015</td>\n",
       "      <td>1914.705946</td>\n",
       "      <td>1757.861101</td>\n",
       "      <td>1854.054895</td>\n",
       "      <td>10350.019927</td>\n",
       "      <td>3.553735e+07</td>\n",
       "      <td>1842.224578</td>\n",
       "      <td>1.472170e+09</td>\n",
       "      <td>0.567568</td>\n",
       "    </tr>\n",
       "    <tr>\n",
       "      <th>std</th>\n",
       "      <td>3169.30283</td>\n",
       "      <td>3346.396825</td>\n",
       "      <td>2966.458499</td>\n",
       "      <td>3201.173766</td>\n",
       "      <td>9947.604406</td>\n",
       "      <td>1.097365e+08</td>\n",
       "      <td>3165.632076</td>\n",
       "      <td>2.492906e+07</td>\n",
       "      <td>0.495662</td>\n",
       "    </tr>\n",
       "    <tr>\n",
       "      <th>min</th>\n",
       "      <td>211.16000</td>\n",
       "      <td>224.040000</td>\n",
       "      <td>0.060000</td>\n",
       "      <td>211.160000</td>\n",
       "      <td>1525.187302</td>\n",
       "      <td>7.925465e+05</td>\n",
       "      <td>215.969046</td>\n",
       "      <td>1.429056e+09</td>\n",
       "      <td>0.000000</td>\n",
       "    </tr>\n",
       "    <tr>\n",
       "      <th>25%</th>\n",
       "      <td>384.61500</td>\n",
       "      <td>393.500000</td>\n",
       "      <td>371.300000</td>\n",
       "      <td>384.850000</td>\n",
       "      <td>5320.152105</td>\n",
       "      <td>2.297687e+06</td>\n",
       "      <td>384.227045</td>\n",
       "      <td>1.450613e+09</td>\n",
       "      <td>0.000000</td>\n",
       "    </tr>\n",
       "    <tr>\n",
       "      <th>50%</th>\n",
       "      <td>629.79000</td>\n",
       "      <td>639.850000</td>\n",
       "      <td>618.130000</td>\n",
       "      <td>630.830000</td>\n",
       "      <td>7367.614526</td>\n",
       "      <td>3.484114e+06</td>\n",
       "      <td>632.673702</td>\n",
       "      <td>1.472170e+09</td>\n",
       "      <td>1.000000</td>\n",
       "    </tr>\n",
       "    <tr>\n",
       "      <th>75%</th>\n",
       "      <td>1454.14500</td>\n",
       "      <td>1512.965000</td>\n",
       "      <td>1440.095000</td>\n",
       "      <td>1502.495000</td>\n",
       "      <td>11954.181722</td>\n",
       "      <td>1.985804e+07</td>\n",
       "      <td>1471.613323</td>\n",
       "      <td>1.493726e+09</td>\n",
       "      <td>1.000000</td>\n",
       "    </tr>\n",
       "    <tr>\n",
       "      <th>max</th>\n",
       "      <td>19650.02000</td>\n",
       "      <td>19891.990000</td>\n",
       "      <td>19010.000000</td>\n",
       "      <td>19650.010000</td>\n",
       "      <td>165763.024424</td>\n",
       "      <td>1.393385e+09</td>\n",
       "      <td>19537.276941</td>\n",
       "      <td>1.515283e+09</td>\n",
       "      <td>1.000000</td>\n",
       "    </tr>\n",
       "  </tbody>\n",
       "</table>\n",
       "</div>"
      ],
      "text/plain": [
       "              open            hi            lo         close        vol_btc  \\\n",
       "count    999.00000    999.000000    999.000000    999.000000     999.000000   \n",
       "mean    1838.11015   1914.705946   1757.861101   1854.054895   10350.019927   \n",
       "std     3169.30283   3346.396825   2966.458499   3201.173766    9947.604406   \n",
       "min      211.16000    224.040000      0.060000    211.160000    1525.187302   \n",
       "25%      384.61500    393.500000    371.300000    384.850000    5320.152105   \n",
       "50%      629.79000    639.850000    618.130000    630.830000    7367.614526   \n",
       "75%     1454.14500   1512.965000   1440.095000   1502.495000   11954.181722   \n",
       "max    19650.02000  19891.990000  19010.000000  19650.010000  165763.024424   \n",
       "\n",
       "            vol_cur            wp            ts         buy  \n",
       "count  9.990000e+02    999.000000  9.990000e+02  999.000000  \n",
       "mean   3.553735e+07   1842.224578  1.472170e+09    0.567568  \n",
       "std    1.097365e+08   3165.632076  2.492906e+07    0.495662  \n",
       "min    7.925465e+05    215.969046  1.429056e+09    0.000000  \n",
       "25%    2.297687e+06    384.227045  1.450613e+09    0.000000  \n",
       "50%    3.484114e+06    632.673702  1.472170e+09    1.000000  \n",
       "75%    1.985804e+07   1471.613323  1.493726e+09    1.000000  \n",
       "max    1.393385e+09  19537.276941  1.515283e+09    1.000000  "
      ]
     },
     "execution_count": 69,
     "metadata": {},
     "output_type": "execute_result"
    }
   ],
   "source": [
    "bit_df.describe()"
   ]
  },
  {
   "cell_type": "code",
   "execution_count": null,
   "metadata": {},
   "outputs": [],
   "source": []
  },
  {
   "cell_type": "markdown",
   "metadata": {},
   "source": [
    "## Decision Tree\n",
    "\n",
    "* The process of training classifier is to get X and y and call `.fit(X, y)`\n",
    "* To predict values of y (y hat), call `.predict(X)`\n",
    "* To get the accuracy call `.score(X, y)`"
   ]
  },
  {
   "cell_type": "code",
   "execution_count": 70,
   "metadata": {},
   "outputs": [],
   "source": [
    "ignore = {'buy'}\n",
    "cols = [c for c in bit_df.columns if c not in ignore]\n",
    "X = bit_df[cols]\n",
    "y = bit_df.buy\n",
    "X_train, X_test, y_train, y_test = model_selection.\\\n",
    "    train_test_split(X, y, test_size=.3, random_state=42)"
   ]
  },
  {
   "cell_type": "code",
   "execution_count": 71,
   "metadata": {},
   "outputs": [
    {
     "data": {
      "text/plain": [
       "0.4866666666666667"
      ]
     },
     "execution_count": 71,
     "metadata": {},
     "output_type": "execute_result"
    }
   ],
   "source": [
    "dt_model = tree.DecisionTreeClassifier(random_state=42)\n",
    "dt_model.fit(X_train, y_train)\n",
    "dt_model.score(X_test, y_test)"
   ]
  },
  {
   "cell_type": "code",
   "execution_count": 72,
   "metadata": {},
   "outputs": [
    {
     "data": {
      "text/plain": [
       "array([1, 0, 1, 1, 1, 1, 0, 0, 0, 1, 1, 1, 0, 0, 1, 0, 1, 1, 0, 0, 0, 1,\n",
       "       1, 0, 0, 1, 0, 0, 1, 1, 0, 1, 0, 1, 1, 1, 1, 0, 1, 1, 0, 1, 0, 0,\n",
       "       1, 0, 0, 1, 1, 1, 1, 1, 0, 1, 0, 1, 1, 0, 1, 1, 0, 1, 0, 1, 0, 0,\n",
       "       0, 1, 0, 0, 1, 1, 0, 0, 1, 1, 1, 0, 0, 1, 1, 0, 1, 1, 0, 1, 0, 1,\n",
       "       0, 0, 0, 0, 1, 0, 0, 1, 0, 0, 0, 1, 1, 0, 1, 1, 0, 0, 0, 0, 1, 1,\n",
       "       0, 0, 0, 1, 0, 1, 0, 1, 0, 0, 0, 0, 0, 0, 0, 1, 1, 0, 0, 0, 0, 1,\n",
       "       1, 0, 1, 0, 0, 0, 0, 0, 0, 0, 1, 1, 1, 1, 0, 0, 1, 0, 0, 1, 0, 0,\n",
       "       1, 1, 0, 0, 0, 1, 0, 1, 1, 0, 0, 0, 0, 1, 0, 0, 1, 0, 1, 1, 0, 0,\n",
       "       1, 1, 1, 0, 1, 1, 1, 1, 0, 0, 1, 1, 0, 1, 1, 1, 1, 1, 1, 1, 1, 1,\n",
       "       1, 1, 1, 1, 1, 0, 1, 1, 0, 1, 1, 1, 1, 1, 0, 0, 1, 0, 0, 0, 0, 1,\n",
       "       0, 0, 0, 1, 1, 1, 0, 0, 1, 0, 0, 1, 1, 1, 0, 1, 1, 0, 0, 1, 0, 0,\n",
       "       1, 1, 0, 1, 1, 1, 0, 0, 1, 1, 1, 1, 0, 1, 0, 1, 0, 0, 1, 1, 0, 1,\n",
       "       0, 0, 0, 0, 0, 0, 0, 0, 0, 0, 0, 1, 0, 1, 0, 1, 0, 1, 1, 1, 0, 1,\n",
       "       0, 0, 0, 1, 0, 1, 1, 0, 1, 0, 1, 1, 1, 1, 1, 0, 1, 1, 1, 1, 1, 1,\n",
       "       1, 1, 0, 1, 0, 0, 0, 0, 1, 1, 0, 0, 0, 0, 0, 1, 0, 1, 1, 1, 1, 1,\n",
       "       1, 1, 1, 1, 1, 1, 1, 0, 1, 1, 1, 1, 1, 0, 1, 1, 1, 0, 0, 0, 1, 1,\n",
       "       1, 1, 0, 0, 0, 0, 0, 1, 1, 1, 1, 0, 1, 1, 1, 0, 0, 1, 1, 0, 0, 1,\n",
       "       1, 1, 1, 1, 1, 1, 1, 1, 1, 1, 0, 1, 1, 0, 1, 1, 0, 1, 1, 1, 1, 1,\n",
       "       0, 0, 0, 0, 1, 1, 0, 1, 1, 1, 1, 1, 1, 1, 1, 1, 1, 1, 1, 1, 0, 1,\n",
       "       0, 1, 1, 1, 1, 1, 0, 1, 1, 1, 0, 0, 0, 0, 0, 0, 1, 1, 0, 0, 1, 0,\n",
       "       0, 1, 0, 1, 0, 1, 0, 1, 0, 0, 0, 0, 0, 0, 0, 1, 0, 0, 1, 0, 0, 0,\n",
       "       0, 0, 1, 0, 0, 0, 1, 1, 0, 0, 0, 0, 0, 1, 1, 0, 0, 0, 0, 0, 1, 0,\n",
       "       0, 0, 0, 0, 1, 0, 0, 0, 1, 1, 1, 0, 0, 1, 1, 1, 1, 0, 1, 0, 1, 1,\n",
       "       1, 0, 0, 1, 1, 1, 0, 0, 1, 0, 1, 0, 0, 1, 0, 0, 0, 0, 0, 0, 1, 1,\n",
       "       1, 1, 0, 0, 1, 1, 1, 1, 1, 0, 1, 1, 1, 1, 1, 1, 1, 0, 0, 1, 0, 1,\n",
       "       0, 0, 0, 0, 1, 1, 0, 0, 0, 1, 1, 0, 1, 0, 0, 1, 1, 0, 1, 1, 0, 0,\n",
       "       1, 1, 0, 1, 0, 0, 1, 1, 1, 0, 1, 1, 0, 1, 1, 0, 0, 0, 0, 1, 1, 0,\n",
       "       0, 0, 1, 1, 1, 1, 1, 1, 1, 1, 1, 0, 1, 0, 1, 0, 1, 1, 1, 1, 1, 1,\n",
       "       1, 1, 0, 1, 1, 1, 1, 0, 0, 1, 1, 1, 1, 1, 0, 0, 1, 1, 0, 0, 0, 1,\n",
       "       1, 0, 1, 1, 1, 0, 1, 0, 1, 1, 0, 1, 1, 1, 0, 1, 0, 1, 1, 1, 1, 1,\n",
       "       1, 0, 0, 1, 1, 0, 1, 1, 0, 0, 1, 1, 1, 1, 1, 0, 1, 1, 0, 1, 1, 0,\n",
       "       1, 1, 0, 1, 1, 1, 1, 1, 1, 0, 0, 1, 1, 1, 0, 1, 1, 1, 0, 0, 0, 1,\n",
       "       1, 1, 0, 0, 0, 1, 1, 1, 1, 0, 0, 0, 0, 1, 1, 0, 1, 1, 1, 1, 1, 0,\n",
       "       1, 0, 0, 0, 1, 0, 1, 1, 1, 1, 1, 1, 1, 1, 1, 1, 1, 1, 1, 1, 1, 1,\n",
       "       1, 1, 1, 1, 1, 1, 1, 1, 1, 0, 1, 1, 1, 1, 1, 1, 1, 0, 0, 1, 1, 1,\n",
       "       0, 0, 0, 0, 1, 0, 1, 1, 1, 1, 1, 1, 1, 0, 1, 1, 1, 1, 1, 1, 0, 0,\n",
       "       1, 0, 0, 1, 1, 1, 0, 0, 0, 0, 0, 1, 0, 0, 0, 0, 1, 0, 0, 0, 0, 0,\n",
       "       0, 0, 0, 0, 1, 1, 0, 0, 0, 0, 0, 0, 0, 0, 1, 0, 1, 0, 0, 1, 1, 0,\n",
       "       1, 1, 0, 0, 1, 1, 1, 0, 1, 1, 0, 1, 1, 1, 1, 1, 0, 1, 0, 1, 1, 0,\n",
       "       0, 1, 1, 1, 1, 0, 0, 1, 0, 0, 1, 1, 1, 0, 1, 0, 1, 1, 1, 0, 0, 0,\n",
       "       0, 0, 0, 1, 0, 0, 1, 0, 0, 0, 1, 1, 1, 1, 0, 0, 0, 0, 0, 0, 0, 1,\n",
       "       0, 0, 1, 1, 1, 1, 0, 1, 1, 1, 1, 1, 1, 1, 1, 1, 1, 1, 0, 0, 1, 1,\n",
       "       1, 0, 0, 1, 0, 0, 1, 1, 1, 1, 0, 1, 1, 1, 0, 1, 1, 0, 1, 1, 1, 1,\n",
       "       0, 0, 1, 1, 0, 0, 0, 0, 1, 1, 1, 1, 1, 0, 1, 1, 1, 1, 1, 1, 1, 0,\n",
       "       0, 0, 1, 1, 0, 0, 0, 1, 0, 0, 0, 0, 0, 0, 1, 0, 0, 0, 0, 0, 0, 0,\n",
       "       1, 0, 1, 1, 1, 1, 1, 0, 0])"
      ]
     },
     "execution_count": 72,
     "metadata": {},
     "output_type": "execute_result"
    }
   ],
   "source": [
    "dt_model.predict(X)"
   ]
  },
  {
   "cell_type": "code",
   "execution_count": 73,
   "metadata": {
    "lines_to_next_cell": 2
   },
   "outputs": [
    {
     "data": {
      "image/png": "[encoded data removed]",
      "text/plain": [
       "<Figure size 720x288 with 1 Axes>"
      ]
     },
     "metadata": {
      "needs_background": "light"
     },
     "output_type": "display_data"
    }
   ],
   "source": [
    "fig, ax = plt.subplots(figsize=(10,4))\n",
    "_ = tree.plot_tree(dt_model, ax=ax, feature_names=X.columns,\n",
    "               class_names=['Sell', 'Buy'],\n",
    "               filled=True)"
   ]
  },
  {
   "cell_type": "code",
   "execution_count": 74,
   "metadata": {},
   "outputs": [],
   "source": [
    "# note that this goes to a Unix path\n",
    "tree.export_graphviz(dt_model, out_file='/tmp/tree1.dot', \n",
    "                     feature_names=X.columns, class_names=['Sell', 'Buy'],\n",
    "                    filled=True\n",
    "                    )"
   ]
  },
  {
   "cell_type": "code",
   "execution_count": 75,
   "metadata": {},
   "outputs": [],
   "source": [
    "%%bash\n",
    "# This doesn't run on Windows. Also requires that you have graphviz installed (not a Python module)\n",
    "dot -Tpng -otree1.png /tmp/tree1.dot"
   ]
  },
  {
   "cell_type": "markdown",
   "metadata": {},
   "source": [
    "<img src=\"tree1.png\">"
   ]
  },
  {
   "cell_type": "code",
   "execution_count": null,
   "metadata": {},
   "outputs": [],
   "source": []
  },
  {
   "cell_type": "markdown",
   "metadata": {},
   "source": [
    "### Lab Data\n",
    "\n",
    "Mushroom data https://archive.ics.uci.edu/ml/datasets/Mushroom\n",
    "\n",
    "data in ../data/agaricus-lepiota.data.txt\n",
    "\n",
    "First column is class: edible=e, poisonous=p\n",
    "\n",
    "Attribute Information:\n",
    "* cap-shape: bell=b,conical=c,convex=x,flat=f, knobbed=k,sunken=s \n",
    "* cap-surface: fibrous=f,grooves=g,scaly=y,smooth=s \n",
    "* cap-color: brown=n,buff=b,cinnamon=c,gray=g,green=r,pink=p,purple=u,red=e,white=w,yellow=y \n",
    "* bruises?: bruises=t,no=f \n",
    "* odor: almond=a,anise=l,creosote=c,fishy=y,foul=f, musty=m,none=n,pungent=p,spicy=s \n",
    "* gill-attachment: attached=a,descending=d,free=f,notched=n \n",
    "* gill-spacing: close=c,crowded=w,distant=d \n",
    "* gill-size: broad=b,narrow=n \n",
    "* gill-color: black=k,brown=n,buff=b,chocolate=h,gray=g,green=r,orange=o,pink=p,purple=u,red=e, white=w,yellow=y \n",
    "* stalk-shape: enlarging=e,tapering=t \n",
    "* stalk-root: bulbous=b,club=c,cup=u,equal=e, rhizomorphs=z,rooted=r,missing=? \n",
    "* stalk-surface-above-ring: fibrous=f,scaly=y,silky=k,smooth=s \n",
    "* stalk-surface-below-ring: fibrous=f,scaly=y,silky=k,smooth=s \n",
    "* stalk-color-above-ring: brown=n,buff=b,cinnamon=c,gray=g,orange=o, pink=p,red=e,white=w,yellow=y \n",
    "* stalk-color-below-ring: brown=n,buff=b,cinnamon=c,gray=g,orange=o, pink=p,red=e,white=w,yellow=y \n",
    "* veil-type: partial=p,universal=u \n",
    "* veil-color: brown=n,orange=o,white=w,yellow=y \n",
    "* ring-number: none=n,one=o,two=t \n",
    "* ring-type: cobwebby=c,evanescent=e,flaring=f,large=l, none=n,pendant=p,sheathing=s,zone=z \n",
    "* spore-print-color: black=k,brown=n,buff=b,chocolate=h,green=r, orange=o,purple=u,white=w,yellow=y \n",
    "* population: abundant=a,clustered=c,numerous=n, scattered=s,several=v,solitary=y \n",
    "* habitat: grasses=g,leaves=l,meadows=m,paths=p, urban=u,waste=w,woods=d"
   ]
  },
  {
   "cell_type": "code",
   "execution_count": 76,
   "metadata": {},
   "outputs": [],
   "source": [
    "mush_df = pd.read_csv('../data/agaricus-lepiota.data.txt',\n",
    "     names='class,cap_shape,cap_surface,cap_color,bruises,'\n",
    "     'odor,g_attachment,g_spacing,g_size,g_color,s_shape,'\n",
    "     's_root,s_surface_a,s_surface_b,s_color_a,s_color_b,'\n",
    "     'v_type,v_color,ring_num,ring_type,spore_color,pop,hab'.split(','))\n",
    "mush_df = pd.get_dummies(mush_df, columns=mush_df.columns).drop(['class_e'],axis=1)"
   ]
  },
  {
   "cell_type": "code",
   "execution_count": null,
   "metadata": {},
   "outputs": [],
   "source": []
  },
  {
   "cell_type": "markdown",
   "metadata": {},
   "source": [
    "## Predict Exercise\n",
    "\n",
    "* Create a decision tree to model whether a mushroom is poisonous. \n",
    "* What is the score?"
   ]
  },
  {
   "cell_type": "code",
   "execution_count": null,
   "metadata": {
    "lines_to_next_cell": 2
   },
   "outputs": [],
   "source": []
  },
  {
   "cell_type": "markdown",
   "metadata": {},
   "source": [
    "## Classification Evaluation"
   ]
  },
  {
   "cell_type": "code",
   "execution_count": 77,
   "metadata": {},
   "outputs": [
    {
     "data": {
      "text/plain": [
       "0.4866666666666667"
      ]
     },
     "execution_count": 77,
     "metadata": {},
     "output_type": "execute_result"
    }
   ],
   "source": [
    "dt_model = tree.DecisionTreeClassifier(random_state=42)\n",
    "dt_model.fit(X_train, y_train)\n",
    "dt_model.score(X_test, y_test)"
   ]
  },
  {
   "cell_type": "code",
   "execution_count": 78,
   "metadata": {},
   "outputs": [
    {
     "data": {
      "text/plain": [
       "0.4866666666666667"
      ]
     },
     "execution_count": 78,
     "metadata": {},
     "output_type": "execute_result"
    }
   ],
   "source": [
    "metrics.accuracy_score(y_test, dt_model.predict(X_test))"
   ]
  },
  {
   "cell_type": "code",
   "execution_count": 79,
   "metadata": {},
   "outputs": [
    {
     "data": {
      "text/plain": [
       "0.5506329113924051"
      ]
     },
     "execution_count": 79,
     "metadata": {},
     "output_type": "execute_result"
    }
   ],
   "source": [
    "metrics.precision_score(y_test, dt_model.predict(X_test))"
   ]
  },
  {
   "cell_type": "code",
   "execution_count": 80,
   "metadata": {},
   "outputs": [
    {
     "data": {
      "text/plain": [
       "0.5117647058823529"
      ]
     },
     "execution_count": 80,
     "metadata": {},
     "output_type": "execute_result"
    }
   ],
   "source": [
    "metrics.recall_score(y_test, dt_model.predict(X_test))"
   ]
  },
  {
   "cell_type": "code",
   "execution_count": 81,
   "metadata": {},
   "outputs": [
    {
     "name": "stderr",
     "output_type": "stream",
     "text": [
      "/home/matt/.envs/env36/lib/python3.6/site-packages/sklearn/base.py:197: FutureWarning: From version 0.24, get_params will raise an AttributeError if a parameter cannot be retrieved as an instance attribute. Previously it would return None.\n",
      "  FutureWarning)\n"
     ]
    },
    {
     "data": {
      "image/png": "[encoded data removed]",
      "text/plain": [
       "<Figure size 432x288 with 1 Axes>"
      ]
     },
     "metadata": {
      "needs_background": "light"
     },
     "output_type": "display_data"
    },
    {
     "name": "stderr",
     "output_type": "stream",
     "text": [
      "/home/matt/.envs/env36/lib/python3.6/site-packages/sklearn/base.py:197: FutureWarning: From version 0.24, get_params will raise an AttributeError if a parameter cannot be retrieved as an instance attribute. Previously it would return None.\n",
      "  FutureWarning)\n"
     ]
    },
    {
     "data": {
      "text/plain": [
       "ConfusionMatrix(ax=<matplotlib.axes._subplots.AxesSubplot object at 0x7f3c4e6ad390>,\n",
       "                classes=None,\n",
       "                cmap=<matplotlib.colors.ListedColormap object at 0x7f3c4e6606a0>,\n",
       "                encoder=None, fontsize=None, force_model=False,\n",
       "                is_fitted='auto', model=None, percent=False,\n",
       "                sample_weight=None)"
      ]
     },
     "execution_count": 81,
     "metadata": {},
     "output_type": "execute_result"
    }
   ],
   "source": [
    "classifier.confusion_matrix(dt_model, X_train, y_train, X_test, y_test)"
   ]
  },
  {
   "cell_type": "code",
   "execution_count": 82,
   "metadata": {},
   "outputs": [
    {
     "data": {
      "image/png": "[encoded data removed]",
      "text/plain": [
       "<Figure size 432x288 with 1 Axes>"
      ]
     },
     "metadata": {
      "needs_background": "light"
     },
     "output_type": "display_data"
    },
    {
     "name": "stderr",
     "output_type": "stream",
     "text": [
      "/home/matt/.envs/env36/lib/python3.6/site-packages/sklearn/base.py:197: FutureWarning: From version 0.24, get_params will raise an AttributeError if a parameter cannot be retrieved as an instance attribute. Previously it would return None.\n",
      "  FutureWarning)\n"
     ]
    },
    {
     "data": {
      "text/plain": [
       "ConfusionMatrix(ax=<matplotlib.axes._subplots.AxesSubplot object at 0x7f3c4e68b710>,\n",
       "                classes=['sell', 'buy'],\n",
       "                cmap=<matplotlib.colors.ListedColormap object at 0x7f3c4e6403c8>,\n",
       "                encoder=None, fontsize=None, force_model=False,\n",
       "                is_fitted='auto', model=None, percent=False,\n",
       "                sample_weight=None)"
      ]
     },
     "execution_count": 82,
     "metadata": {},
     "output_type": "execute_result"
    }
   ],
   "source": [
    "classifier.confusion_matrix(dt_model, X_train, y_train, X_test, y_test,\n",
    "                   classes=['sell', 'buy'])"
   ]
  },
  {
   "cell_type": "code",
   "execution_count": 83,
   "metadata": {},
   "outputs": [
    {
     "data": {
      "image/png": "[encoded data removed]",
      "text/plain": [
       "<Figure size 432x288 with 1 Axes>"
      ]
     },
     "metadata": {
      "needs_background": "light"
     },
     "output_type": "display_data"
    },
    {
     "name": "stderr",
     "output_type": "stream",
     "text": [
      "/home/matt/.envs/env36/lib/python3.6/site-packages/sklearn/base.py:197: FutureWarning: From version 0.24, get_params will raise an AttributeError if a parameter cannot be retrieved as an instance attribute. Previously it would return None.\n",
      "  FutureWarning)\n"
     ]
    },
    {
     "data": {
      "text/plain": [
       "ROCAUC(ax=<matplotlib.axes._subplots.AxesSubplot object at 0x7f3c4e68b588>,\n",
       "       classes=['sell', 'buy'], encoder=None, force_model=False,\n",
       "       is_fitted='auto', macro=False, micro=False, model=None, per_class=True)"
      ]
     },
     "execution_count": 83,
     "metadata": {},
     "output_type": "execute_result"
    }
   ],
   "source": [
    "classifier.roc_auc(dt_model, X_train, y_train, X_test, y_test,\n",
    "                   classes=['sell', 'buy'], micro=False, macro=False)"
   ]
  },
  {
   "cell_type": "code",
   "execution_count": 84,
   "metadata": {},
   "outputs": [
    {
     "data": {
      "image/png": "[encoded data removed]",
      "text/plain": [
       "<Figure size 432x288 with 1 Axes>"
      ]
     },
     "metadata": {
      "needs_background": "light"
     },
     "output_type": "display_data"
    },
    {
     "name": "stderr",
     "output_type": "stream",
     "text": [
      "/home/matt/.envs/env36/lib/python3.6/site-packages/sklearn/base.py:197: FutureWarning: From version 0.24, get_params will raise an AttributeError if a parameter cannot be retrieved as an instance attribute. Previously it would return None.\n",
      "  FutureWarning)\n"
     ]
    },
    {
     "data": {
      "text/plain": [
       "PrecisionRecallCurve(ap_score=True,\n",
       "                     ax=<matplotlib.axes._subplots.AxesSubplot object at 0x7f3c94beb048>,\n",
       "                     classes=['sell', 'buy'], encoder=None, fill_area=True,\n",
       "                     fill_opacity=0.2, force_model=False, is_fitted='auto',\n",
       "                     iso_f1_curves=False, iso_f1_values={0.2, 0.4, 0.6, 0.8},\n",
       "                     line_opacity=0.8, micro=False, model=None,\n",
       "                     per_class=False)"
      ]
     },
     "execution_count": 84,
     "metadata": {},
     "output_type": "execute_result"
    }
   ],
   "source": [
    "classifier.precision_recall_curve(dt_model, X_train, y_train, X_test, y_test,\n",
    "                   classes=['sell', 'buy'], micro=False, macro=False)"
   ]
  },
  {
   "cell_type": "code",
   "execution_count": null,
   "metadata": {},
   "outputs": [],
   "source": []
  },
  {
   "cell_type": "markdown",
   "metadata": {},
   "source": [
    "## Classification Evaluation Exercise\n",
    "With the mushroom dataset\n",
    "* Evaluate the accuracy\n",
    "* Plot a confusion matrix\n",
    "* Plot an ROC "
   ]
  },
  {
   "cell_type": "code",
   "execution_count": null,
   "metadata": {},
   "outputs": [],
   "source": []
  },
  {
   "cell_type": "code",
   "execution_count": null,
   "metadata": {},
   "outputs": [],
   "source": []
  },
  {
   "cell_type": "code",
   "execution_count": null,
   "metadata": {},
   "outputs": [],
   "source": []
  },
  {
   "cell_type": "code",
   "execution_count": null,
   "metadata": {},
   "outputs": [],
   "source": []
  },
  {
   "cell_type": "code",
   "execution_count": null,
   "metadata": {
    "lines_to_next_cell": 2
   },
   "outputs": [],
   "source": []
  }
 ],
 "metadata": {
  "kernelspec": {
   "display_name": "Python 3",
   "language": "python",
   "name": "python3"
  },
  "language_info": {
   "codemirror_mode": {
    "name": "ipython",
    "version": 3
   },
   "file_extension": ".py",
   "mimetype": "text/x-python",
   "name": "python",
   "nbconvert_exporter": "python",
   "pygments_lexer": "ipython3",
   "version": "3.6.9"
  }
 },
 "nbformat": 4,
 "nbformat_minor": 4
}
