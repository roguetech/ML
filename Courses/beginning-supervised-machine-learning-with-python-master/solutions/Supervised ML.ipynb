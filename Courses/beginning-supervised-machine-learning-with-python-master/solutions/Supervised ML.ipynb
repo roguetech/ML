{
 "cells": [
  {
   "cell_type": "markdown",
   "metadata": {},
   "source": [
    "# Supervised Learning"
   ]
  },
  {
   "cell_type": "markdown",
   "metadata": {},
   "source": [
    "## Regression\n",
    "In this Notebook we will examine bitcoin prices and see if we can predict the value.\n",
    "\n",
    "https://www.kaggle.com/mczielinski/bitcoin-historical-data/data\n",
    "\n",
    "Data under CC BY-SA 4.0 License\n",
    "\n",
    "https://www.kaggle.com/mczielinski/bitcoin-historical-data"
   ]
  },
  {
   "cell_type": "code",
   "execution_count": 88,
   "metadata": {},
   "outputs": [],
   "source": [
    "%matplotlib inline\n",
    "    \n",
    "import matplotlib.pyplot as plt\n",
    "import numpy as np\n",
    "import pandas as pd\n",
    "from sklearn import ensemble, linear_model, model_selection, preprocessing, svm\n",
    "from sklearn import metrics \n",
    "from yellowbrick import regressor "
   ]
  },
  {
   "cell_type": "code",
   "execution_count": 4,
   "metadata": {},
   "outputs": [
    {
     "name": "stdout",
     "output_type": "stream",
     "text": [
      "CPU times: user 1.22 s, sys: 469 ms, total: 1.69 s\n",
      "Wall time: 1.69 s\n"
     ]
    }
   ],
   "source": [
    " %%time\n",
    "# Resampling data from minute interval to day\n",
    "bit_df = pd.read_csv('../data/coinbaseUSD_1-min_data_2014-12-01_to_2018-01-08.csv')\n",
    "# Convert unix time to datetime\n",
    "bit_df['date'] = pd.to_datetime(bit_df.Timestamp, unit='s')\n",
    "# Reset index\n",
    "bit_df = bit_df.set_index('date')\n",
    "# Rename columns so easier to code\n",
    "bit_df = bit_df.rename(columns={'Open':'open', 'High': 'hi', 'Low': 'lo', \n",
    "                       'Close': 'close', 'Volume_(BTC)': 'vol_btc',\n",
    "                       'Volume_(Currency)': 'vol_cur', \n",
    "                       'Weighted_Price': 'wp', 'Timestamp': 'ts'})\n",
    "# Resample and only use recent samples that aren't missing\n",
    "bit_df = bit_df.resample('d').agg({'open': 'first', 'hi': 'max', \n",
    "    'lo': 'min', 'close': 'last', 'vol_btc': 'sum',\n",
    "    'vol_cur': 'sum', 'wp': 'mean', 'ts': 'min'}).iloc[-1000:]\n",
    "# drop last row as it is not complete\n",
    "bit_df = bit_df.iloc[:-1]"
   ]
  },
  {
   "cell_type": "code",
   "execution_count": 5,
   "metadata": {},
   "outputs": [
    {
     "data": {
      "text/html": [
       "<div>\n",
       "<style scoped>\n",
       "    .dataframe tbody tr th:only-of-type {\n",
       "        vertical-align: middle;\n",
       "    }\n",
       "\n",
       "    .dataframe tbody tr th {\n",
       "        vertical-align: top;\n",
       "    }\n",
       "\n",
       "    .dataframe thead th {\n",
       "        text-align: right;\n",
       "    }\n",
       "</style>\n",
       "<table border=\"1\" class=\"dataframe\">\n",
       "  <thead>\n",
       "    <tr style=\"text-align: right;\">\n",
       "      <th></th>\n",
       "      <th>open</th>\n",
       "      <th>hi</th>\n",
       "      <th>lo</th>\n",
       "      <th>close</th>\n",
       "      <th>vol_btc</th>\n",
       "      <th>vol_cur</th>\n",
       "      <th>wp</th>\n",
       "      <th>ts</th>\n",
       "    </tr>\n",
       "    <tr>\n",
       "      <th>date</th>\n",
       "      <th></th>\n",
       "      <th></th>\n",
       "      <th></th>\n",
       "      <th></th>\n",
       "      <th></th>\n",
       "      <th></th>\n",
       "      <th></th>\n",
       "      <th></th>\n",
       "    </tr>\n",
       "  </thead>\n",
       "  <tbody>\n",
       "    <tr>\n",
       "      <th>2015-04-15</th>\n",
       "      <td>221.05</td>\n",
       "      <td>224.52</td>\n",
       "      <td>218.09</td>\n",
       "      <td>224.35</td>\n",
       "      <td>9137.584626</td>\n",
       "      <td>2.029524e+06</td>\n",
       "      <td>222.270771</td>\n",
       "      <td>1.429056e+09</td>\n",
       "    </tr>\n",
       "    <tr>\n",
       "      <th>2015-04-16</th>\n",
       "      <td>224.35</td>\n",
       "      <td>230.75</td>\n",
       "      <td>223.66</td>\n",
       "      <td>229.45</td>\n",
       "      <td>8636.837666</td>\n",
       "      <td>1.970069e+06</td>\n",
       "      <td>227.779413</td>\n",
       "      <td>1.429142e+09</td>\n",
       "    </tr>\n",
       "    <tr>\n",
       "      <th>2015-04-17</th>\n",
       "      <td>229.45</td>\n",
       "      <td>230.08</td>\n",
       "      <td>220.46</td>\n",
       "      <td>223.62</td>\n",
       "      <td>7738.360003</td>\n",
       "      <td>1.741497e+06</td>\n",
       "      <td>224.970863</td>\n",
       "      <td>1.429229e+09</td>\n",
       "    </tr>\n",
       "    <tr>\n",
       "      <th>2015-04-18</th>\n",
       "      <td>223.55</td>\n",
       "      <td>224.04</td>\n",
       "      <td>222.18</td>\n",
       "      <td>224.02</td>\n",
       "      <td>5065.649127</td>\n",
       "      <td>1.131269e+06</td>\n",
       "      <td>223.398170</td>\n",
       "      <td>1.429315e+09</td>\n",
       "    </tr>\n",
       "    <tr>\n",
       "      <th>2015-04-19</th>\n",
       "      <td>224.02</td>\n",
       "      <td>226.72</td>\n",
       "      <td>223.44</td>\n",
       "      <td>224.03</td>\n",
       "      <td>5279.787312</td>\n",
       "      <td>1.185860e+06</td>\n",
       "      <td>224.667792</td>\n",
       "      <td>1.429402e+09</td>\n",
       "    </tr>\n",
       "    <tr>\n",
       "      <th>...</th>\n",
       "      <td>...</td>\n",
       "      <td>...</td>\n",
       "      <td>...</td>\n",
       "      <td>...</td>\n",
       "      <td>...</td>\n",
       "      <td>...</td>\n",
       "      <td>...</td>\n",
       "      <td>...</td>\n",
       "    </tr>\n",
       "    <tr>\n",
       "      <th>2018-01-03</th>\n",
       "      <td>14781.52</td>\n",
       "      <td>15400.00</td>\n",
       "      <td>14628.00</td>\n",
       "      <td>15098.14</td>\n",
       "      <td>17616.327677</td>\n",
       "      <td>2.642264e+08</td>\n",
       "      <td>14989.939350</td>\n",
       "      <td>1.514938e+09</td>\n",
       "    </tr>\n",
       "    <tr>\n",
       "      <th>2018-01-04</th>\n",
       "      <td>15098.23</td>\n",
       "      <td>15400.00</td>\n",
       "      <td>14230.00</td>\n",
       "      <td>15144.99</td>\n",
       "      <td>19567.016783</td>\n",
       "      <td>2.909045e+08</td>\n",
       "      <td>14851.477880</td>\n",
       "      <td>1.515024e+09</td>\n",
       "    </tr>\n",
       "    <tr>\n",
       "      <th>2018-01-05</th>\n",
       "      <td>15145.00</td>\n",
       "      <td>17178.00</td>\n",
       "      <td>14819.78</td>\n",
       "      <td>16960.01</td>\n",
       "      <td>22588.046307</td>\n",
       "      <td>3.619888e+08</td>\n",
       "      <td>15796.596968</td>\n",
       "      <td>1.515110e+09</td>\n",
       "    </tr>\n",
       "    <tr>\n",
       "      <th>2018-01-06</th>\n",
       "      <td>16960.01</td>\n",
       "      <td>17174.00</td>\n",
       "      <td>16251.01</td>\n",
       "      <td>17098.99</td>\n",
       "      <td>13744.804428</td>\n",
       "      <td>2.296885e+08</td>\n",
       "      <td>16661.988247</td>\n",
       "      <td>1.515197e+09</td>\n",
       "    </tr>\n",
       "    <tr>\n",
       "      <th>2018-01-07</th>\n",
       "      <td>17099.00</td>\n",
       "      <td>17115.01</td>\n",
       "      <td>15755.01</td>\n",
       "      <td>16174.22</td>\n",
       "      <td>12201.377159</td>\n",
       "      <td>2.002825e+08</td>\n",
       "      <td>16526.973583</td>\n",
       "      <td>1.515283e+09</td>\n",
       "    </tr>\n",
       "  </tbody>\n",
       "</table>\n",
       "<p>999 rows × 8 columns</p>\n",
       "</div>"
      ],
      "text/plain": [
       "                open        hi        lo     close       vol_btc  \\\n",
       "date                                                               \n",
       "2015-04-15    221.05    224.52    218.09    224.35   9137.584626   \n",
       "2015-04-16    224.35    230.75    223.66    229.45   8636.837666   \n",
       "2015-04-17    229.45    230.08    220.46    223.62   7738.360003   \n",
       "2015-04-18    223.55    224.04    222.18    224.02   5065.649127   \n",
       "2015-04-19    224.02    226.72    223.44    224.03   5279.787312   \n",
       "...              ...       ...       ...       ...           ...   \n",
       "2018-01-03  14781.52  15400.00  14628.00  15098.14  17616.327677   \n",
       "2018-01-04  15098.23  15400.00  14230.00  15144.99  19567.016783   \n",
       "2018-01-05  15145.00  17178.00  14819.78  16960.01  22588.046307   \n",
       "2018-01-06  16960.01  17174.00  16251.01  17098.99  13744.804428   \n",
       "2018-01-07  17099.00  17115.01  15755.01  16174.22  12201.377159   \n",
       "\n",
       "                 vol_cur            wp            ts  \n",
       "date                                                  \n",
       "2015-04-15  2.029524e+06    222.270771  1.429056e+09  \n",
       "2015-04-16  1.970069e+06    227.779413  1.429142e+09  \n",
       "2015-04-17  1.741497e+06    224.970863  1.429229e+09  \n",
       "2015-04-18  1.131269e+06    223.398170  1.429315e+09  \n",
       "2015-04-19  1.185860e+06    224.667792  1.429402e+09  \n",
       "...                  ...           ...           ...  \n",
       "2018-01-03  2.642264e+08  14989.939350  1.514938e+09  \n",
       "2018-01-04  2.909045e+08  14851.477880  1.515024e+09  \n",
       "2018-01-05  3.619888e+08  15796.596968  1.515110e+09  \n",
       "2018-01-06  2.296885e+08  16661.988247  1.515197e+09  \n",
       "2018-01-07  2.002825e+08  16526.973583  1.515283e+09  \n",
       "\n",
       "[999 rows x 8 columns]"
      ]
     },
     "execution_count": 5,
     "metadata": {},
     "output_type": "execute_result"
    }
   ],
   "source": [
    " bit_df"
   ]
  },
  {
   "cell_type": "code",
   "execution_count": 6,
   "metadata": {},
   "outputs": [
    {
     "data": {
      "text/plain": [
       "open       float64\n",
       "hi         float64\n",
       "lo         float64\n",
       "close      float64\n",
       "vol_btc    float64\n",
       "vol_cur    float64\n",
       "wp         float64\n",
       "ts         float64\n",
       "dtype: object"
      ]
     },
     "execution_count": 6,
     "metadata": {},
     "output_type": "execute_result"
    }
   ],
   "source": [
    "bit_df.dtypes"
   ]
  },
  {
   "cell_type": "code",
   "execution_count": 7,
   "metadata": {},
   "outputs": [
    {
     "data": {
      "text/html": [
       "<div>\n",
       "<style scoped>\n",
       "    .dataframe tbody tr th:only-of-type {\n",
       "        vertical-align: middle;\n",
       "    }\n",
       "\n",
       "    .dataframe tbody tr th {\n",
       "        vertical-align: top;\n",
       "    }\n",
       "\n",
       "    .dataframe thead th {\n",
       "        text-align: right;\n",
       "    }\n",
       "</style>\n",
       "<table border=\"1\" class=\"dataframe\">\n",
       "  <thead>\n",
       "    <tr style=\"text-align: right;\">\n",
       "      <th></th>\n",
       "      <th>open</th>\n",
       "      <th>hi</th>\n",
       "      <th>lo</th>\n",
       "      <th>close</th>\n",
       "      <th>vol_btc</th>\n",
       "      <th>vol_cur</th>\n",
       "      <th>wp</th>\n",
       "      <th>ts</th>\n",
       "    </tr>\n",
       "  </thead>\n",
       "  <tbody>\n",
       "    <tr>\n",
       "      <th>count</th>\n",
       "      <td>999.00000</td>\n",
       "      <td>999.000000</td>\n",
       "      <td>999.000000</td>\n",
       "      <td>999.000000</td>\n",
       "      <td>999.000000</td>\n",
       "      <td>9.990000e+02</td>\n",
       "      <td>999.000000</td>\n",
       "      <td>9.990000e+02</td>\n",
       "    </tr>\n",
       "    <tr>\n",
       "      <th>mean</th>\n",
       "      <td>1838.11015</td>\n",
       "      <td>1914.705946</td>\n",
       "      <td>1757.861101</td>\n",
       "      <td>1854.054895</td>\n",
       "      <td>10350.019927</td>\n",
       "      <td>3.553735e+07</td>\n",
       "      <td>1842.224578</td>\n",
       "      <td>1.472170e+09</td>\n",
       "    </tr>\n",
       "    <tr>\n",
       "      <th>std</th>\n",
       "      <td>3169.30283</td>\n",
       "      <td>3346.396825</td>\n",
       "      <td>2966.458499</td>\n",
       "      <td>3201.173766</td>\n",
       "      <td>9947.604406</td>\n",
       "      <td>1.097365e+08</td>\n",
       "      <td>3165.632076</td>\n",
       "      <td>2.492906e+07</td>\n",
       "    </tr>\n",
       "    <tr>\n",
       "      <th>min</th>\n",
       "      <td>211.16000</td>\n",
       "      <td>224.040000</td>\n",
       "      <td>0.060000</td>\n",
       "      <td>211.160000</td>\n",
       "      <td>1525.187302</td>\n",
       "      <td>7.925465e+05</td>\n",
       "      <td>215.969046</td>\n",
       "      <td>1.429056e+09</td>\n",
       "    </tr>\n",
       "    <tr>\n",
       "      <th>25%</th>\n",
       "      <td>384.61500</td>\n",
       "      <td>393.500000</td>\n",
       "      <td>371.300000</td>\n",
       "      <td>384.850000</td>\n",
       "      <td>5320.152105</td>\n",
       "      <td>2.297687e+06</td>\n",
       "      <td>384.227045</td>\n",
       "      <td>1.450613e+09</td>\n",
       "    </tr>\n",
       "    <tr>\n",
       "      <th>50%</th>\n",
       "      <td>629.79000</td>\n",
       "      <td>639.850000</td>\n",
       "      <td>618.130000</td>\n",
       "      <td>630.830000</td>\n",
       "      <td>7367.614526</td>\n",
       "      <td>3.484114e+06</td>\n",
       "      <td>632.673702</td>\n",
       "      <td>1.472170e+09</td>\n",
       "    </tr>\n",
       "    <tr>\n",
       "      <th>75%</th>\n",
       "      <td>1454.14500</td>\n",
       "      <td>1512.965000</td>\n",
       "      <td>1440.095000</td>\n",
       "      <td>1502.495000</td>\n",
       "      <td>11954.181722</td>\n",
       "      <td>1.985804e+07</td>\n",
       "      <td>1471.613323</td>\n",
       "      <td>1.493726e+09</td>\n",
       "    </tr>\n",
       "    <tr>\n",
       "      <th>max</th>\n",
       "      <td>19650.02000</td>\n",
       "      <td>19891.990000</td>\n",
       "      <td>19010.000000</td>\n",
       "      <td>19650.010000</td>\n",
       "      <td>165763.024424</td>\n",
       "      <td>1.393385e+09</td>\n",
       "      <td>19537.276941</td>\n",
       "      <td>1.515283e+09</td>\n",
       "    </tr>\n",
       "  </tbody>\n",
       "</table>\n",
       "</div>"
      ],
      "text/plain": [
       "              open            hi            lo         close        vol_btc  \\\n",
       "count    999.00000    999.000000    999.000000    999.000000     999.000000   \n",
       "mean    1838.11015   1914.705946   1757.861101   1854.054895   10350.019927   \n",
       "std     3169.30283   3346.396825   2966.458499   3201.173766    9947.604406   \n",
       "min      211.16000    224.040000      0.060000    211.160000    1525.187302   \n",
       "25%      384.61500    393.500000    371.300000    384.850000    5320.152105   \n",
       "50%      629.79000    639.850000    618.130000    630.830000    7367.614526   \n",
       "75%     1454.14500   1512.965000   1440.095000   1502.495000   11954.181722   \n",
       "max    19650.02000  19891.990000  19010.000000  19650.010000  165763.024424   \n",
       "\n",
       "            vol_cur            wp            ts  \n",
       "count  9.990000e+02    999.000000  9.990000e+02  \n",
       "mean   3.553735e+07   1842.224578  1.472170e+09  \n",
       "std    1.097365e+08   3165.632076  2.492906e+07  \n",
       "min    7.925465e+05    215.969046  1.429056e+09  \n",
       "25%    2.297687e+06    384.227045  1.450613e+09  \n",
       "50%    3.484114e+06    632.673702  1.472170e+09  \n",
       "75%    1.985804e+07   1471.613323  1.493726e+09  \n",
       "max    1.393385e+09  19537.276941  1.515283e+09  "
      ]
     },
     "execution_count": 7,
     "metadata": {},
     "output_type": "execute_result"
    }
   ],
   "source": [
    "bit_df.describe()"
   ]
  },
  {
   "cell_type": "code",
   "execution_count": 8,
   "metadata": {},
   "outputs": [
    {
     "data": {
      "text/plain": [
       "<matplotlib.axes._subplots.AxesSubplot at 0x7f3598a9cf60>"
      ]
     },
     "execution_count": 8,
     "metadata": {},
     "output_type": "execute_result"
    },
    {
     "name": "stderr",
     "output_type": "stream",
     "text": [
      "findfont: Font family ['sans-serif'] not found. Falling back to DejaVu Sans.\n",
      "findfont: Font family ['sans-serif'] not found. Falling back to DejaVu Sans.\n"
     ]
    },
    {
     "data": {
      "image/png": "[encoded data removed]",
      "text/plain": [
       "<Figure size 432x288 with 1 Axes>"
      ]
     },
     "metadata": {},
     "output_type": "display_data"
    }
   ],
   "source": [
    " bit_df.plot(figsize=(6,4))"
   ]
  },
  {
   "cell_type": "code",
   "execution_count": 9,
   "metadata": {},
   "outputs": [
    {
     "data": {
      "text/plain": [
       "<matplotlib.axes._subplots.AxesSubplot at 0x7f35992d10f0>"
      ]
     },
     "execution_count": 9,
     "metadata": {},
     "output_type": "execute_result"
    },
    {
     "data": {
      "image/png": "[encoded data removed]",
      "text/plain": [
       "<Figure size 432x288 with 1 Axes>"
      ]
     },
     "metadata": {},
     "output_type": "display_data"
    }
   ],
   "source": [
    " bit_df.close.plot(figsize=(6,4))"
   ]
  },
  {
   "cell_type": "markdown",
   "metadata": {},
   "source": [
    "### Can we predict tomorrow's close based on today's info?\n",
    "We will use a row of data for input. \n",
    "\n",
    "We will call the input X and the prediction y. This is called \"supervised learning\" as we will feed in both X and y to train the model.\n",
    "\n",
    "Let's use a model called Linear Regression. This performs better if we standardize the data (0 mean, 1 std).\n",
    "\n",
    "For 2 dimensions this takes the form of \n",
    "\n",
    "\\begin{align}y = m*x + b\\end{align}\n",
    "\n",
    "M is the slope (or coefficient) and b is the intercept.\n",
    "\n",
    "Let's see if we can predict the open price from the ts component."
   ]
  },
  {
   "cell_type": "code",
   "execution_count": 10,
   "metadata": {},
   "outputs": [
    {
     "name": "stderr",
     "output_type": "stream",
     "text": [
      "'c' argument looks like a single numeric RGB or RGBA sequence, which should be avoided as value-mapping will have precedence in case its length matches with 'x' & 'y'.  Please use a 2-D array with a single row if you really want to specify the same RGB or RGBA value for all points.\n"
     ]
    },
    {
     "data": {
      "text/plain": [
       "<matplotlib.axes._subplots.AxesSubplot at 0x7f3598ced978>"
      ]
     },
     "execution_count": 10,
     "metadata": {},
     "output_type": "execute_result"
    },
    {
     "data": {
      "image/png": "[encoded data removed]",
      "text/plain": [
       "<Figure size 432x288 with 1 Axes>"
      ]
     },
     "metadata": {},
     "output_type": "display_data"
    }
   ],
   "source": [
    "bit_df.plot(kind='scatter', x='ts', y='open', figsize=(6,4)) "
   ]
  },
  {
   "cell_type": "code",
   "execution_count": 12,
   "metadata": {},
   "outputs": [],
   "source": [
    " # Create our input (X) and our labelled data (y) to train our model\n",
    "X = bit_df[['ts']].iloc[:-1]  # drop last row because we don't know what future is\n",
    "y = bit_df.close.shift(-1).iloc[:-1]"
   ]
  },
  {
   "cell_type": "code",
   "execution_count": 13,
   "metadata": {},
   "outputs": [],
   "source": [
    " # Train a model and predict output if it were given X\n",
    "lr_model = linear_model.LinearRegression()\n",
    "lr_model.fit(X, y)\n",
    "pred = lr_model.predict(X)"
   ]
  },
  {
   "cell_type": "code",
   "execution_count": 15,
   "metadata": {},
   "outputs": [
    {
     "data": {
      "text/plain": [
       "[<matplotlib.lines.Line2D at 0x7f3598d9e978>]"
      ]
     },
     "execution_count": 15,
     "metadata": {},
     "output_type": "execute_result"
    },
    {
     "data": {
      "image/png": "[encoded data removed]",
      "text/plain": [
       "<Figure size 432x288 with 1 Axes>"
      ]
     },
     "metadata": {},
     "output_type": "display_data"
    }
   ],
   "source": [
    " # Plot the real data, our prediction (blue), and the model from the coeffictient (green shifted)\n",
    "ax = bit_df.plot(kind='scatter', x='ts', y='open', color='black', figsize=(6,4))\n",
    "ax.plot(X, pred, color='blue')  # matplotlib plot\n",
    "ax.plot(X, X*lr_model.coef_ + lr_model.intercept_+ 100, linestyle='--', color='green')"
   ]
  },
  {
   "cell_type": "code",
   "execution_count": 16,
   "metadata": {},
   "outputs": [
    {
     "data": {
      "text/plain": [
       "5905906.764562201"
      ]
     },
     "execution_count": 16,
     "metadata": {},
     "output_type": "execute_result"
    }
   ],
   "source": [
    " # Vertical distance between line and point is the error. *Ordinary Least Squares* \n",
    "# regression tries to minimize the square of the distance.\n",
    "mean_squared_error(y, pred) "
   ]
  },
  {
   "cell_type": "code",
   "execution_count": 17,
   "metadata": {},
   "outputs": [
    {
     "data": {
      "text/plain": [
       "5905906.764562201"
      ]
     },
     "execution_count": 17,
     "metadata": {},
     "output_type": "execute_result"
    }
   ],
   "source": [
    " # Vertical distance between line and point is the error. *Ordinary Least Squares* \n",
    "# regression tries to minimize the square of the distance.\n",
    "mean_squared_error(y, pred) "
   ]
  },
  {
   "cell_type": "code",
   "execution_count": null,
   "metadata": {},
   "outputs": [],
   "source": []
  },
  {
   "cell_type": "markdown",
   "metadata": {},
   "source": [
    "### Lab Data\n",
    " \n",
    "This exercise looks at predicting the size of forest fires based on meteorological data \n",
    "https://archive.ics.uci.edu/ml/datasets/Forest+Fires\n",
    "\n",
    "The file is in ../data/forestfires.csv\n",
    "\n",
    "* Read the data into a DataFrame\n",
    "* Examine the types\n",
    "* Describe the data\n",
    "\n",
    "Attribute information:   For more information, read [Cortez and Morais, 2007].\n",
    "\n",
    "1. X - x-axis spatial coordinate within the Montesinho park map: 1 to 9\n",
    "2. Y - y-axis spatial coordinate within the Montesinho park map: 2 to 9\n",
    "3. month - month of the year: \"jan\" to \"dec\" \n",
    "4. day - day of the week: \"mon\" to \"sun\"\n",
    "5. FFMC - FFMC index from the FWI system: 18.7 to 96.20\n",
    "6. DMC - DMC index from the FWI system: 1.1 to 291.3 \n",
    "7. DC - DC index from the FWI system: 7.9 to 860.6 \n",
    "8. ISI - ISI index from the FWI system: 0.0 to 56.10\n",
    "9. temp - temperature in Celsius degrees: 2.2 to 33.30\n",
    "10. RH - relative humidity in %: 15.0 to 100\n",
    "11. wind - wind speed in km/h: 0.40 to 9.40 \n",
    "12. rain - outside rain in mm/m2 : 0.0 to 6.4 \n",
    "13. area - the burned area of the forest (in ha): 0.00 to 1090.84 (this output variable is very skewed towards 0.0, thus it may make\n",
    "sense to model with the logarithm transform)."
   ]
  },
  {
   "cell_type": "code",
   "execution_count": 19,
   "metadata": {},
   "outputs": [],
   "source": [
    "ff = pd.read_csv('../data/forestfires.csv') "
   ]
  },
  {
   "cell_type": "code",
   "execution_count": 20,
   "metadata": {},
   "outputs": [
    {
     "data": {
      "text/plain": [
       "X          int64\n",
       "Y          int64\n",
       "month     object\n",
       "day       object\n",
       "FFMC     float64\n",
       "DMC      float64\n",
       "DC       float64\n",
       "ISI      float64\n",
       "temp     float64\n",
       "RH         int64\n",
       "wind     float64\n",
       "rain     float64\n",
       "area     float64\n",
       "dtype: object"
      ]
     },
     "execution_count": 20,
     "metadata": {},
     "output_type": "execute_result"
    }
   ],
   "source": [
    "ff.dtypes "
   ]
  },
  {
   "cell_type": "code",
   "execution_count": 21,
   "metadata": {},
   "outputs": [
    {
     "data": {
      "text/html": [
       "<div>\n",
       "<style scoped>\n",
       "    .dataframe tbody tr th:only-of-type {\n",
       "        vertical-align: middle;\n",
       "    }\n",
       "\n",
       "    .dataframe tbody tr th {\n",
       "        vertical-align: top;\n",
       "    }\n",
       "\n",
       "    .dataframe thead th {\n",
       "        text-align: right;\n",
       "    }\n",
       "</style>\n",
       "<table border=\"1\" class=\"dataframe\">\n",
       "  <thead>\n",
       "    <tr style=\"text-align: right;\">\n",
       "      <th></th>\n",
       "      <th>X</th>\n",
       "      <th>Y</th>\n",
       "      <th>FFMC</th>\n",
       "      <th>DMC</th>\n",
       "      <th>DC</th>\n",
       "      <th>ISI</th>\n",
       "      <th>temp</th>\n",
       "      <th>RH</th>\n",
       "      <th>wind</th>\n",
       "      <th>rain</th>\n",
       "      <th>area</th>\n",
       "    </tr>\n",
       "  </thead>\n",
       "  <tbody>\n",
       "    <tr>\n",
       "      <th>count</th>\n",
       "      <td>517.000000</td>\n",
       "      <td>517.000000</td>\n",
       "      <td>517.000000</td>\n",
       "      <td>517.000000</td>\n",
       "      <td>517.000000</td>\n",
       "      <td>517.000000</td>\n",
       "      <td>517.000000</td>\n",
       "      <td>517.000000</td>\n",
       "      <td>517.000000</td>\n",
       "      <td>517.000000</td>\n",
       "      <td>517.000000</td>\n",
       "    </tr>\n",
       "    <tr>\n",
       "      <th>mean</th>\n",
       "      <td>4.669246</td>\n",
       "      <td>4.299807</td>\n",
       "      <td>90.644681</td>\n",
       "      <td>110.872340</td>\n",
       "      <td>547.940039</td>\n",
       "      <td>9.021663</td>\n",
       "      <td>18.889168</td>\n",
       "      <td>44.288201</td>\n",
       "      <td>4.017602</td>\n",
       "      <td>0.021663</td>\n",
       "      <td>12.847292</td>\n",
       "    </tr>\n",
       "    <tr>\n",
       "      <th>std</th>\n",
       "      <td>2.313778</td>\n",
       "      <td>1.229900</td>\n",
       "      <td>5.520111</td>\n",
       "      <td>64.046482</td>\n",
       "      <td>248.066192</td>\n",
       "      <td>4.559477</td>\n",
       "      <td>5.806625</td>\n",
       "      <td>16.317469</td>\n",
       "      <td>1.791653</td>\n",
       "      <td>0.295959</td>\n",
       "      <td>63.655818</td>\n",
       "    </tr>\n",
       "    <tr>\n",
       "      <th>min</th>\n",
       "      <td>1.000000</td>\n",
       "      <td>2.000000</td>\n",
       "      <td>18.700000</td>\n",
       "      <td>1.100000</td>\n",
       "      <td>7.900000</td>\n",
       "      <td>0.000000</td>\n",
       "      <td>2.200000</td>\n",
       "      <td>15.000000</td>\n",
       "      <td>0.400000</td>\n",
       "      <td>0.000000</td>\n",
       "      <td>0.000000</td>\n",
       "    </tr>\n",
       "    <tr>\n",
       "      <th>25%</th>\n",
       "      <td>3.000000</td>\n",
       "      <td>4.000000</td>\n",
       "      <td>90.200000</td>\n",
       "      <td>68.600000</td>\n",
       "      <td>437.700000</td>\n",
       "      <td>6.500000</td>\n",
       "      <td>15.500000</td>\n",
       "      <td>33.000000</td>\n",
       "      <td>2.700000</td>\n",
       "      <td>0.000000</td>\n",
       "      <td>0.000000</td>\n",
       "    </tr>\n",
       "    <tr>\n",
       "      <th>50%</th>\n",
       "      <td>4.000000</td>\n",
       "      <td>4.000000</td>\n",
       "      <td>91.600000</td>\n",
       "      <td>108.300000</td>\n",
       "      <td>664.200000</td>\n",
       "      <td>8.400000</td>\n",
       "      <td>19.300000</td>\n",
       "      <td>42.000000</td>\n",
       "      <td>4.000000</td>\n",
       "      <td>0.000000</td>\n",
       "      <td>0.520000</td>\n",
       "    </tr>\n",
       "    <tr>\n",
       "      <th>75%</th>\n",
       "      <td>7.000000</td>\n",
       "      <td>5.000000</td>\n",
       "      <td>92.900000</td>\n",
       "      <td>142.400000</td>\n",
       "      <td>713.900000</td>\n",
       "      <td>10.800000</td>\n",
       "      <td>22.800000</td>\n",
       "      <td>53.000000</td>\n",
       "      <td>4.900000</td>\n",
       "      <td>0.000000</td>\n",
       "      <td>6.570000</td>\n",
       "    </tr>\n",
       "    <tr>\n",
       "      <th>max</th>\n",
       "      <td>9.000000</td>\n",
       "      <td>9.000000</td>\n",
       "      <td>96.200000</td>\n",
       "      <td>291.300000</td>\n",
       "      <td>860.600000</td>\n",
       "      <td>56.100000</td>\n",
       "      <td>33.300000</td>\n",
       "      <td>100.000000</td>\n",
       "      <td>9.400000</td>\n",
       "      <td>6.400000</td>\n",
       "      <td>1090.840000</td>\n",
       "    </tr>\n",
       "  </tbody>\n",
       "</table>\n",
       "</div>"
      ],
      "text/plain": [
       "                X           Y        FFMC         DMC          DC         ISI  \\\n",
       "count  517.000000  517.000000  517.000000  517.000000  517.000000  517.000000   \n",
       "mean     4.669246    4.299807   90.644681  110.872340  547.940039    9.021663   \n",
       "std      2.313778    1.229900    5.520111   64.046482  248.066192    4.559477   \n",
       "min      1.000000    2.000000   18.700000    1.100000    7.900000    0.000000   \n",
       "25%      3.000000    4.000000   90.200000   68.600000  437.700000    6.500000   \n",
       "50%      4.000000    4.000000   91.600000  108.300000  664.200000    8.400000   \n",
       "75%      7.000000    5.000000   92.900000  142.400000  713.900000   10.800000   \n",
       "max      9.000000    9.000000   96.200000  291.300000  860.600000   56.100000   \n",
       "\n",
       "             temp          RH        wind        rain         area  \n",
       "count  517.000000  517.000000  517.000000  517.000000   517.000000  \n",
       "mean    18.889168   44.288201    4.017602    0.021663    12.847292  \n",
       "std      5.806625   16.317469    1.791653    0.295959    63.655818  \n",
       "min      2.200000   15.000000    0.400000    0.000000     0.000000  \n",
       "25%     15.500000   33.000000    2.700000    0.000000     0.000000  \n",
       "50%     19.300000   42.000000    4.000000    0.000000     0.520000  \n",
       "75%     22.800000   53.000000    4.900000    0.000000     6.570000  \n",
       "max     33.300000  100.000000    9.400000    6.400000  1090.840000  "
      ]
     },
     "execution_count": 21,
     "metadata": {},
     "output_type": "execute_result"
    }
   ],
   "source": [
    "ff.describe()"
   ]
  },
  {
   "cell_type": "code",
   "execution_count": 22,
   "metadata": {},
   "outputs": [
    {
     "data": {
      "text/plain": [
       "<matplotlib.axes._subplots.AxesSubplot at 0x7f3595fdb128>"
      ]
     },
     "execution_count": 22,
     "metadata": {},
     "output_type": "execute_result"
    },
    {
     "data": {
      "image/png": "[encoded data removed]",
      "text/plain": [
       "<Figure size 576x396 with 1 Axes>"
      ]
     },
     "metadata": {},
     "output_type": "display_data"
    }
   ],
   "source": [
    "ff.area.hist() "
   ]
  },
  {
   "cell_type": "code",
   "execution_count": null,
   "metadata": {},
   "outputs": [],
   "source": []
  },
  {
   "cell_type": "markdown",
   "metadata": {},
   "source": [
    "## Regression Exercise\n",
    "\n",
    "* Use linear regression to predict area from the other columns. (If you have object data columns, you can create dummy columns using `pd.get_dummies`, `pd.concat`, and `pd.drop`)\n",
    "* What is your score?"
   ]
  },
  {
   "cell_type": "code",
   "execution_count": 23,
   "metadata": {},
   "outputs": [
    {
     "data": {
      "text/plain": [
       "X          int64\n",
       "Y          int64\n",
       "month     object\n",
       "day       object\n",
       "FFMC     float64\n",
       "DMC      float64\n",
       "DC       float64\n",
       "ISI      float64\n",
       "temp     float64\n",
       "RH         int64\n",
       "wind     float64\n",
       "rain     float64\n",
       "area     float64\n",
       "dtype: object"
      ]
     },
     "execution_count": 23,
     "metadata": {},
     "output_type": "execute_result"
    }
   ],
   "source": [
    "ff.dtypes "
   ]
  },
  {
   "cell_type": "code",
   "execution_count": 24,
   "metadata": {},
   "outputs": [],
   "source": [
    "yff = ff.area\n",
    "ff2 = (\n",
    "    pd.concat([ff, pd.get_dummies(ff.month),\n",
    "              pd.get_dummies(ff.day)], axis=1)\n",
    "    .drop(['month', 'day', 'area'], axis=1)\n",
    ")\n",
    "Xff = ff2"
   ]
  },
  {
   "cell_type": "code",
   "execution_count": 25,
   "metadata": {},
   "outputs": [
    {
     "data": {
      "text/plain": [
       "0.0457820965080854"
      ]
     },
     "execution_count": 25,
     "metadata": {},
     "output_type": "execute_result"
    }
   ],
   "source": [
    "ff_lr = linear_model.LinearRegression()\n",
    "ff_lr.fit(Xff, yff)\n",
    "ff_lr.score(Xff, yff)"
   ]
  },
  {
   "cell_type": "code",
   "execution_count": 26,
   "metadata": {},
   "outputs": [
    {
     "data": {
      "text/plain": [
       "0.07425967860549865"
      ]
     },
     "execution_count": 26,
     "metadata": {},
     "output_type": "execute_result"
    }
   ],
   "source": [
    " # try log area import numpy as np\n",
    "def log(x):\n",
    "    return np.log(x+1)\n",
    "ff_lr2 = linear_model.LinearRegression()\n",
    "ff_lr2.fit(Xff, log(yff))\n",
    "ff_lr2.score(Xff, log(yff))"
   ]
  },
  {
   "cell_type": "code",
   "execution_count": null,
   "metadata": {},
   "outputs": [],
   "source": []
  },
  {
   "cell_type": "markdown",
   "metadata": {},
   "source": [
    "### Regression Evaluation"
   ]
  },
  {
   "cell_type": "code",
   "execution_count": 28,
   "metadata": {},
   "outputs": [],
   "source": [
    "# Use more columns\n",
    "# drop last row because we don't know what future is\n",
    "\n",
    "X = (bit_df\n",
    "         .drop(['close'], axis=1)\n",
    "         .iloc[:-1])\n",
    "y = bit_df.close.shift(-1).iloc[:-1]\n",
    "cols = X.columns\n",
    "\n",
    "# We are going to scale the data so that volume and ts don't get more\n",
    "# weight that other values\n",
    "ss = preprocessing.StandardScaler()\n",
    "ss.fit(X)\n",
    "X = ss.transform(X)\n",
    "X = pd.DataFrame(X, columns=cols)\n",
    "\n",
    "X_train, X_test, y_train, y_test = model_selection.\\\n",
    "    train_test_split(X, y, test_size=.3, random_state=42)"
   ]
  },
  {
   "cell_type": "code",
   "execution_count": 29,
   "metadata": {},
   "outputs": [
    {
     "data": {
      "text/html": [
       "<div>\n",
       "<style scoped>\n",
       "    .dataframe tbody tr th:only-of-type {\n",
       "        vertical-align: middle;\n",
       "    }\n",
       "\n",
       "    .dataframe tbody tr th {\n",
       "        vertical-align: top;\n",
       "    }\n",
       "\n",
       "    .dataframe thead th {\n",
       "        text-align: right;\n",
       "    }\n",
       "</style>\n",
       "<table border=\"1\" class=\"dataframe\">\n",
       "  <thead>\n",
       "    <tr style=\"text-align: right;\">\n",
       "      <th></th>\n",
       "      <th>open</th>\n",
       "      <th>hi</th>\n",
       "      <th>lo</th>\n",
       "      <th>vol_btc</th>\n",
       "      <th>vol_cur</th>\n",
       "      <th>wp</th>\n",
       "      <th>ts</th>\n",
       "    </tr>\n",
       "  </thead>\n",
       "  <tbody>\n",
       "    <tr>\n",
       "      <th>count</th>\n",
       "      <td>9.980000e+02</td>\n",
       "      <td>998.000000</td>\n",
       "      <td>9.980000e+02</td>\n",
       "      <td>9.980000e+02</td>\n",
       "      <td>998.000000</td>\n",
       "      <td>9.980000e+02</td>\n",
       "      <td>9.980000e+02</td>\n",
       "    </tr>\n",
       "    <tr>\n",
       "      <th>mean</th>\n",
       "      <td>-5.695733e-17</td>\n",
       "      <td>0.000000</td>\n",
       "      <td>-5.695733e-17</td>\n",
       "      <td>9.967533e-17</td>\n",
       "      <td>0.000000</td>\n",
       "      <td>-5.695733e-17</td>\n",
       "      <td>-5.695733e-17</td>\n",
       "    </tr>\n",
       "    <tr>\n",
       "      <th>std</th>\n",
       "      <td>1.000501e+00</td>\n",
       "      <td>1.000501</td>\n",
       "      <td>1.000501e+00</td>\n",
       "      <td>1.000501e+00</td>\n",
       "      <td>1.000501</td>\n",
       "      <td>1.000501e+00</td>\n",
       "      <td>1.000501e+00</td>\n",
       "    </tr>\n",
       "    <tr>\n",
       "      <th>min</th>\n",
       "      <td>-5.145398e-01</td>\n",
       "      <td>-0.505931</td>\n",
       "      <td>-5.945063e-01</td>\n",
       "      <td>-8.869604e-01</td>\n",
       "      <td>-0.315473</td>\n",
       "      <td>-5.146584e-01</td>\n",
       "      <td>-1.730316e+00</td>\n",
       "    </tr>\n",
       "    <tr>\n",
       "      <th>25%</th>\n",
       "      <td>-4.591903e-01</td>\n",
       "      <td>-0.454985</td>\n",
       "      <td>-4.679614e-01</td>\n",
       "      <td>-5.056673e-01</td>\n",
       "      <td>-0.301741</td>\n",
       "      <td>-4.609381e-01</td>\n",
       "      <td>-8.651581e-01</td>\n",
       "    </tr>\n",
       "    <tr>\n",
       "      <th>50%</th>\n",
       "      <td>-3.811430e-01</td>\n",
       "      <td>-0.380665</td>\n",
       "      <td>-3.838863e-01</td>\n",
       "      <td>-2.998543e-01</td>\n",
       "      <td>-0.290954</td>\n",
       "      <td>-3.816854e-01</td>\n",
       "      <td>0.000000e+00</td>\n",
       "    </tr>\n",
       "    <tr>\n",
       "      <th>75%</th>\n",
       "      <td>-1.274829e-01</td>\n",
       "      <td>-0.124745</td>\n",
       "      <td>-1.129190e-01</td>\n",
       "      <td>1.545122e-01</td>\n",
       "      <td>-0.144161</td>\n",
       "      <td>-1.198984e-01</td>\n",
       "      <td>8.651581e-01</td>\n",
       "    </tr>\n",
       "    <tr>\n",
       "      <th>max</th>\n",
       "      <td>5.691531e+00</td>\n",
       "      <td>5.433195</td>\n",
       "      <td>5.886561e+00</td>\n",
       "      <td>1.562362e+01</td>\n",
       "      <td>12.389219</td>\n",
       "      <td>5.655753e+00</td>\n",
       "      <td>1.730316e+00</td>\n",
       "    </tr>\n",
       "  </tbody>\n",
       "</table>\n",
       "</div>"
      ],
      "text/plain": [
       "               open          hi            lo       vol_btc     vol_cur  \\\n",
       "count  9.980000e+02  998.000000  9.980000e+02  9.980000e+02  998.000000   \n",
       "mean  -5.695733e-17    0.000000 -5.695733e-17  9.967533e-17    0.000000   \n",
       "std    1.000501e+00    1.000501  1.000501e+00  1.000501e+00    1.000501   \n",
       "min   -5.145398e-01   -0.505931 -5.945063e-01 -8.869604e-01   -0.315473   \n",
       "25%   -4.591903e-01   -0.454985 -4.679614e-01 -5.056673e-01   -0.301741   \n",
       "50%   -3.811430e-01   -0.380665 -3.838863e-01 -2.998543e-01   -0.290954   \n",
       "75%   -1.274829e-01   -0.124745 -1.129190e-01  1.545122e-01   -0.144161   \n",
       "max    5.691531e+00    5.433195  5.886561e+00  1.562362e+01   12.389219   \n",
       "\n",
       "                 wp            ts  \n",
       "count  9.980000e+02  9.980000e+02  \n",
       "mean  -5.695733e-17 -5.695733e-17  \n",
       "std    1.000501e+00  1.000501e+00  \n",
       "min   -5.146584e-01 -1.730316e+00  \n",
       "25%   -4.609381e-01 -8.651581e-01  \n",
       "50%   -3.816854e-01  0.000000e+00  \n",
       "75%   -1.198984e-01  8.651581e-01  \n",
       "max    5.655753e+00  1.730316e+00  "
      ]
     },
     "execution_count": 29,
     "metadata": {},
     "output_type": "execute_result"
    }
   ],
   "source": [
    "# We can now see that the data has a mean close to 0\n",
    "# and a std of 1\n",
    "X.describe()"
   ]
  },
  {
   "cell_type": "code",
   "execution_count": 31,
   "metadata": {},
   "outputs": [
    {
     "data": {
      "text/plain": [
       "0.9949690637286265"
      ]
     },
     "execution_count": 31,
     "metadata": {},
     "output_type": "execute_result"
    }
   ],
   "source": [
    "lr_model2 = linear_model.LinearRegression()\n",
    "lr_model2.fit(X_train, y_train)\n",
    "lr_model2.score(X_test, y_test)"
   ]
  },
  {
   "cell_type": "code",
   "execution_count": 34,
   "metadata": {},
   "outputs": [
    {
     "data": {
      "text/plain": [
       "0.9949690637286265"
      ]
     },
     "execution_count": 34,
     "metadata": {},
     "output_type": "execute_result"
    }
   ],
   "source": [
    "metrics.r2_score(y_test, lr_model2.predict(X_test))"
   ]
  },
  {
   "cell_type": "code",
   "execution_count": 35,
   "metadata": {},
   "outputs": [
    {
     "data": {
      "text/plain": [
       "48633.87889223455"
      ]
     },
     "execution_count": 35,
     "metadata": {},
     "output_type": "execute_result"
    }
   ],
   "source": [
    "metrics.mean_squared_error(y_test, lr_model2.predict(X_test))"
   ]
  },
  {
   "cell_type": "code",
   "execution_count": 36,
   "metadata": {},
   "outputs": [
    {
     "data": {
      "text/plain": [
       "72.45942732345566"
      ]
     },
     "execution_count": 36,
     "metadata": {},
     "output_type": "execute_result"
    }
   ],
   "source": [
    "metrics.mean_absolute_error(y_test, lr_model2.predict(X_test))"
   ]
  },
  {
   "cell_type": "code",
   "execution_count": 32,
   "metadata": {
    "scrolled": true
   },
   "outputs": [
    {
     "name": "stderr",
     "output_type": "stream",
     "text": [
      "findfont: Font family ['sans-serif'] not found. Falling back to DejaVu Sans.\n"
     ]
    },
    {
     "data": {
      "image/png": "[encoded data removed]",
      "text/plain": [
       "<Figure size 576x396 with 2 Axes>"
      ]
     },
     "metadata": {},
     "output_type": "display_data"
    },
    {
     "name": "stderr",
     "output_type": "stream",
     "text": [
      "/home/matt/.envs/env36/lib/python3.6/site-packages/sklearn/base.py:197: FutureWarning: From version 0.24, get_params will raise an AttributeError if a parameter cannot be retrieved as an instance attribute. Previously it would return None.\n",
      "  FutureWarning)\n"
     ]
    },
    {
     "data": {
      "text/plain": [
       "ResidualsPlot(ax=<matplotlib.axes._subplots.AxesSubplot object at 0x7f3595e9fda0>,\n",
       "              hist=True, is_fitted='auto', line_color=None, model=None,\n",
       "              test_alpha=None, test_color=None, train_alpha=None,\n",
       "              train_color=None)"
      ]
     },
     "execution_count": 32,
     "metadata": {},
     "output_type": "execute_result"
    }
   ],
   "source": [
    "regressor.residuals_plot(lr_model2, X_train, y_train,X_test, y_test )"
   ]
  },
  {
   "cell_type": "code",
   "execution_count": null,
   "metadata": {},
   "outputs": [],
   "source": []
  },
  {
   "cell_type": "markdown",
   "metadata": {},
   "source": [
    "## Regression Evaluation Exercise\n",
    "\n",
    "Using the forest fire data set\n",
    "\n",
    "* Evaluate the performance of your model with the R2 and MSE score (remember to split your data)\n",
    "* Plot a residuals plot"
   ]
  },
  {
   "cell_type": "code",
   "execution_count": 37,
   "metadata": {},
   "outputs": [
    {
     "data": {
      "text/plain": [
       "0.01601313186526032"
      ]
     },
     "execution_count": 37,
     "metadata": {},
     "output_type": "execute_result"
    }
   ],
   "source": [
    "Xff_train, Xff_test, yff_train, yff_test = model_selection.\\\n",
    "    train_test_split(Xff, yff, test_size=.3, random_state=42)\n",
    "\n",
    "ff_lr = linear_model.LinearRegression()\n",
    "ff_lr.fit(Xff_train, yff_train)\n",
    "ff_lr.score(Xff_test, yff_test)"
   ]
  },
  {
   "cell_type": "code",
   "execution_count": 38,
   "metadata": {},
   "outputs": [
    {
     "data": {
      "text/plain": [
       "0.01601313186526032"
      ]
     },
     "execution_count": 38,
     "metadata": {},
     "output_type": "execute_result"
    }
   ],
   "source": [
    "metrics.r2_score(yff_test, ff_lr.predict(Xff_test))"
   ]
  },
  {
   "cell_type": "code",
   "execution_count": 39,
   "metadata": {},
   "outputs": [
    {
     "data": {
      "text/plain": [
       "7830.489034285373"
      ]
     },
     "execution_count": 39,
     "metadata": {},
     "output_type": "execute_result"
    }
   ],
   "source": [
    "metrics.mean_squared_error(yff_test, ff_lr.predict(Xff_test))"
   ]
  },
  {
   "cell_type": "code",
   "execution_count": 40,
   "metadata": {},
   "outputs": [
    {
     "data": {
      "text/plain": [
       "20.853980923810184"
      ]
     },
     "execution_count": 40,
     "metadata": {},
     "output_type": "execute_result"
    }
   ],
   "source": [
    "metrics.mean_absolute_error(yff_test, ff_lr.predict(Xff_test))"
   ]
  },
  {
   "cell_type": "code",
   "execution_count": 42,
   "metadata": {
    "scrolled": false
   },
   "outputs": [
    {
     "data": {
      "image/png": "[encoded data removed]",
      "text/plain": [
       "<Figure size 432x288 with 2 Axes>"
      ]
     },
     "metadata": {
      "needs_background": "light"
     },
     "output_type": "display_data"
    },
    {
     "name": "stderr",
     "output_type": "stream",
     "text": [
      "/home/matt/.envs/env36/lib/python3.6/site-packages/sklearn/base.py:197: FutureWarning: From version 0.24, get_params will raise an AttributeError if a parameter cannot be retrieved as an instance attribute. Previously it would return None.\n",
      "  FutureWarning)\n"
     ]
    },
    {
     "data": {
      "text/plain": [
       "ResidualsPlot(ax=<matplotlib.axes._subplots.AxesSubplot object at 0x7f3595373eb8>,\n",
       "              hist=True, is_fitted='auto', line_color=None, model=None,\n",
       "              test_alpha=None, test_color=None, train_alpha=None,\n",
       "              train_color=None)"
      ]
     },
     "execution_count": 42,
     "metadata": {},
     "output_type": "execute_result"
    }
   ],
   "source": [
    "regressor.residuals_plot(ff_lr, Xff_train, yff_train, Xff_test, yff_test )"
   ]
  },
  {
   "cell_type": "code",
   "execution_count": null,
   "metadata": {},
   "outputs": [],
   "source": []
  },
  {
   "cell_type": "markdown",
   "metadata": {},
   "source": [
    "## Classification\n",
    "\n",
    " \n",
    "In this Notebook we will examine bitcoin data and see if we can predict a buy or sell.\n",
    "\n",
    "https://www.kaggle.com/mczielinski/bitcoin-historical-data/data\n",
    "\n",
    "Data under CC BY-SA 4.0 License\n",
    "\n",
    "https://www.kaggle.com/mczielinski/bitcoin-historical-data"
   ]
  },
  {
   "cell_type": "code",
   "execution_count": 71,
   "metadata": {},
   "outputs": [],
   "source": [
    "%matplotlib inline\n",
    "import matplotlib.pyplot as plt\n",
    "import numpy as np\n",
    "import pandas as pd\n",
    "from sklearn import ensemble, model_selection, preprocessing, tree\n",
    "from yellowbrick import classifier\n"
   ]
  },
  {
   "cell_type": "code",
   "execution_count": 44,
   "metadata": {},
   "outputs": [
    {
     "name": "stdout",
     "output_type": "stream",
     "text": [
      "CPU times: user 1.88 s, sys: 375 ms, total: 2.25 s\n",
      "Wall time: 2.25 s\n"
     ]
    }
   ],
   "source": [
    "%%time\n",
    "# Resampling data from minute interval to day\n",
    "bit_df = pd.read_csv('../data/coinbaseUSD_1-min_data_2014-12-01_to_2018-01-08.csv')\n",
    "# Convert unix time to datetime\n",
    "bit_df['date'] = pd.to_datetime(bit_df.Timestamp, unit='s')\n",
    "# Reset index\n",
    "bit_df = bit_df.set_index('date')\n",
    "# Rename columns so easier to code\n",
    "bit_df = bit_df.rename(columns={'Open':'open', 'High': 'hi', 'Low': 'lo', \n",
    "                       'Close': 'close', 'Volume_(BTC)': 'vol_btc',\n",
    "                       'Volume_(Currency)': 'vol_cur', \n",
    "                       'Weighted_Price': 'wp', 'Timestamp': 'ts'})\n",
    "# Resample and only use recent samples that aren't missing\n",
    "bit_df = bit_df.resample('d').agg({'open': 'first', 'hi': 'max', \n",
    "    'lo': 'min', 'close': 'last', 'vol_btc': 'sum',\n",
    "    'vol_cur': 'sum', 'wp': 'mean', 'ts': 'min'}).iloc[-1000:]\n",
    "bit_df['buy'] = (bit_df.close.shift(-1) > bit_df.close).astype(int)\n",
    "# drop last row as it is not complete\n",
    "bit_df = bit_df.iloc[:-1]"
   ]
  },
  {
   "cell_type": "code",
   "execution_count": 45,
   "metadata": {},
   "outputs": [
    {
     "data": {
      "text/html": [
       "<div>\n",
       "<style scoped>\n",
       "    .dataframe tbody tr th:only-of-type {\n",
       "        vertical-align: middle;\n",
       "    }\n",
       "\n",
       "    .dataframe tbody tr th {\n",
       "        vertical-align: top;\n",
       "    }\n",
       "\n",
       "    .dataframe thead th {\n",
       "        text-align: right;\n",
       "    }\n",
       "</style>\n",
       "<table border=\"1\" class=\"dataframe\">\n",
       "  <thead>\n",
       "    <tr style=\"text-align: right;\">\n",
       "      <th></th>\n",
       "      <th>open</th>\n",
       "      <th>hi</th>\n",
       "      <th>lo</th>\n",
       "      <th>close</th>\n",
       "      <th>vol_btc</th>\n",
       "      <th>vol_cur</th>\n",
       "      <th>wp</th>\n",
       "      <th>ts</th>\n",
       "      <th>buy</th>\n",
       "    </tr>\n",
       "    <tr>\n",
       "      <th>date</th>\n",
       "      <th></th>\n",
       "      <th></th>\n",
       "      <th></th>\n",
       "      <th></th>\n",
       "      <th></th>\n",
       "      <th></th>\n",
       "      <th></th>\n",
       "      <th></th>\n",
       "      <th></th>\n",
       "    </tr>\n",
       "  </thead>\n",
       "  <tbody>\n",
       "    <tr>\n",
       "      <th>2015-04-15</th>\n",
       "      <td>221.05</td>\n",
       "      <td>224.52</td>\n",
       "      <td>218.09</td>\n",
       "      <td>224.35</td>\n",
       "      <td>9137.584626</td>\n",
       "      <td>2.029524e+06</td>\n",
       "      <td>222.270771</td>\n",
       "      <td>1.429056e+09</td>\n",
       "      <td>1</td>\n",
       "    </tr>\n",
       "    <tr>\n",
       "      <th>2015-04-16</th>\n",
       "      <td>224.35</td>\n",
       "      <td>230.75</td>\n",
       "      <td>223.66</td>\n",
       "      <td>229.45</td>\n",
       "      <td>8636.837666</td>\n",
       "      <td>1.970069e+06</td>\n",
       "      <td>227.779413</td>\n",
       "      <td>1.429142e+09</td>\n",
       "      <td>0</td>\n",
       "    </tr>\n",
       "    <tr>\n",
       "      <th>2015-04-17</th>\n",
       "      <td>229.45</td>\n",
       "      <td>230.08</td>\n",
       "      <td>220.46</td>\n",
       "      <td>223.62</td>\n",
       "      <td>7738.360003</td>\n",
       "      <td>1.741497e+06</td>\n",
       "      <td>224.970863</td>\n",
       "      <td>1.429229e+09</td>\n",
       "      <td>1</td>\n",
       "    </tr>\n",
       "    <tr>\n",
       "      <th>2015-04-18</th>\n",
       "      <td>223.55</td>\n",
       "      <td>224.04</td>\n",
       "      <td>222.18</td>\n",
       "      <td>224.02</td>\n",
       "      <td>5065.649127</td>\n",
       "      <td>1.131269e+06</td>\n",
       "      <td>223.398170</td>\n",
       "      <td>1.429315e+09</td>\n",
       "      <td>1</td>\n",
       "    </tr>\n",
       "    <tr>\n",
       "      <th>2015-04-19</th>\n",
       "      <td>224.02</td>\n",
       "      <td>226.72</td>\n",
       "      <td>223.44</td>\n",
       "      <td>224.03</td>\n",
       "      <td>5279.787312</td>\n",
       "      <td>1.185860e+06</td>\n",
       "      <td>224.667792</td>\n",
       "      <td>1.429402e+09</td>\n",
       "      <td>1</td>\n",
       "    </tr>\n",
       "    <tr>\n",
       "      <th>...</th>\n",
       "      <td>...</td>\n",
       "      <td>...</td>\n",
       "      <td>...</td>\n",
       "      <td>...</td>\n",
       "      <td>...</td>\n",
       "      <td>...</td>\n",
       "      <td>...</td>\n",
       "      <td>...</td>\n",
       "      <td>...</td>\n",
       "    </tr>\n",
       "    <tr>\n",
       "      <th>2018-01-03</th>\n",
       "      <td>14781.52</td>\n",
       "      <td>15400.00</td>\n",
       "      <td>14628.00</td>\n",
       "      <td>15098.14</td>\n",
       "      <td>17616.327677</td>\n",
       "      <td>2.642264e+08</td>\n",
       "      <td>14989.939350</td>\n",
       "      <td>1.514938e+09</td>\n",
       "      <td>1</td>\n",
       "    </tr>\n",
       "    <tr>\n",
       "      <th>2018-01-04</th>\n",
       "      <td>15098.23</td>\n",
       "      <td>15400.00</td>\n",
       "      <td>14230.00</td>\n",
       "      <td>15144.99</td>\n",
       "      <td>19567.016783</td>\n",
       "      <td>2.909045e+08</td>\n",
       "      <td>14851.477880</td>\n",
       "      <td>1.515024e+09</td>\n",
       "      <td>1</td>\n",
       "    </tr>\n",
       "    <tr>\n",
       "      <th>2018-01-05</th>\n",
       "      <td>15145.00</td>\n",
       "      <td>17178.00</td>\n",
       "      <td>14819.78</td>\n",
       "      <td>16960.01</td>\n",
       "      <td>22588.046307</td>\n",
       "      <td>3.619888e+08</td>\n",
       "      <td>15796.596968</td>\n",
       "      <td>1.515110e+09</td>\n",
       "      <td>1</td>\n",
       "    </tr>\n",
       "    <tr>\n",
       "      <th>2018-01-06</th>\n",
       "      <td>16960.01</td>\n",
       "      <td>17174.00</td>\n",
       "      <td>16251.01</td>\n",
       "      <td>17098.99</td>\n",
       "      <td>13744.804428</td>\n",
       "      <td>2.296885e+08</td>\n",
       "      <td>16661.988247</td>\n",
       "      <td>1.515197e+09</td>\n",
       "      <td>0</td>\n",
       "    </tr>\n",
       "    <tr>\n",
       "      <th>2018-01-07</th>\n",
       "      <td>17099.00</td>\n",
       "      <td>17115.01</td>\n",
       "      <td>15755.01</td>\n",
       "      <td>16174.22</td>\n",
       "      <td>12201.377159</td>\n",
       "      <td>2.002825e+08</td>\n",
       "      <td>16526.973583</td>\n",
       "      <td>1.515283e+09</td>\n",
       "      <td>0</td>\n",
       "    </tr>\n",
       "  </tbody>\n",
       "</table>\n",
       "<p>999 rows × 9 columns</p>\n",
       "</div>"
      ],
      "text/plain": [
       "                open        hi        lo     close       vol_btc  \\\n",
       "date                                                               \n",
       "2015-04-15    221.05    224.52    218.09    224.35   9137.584626   \n",
       "2015-04-16    224.35    230.75    223.66    229.45   8636.837666   \n",
       "2015-04-17    229.45    230.08    220.46    223.62   7738.360003   \n",
       "2015-04-18    223.55    224.04    222.18    224.02   5065.649127   \n",
       "2015-04-19    224.02    226.72    223.44    224.03   5279.787312   \n",
       "...              ...       ...       ...       ...           ...   \n",
       "2018-01-03  14781.52  15400.00  14628.00  15098.14  17616.327677   \n",
       "2018-01-04  15098.23  15400.00  14230.00  15144.99  19567.016783   \n",
       "2018-01-05  15145.00  17178.00  14819.78  16960.01  22588.046307   \n",
       "2018-01-06  16960.01  17174.00  16251.01  17098.99  13744.804428   \n",
       "2018-01-07  17099.00  17115.01  15755.01  16174.22  12201.377159   \n",
       "\n",
       "                 vol_cur            wp            ts  buy  \n",
       "date                                                       \n",
       "2015-04-15  2.029524e+06    222.270771  1.429056e+09    1  \n",
       "2015-04-16  1.970069e+06    227.779413  1.429142e+09    0  \n",
       "2015-04-17  1.741497e+06    224.970863  1.429229e+09    1  \n",
       "2015-04-18  1.131269e+06    223.398170  1.429315e+09    1  \n",
       "2015-04-19  1.185860e+06    224.667792  1.429402e+09    1  \n",
       "...                  ...           ...           ...  ...  \n",
       "2018-01-03  2.642264e+08  14989.939350  1.514938e+09    1  \n",
       "2018-01-04  2.909045e+08  14851.477880  1.515024e+09    1  \n",
       "2018-01-05  3.619888e+08  15796.596968  1.515110e+09    1  \n",
       "2018-01-06  2.296885e+08  16661.988247  1.515197e+09    0  \n",
       "2018-01-07  2.002825e+08  16526.973583  1.515283e+09    0  \n",
       "\n",
       "[999 rows x 9 columns]"
      ]
     },
     "execution_count": 45,
     "metadata": {},
     "output_type": "execute_result"
    }
   ],
   "source": [
    "bit_df"
   ]
  },
  {
   "cell_type": "code",
   "execution_count": 46,
   "metadata": {},
   "outputs": [
    {
     "data": {
      "text/plain": [
       "open       float64\n",
       "hi         float64\n",
       "lo         float64\n",
       "close      float64\n",
       "vol_btc    float64\n",
       "vol_cur    float64\n",
       "wp         float64\n",
       "ts         float64\n",
       "buy          int64\n",
       "dtype: object"
      ]
     },
     "execution_count": 46,
     "metadata": {},
     "output_type": "execute_result"
    }
   ],
   "source": [
    "bit_df.dtypes"
   ]
  },
  {
   "cell_type": "code",
   "execution_count": 47,
   "metadata": {},
   "outputs": [
    {
     "data": {
      "text/html": [
       "<div>\n",
       "<style scoped>\n",
       "    .dataframe tbody tr th:only-of-type {\n",
       "        vertical-align: middle;\n",
       "    }\n",
       "\n",
       "    .dataframe tbody tr th {\n",
       "        vertical-align: top;\n",
       "    }\n",
       "\n",
       "    .dataframe thead th {\n",
       "        text-align: right;\n",
       "    }\n",
       "</style>\n",
       "<table border=\"1\" class=\"dataframe\">\n",
       "  <thead>\n",
       "    <tr style=\"text-align: right;\">\n",
       "      <th></th>\n",
       "      <th>open</th>\n",
       "      <th>hi</th>\n",
       "      <th>lo</th>\n",
       "      <th>close</th>\n",
       "      <th>vol_btc</th>\n",
       "      <th>vol_cur</th>\n",
       "      <th>wp</th>\n",
       "      <th>ts</th>\n",
       "      <th>buy</th>\n",
       "    </tr>\n",
       "  </thead>\n",
       "  <tbody>\n",
       "    <tr>\n",
       "      <th>count</th>\n",
       "      <td>999.00000</td>\n",
       "      <td>999.000000</td>\n",
       "      <td>999.000000</td>\n",
       "      <td>999.000000</td>\n",
       "      <td>999.000000</td>\n",
       "      <td>9.990000e+02</td>\n",
       "      <td>999.000000</td>\n",
       "      <td>9.990000e+02</td>\n",
       "      <td>999.000000</td>\n",
       "    </tr>\n",
       "    <tr>\n",
       "      <th>mean</th>\n",
       "      <td>1838.11015</td>\n",
       "      <td>1914.705946</td>\n",
       "      <td>1757.861101</td>\n",
       "      <td>1854.054895</td>\n",
       "      <td>10350.019927</td>\n",
       "      <td>3.553735e+07</td>\n",
       "      <td>1842.224578</td>\n",
       "      <td>1.472170e+09</td>\n",
       "      <td>0.567568</td>\n",
       "    </tr>\n",
       "    <tr>\n",
       "      <th>std</th>\n",
       "      <td>3169.30283</td>\n",
       "      <td>3346.396825</td>\n",
       "      <td>2966.458499</td>\n",
       "      <td>3201.173766</td>\n",
       "      <td>9947.604406</td>\n",
       "      <td>1.097365e+08</td>\n",
       "      <td>3165.632076</td>\n",
       "      <td>2.492906e+07</td>\n",
       "      <td>0.495662</td>\n",
       "    </tr>\n",
       "    <tr>\n",
       "      <th>min</th>\n",
       "      <td>211.16000</td>\n",
       "      <td>224.040000</td>\n",
       "      <td>0.060000</td>\n",
       "      <td>211.160000</td>\n",
       "      <td>1525.187302</td>\n",
       "      <td>7.925465e+05</td>\n",
       "      <td>215.969046</td>\n",
       "      <td>1.429056e+09</td>\n",
       "      <td>0.000000</td>\n",
       "    </tr>\n",
       "    <tr>\n",
       "      <th>25%</th>\n",
       "      <td>384.61500</td>\n",
       "      <td>393.500000</td>\n",
       "      <td>371.300000</td>\n",
       "      <td>384.850000</td>\n",
       "      <td>5320.152105</td>\n",
       "      <td>2.297687e+06</td>\n",
       "      <td>384.227045</td>\n",
       "      <td>1.450613e+09</td>\n",
       "      <td>0.000000</td>\n",
       "    </tr>\n",
       "    <tr>\n",
       "      <th>50%</th>\n",
       "      <td>629.79000</td>\n",
       "      <td>639.850000</td>\n",
       "      <td>618.130000</td>\n",
       "      <td>630.830000</td>\n",
       "      <td>7367.614526</td>\n",
       "      <td>3.484114e+06</td>\n",
       "      <td>632.673702</td>\n",
       "      <td>1.472170e+09</td>\n",
       "      <td>1.000000</td>\n",
       "    </tr>\n",
       "    <tr>\n",
       "      <th>75%</th>\n",
       "      <td>1454.14500</td>\n",
       "      <td>1512.965000</td>\n",
       "      <td>1440.095000</td>\n",
       "      <td>1502.495000</td>\n",
       "      <td>11954.181722</td>\n",
       "      <td>1.985804e+07</td>\n",
       "      <td>1471.613323</td>\n",
       "      <td>1.493726e+09</td>\n",
       "      <td>1.000000</td>\n",
       "    </tr>\n",
       "    <tr>\n",
       "      <th>max</th>\n",
       "      <td>19650.02000</td>\n",
       "      <td>19891.990000</td>\n",
       "      <td>19010.000000</td>\n",
       "      <td>19650.010000</td>\n",
       "      <td>165763.024424</td>\n",
       "      <td>1.393385e+09</td>\n",
       "      <td>19537.276941</td>\n",
       "      <td>1.515283e+09</td>\n",
       "      <td>1.000000</td>\n",
       "    </tr>\n",
       "  </tbody>\n",
       "</table>\n",
       "</div>"
      ],
      "text/plain": [
       "              open            hi            lo         close        vol_btc  \\\n",
       "count    999.00000    999.000000    999.000000    999.000000     999.000000   \n",
       "mean    1838.11015   1914.705946   1757.861101   1854.054895   10350.019927   \n",
       "std     3169.30283   3346.396825   2966.458499   3201.173766    9947.604406   \n",
       "min      211.16000    224.040000      0.060000    211.160000    1525.187302   \n",
       "25%      384.61500    393.500000    371.300000    384.850000    5320.152105   \n",
       "50%      629.79000    639.850000    618.130000    630.830000    7367.614526   \n",
       "75%     1454.14500   1512.965000   1440.095000   1502.495000   11954.181722   \n",
       "max    19650.02000  19891.990000  19010.000000  19650.010000  165763.024424   \n",
       "\n",
       "            vol_cur            wp            ts         buy  \n",
       "count  9.990000e+02    999.000000  9.990000e+02  999.000000  \n",
       "mean   3.553735e+07   1842.224578  1.472170e+09    0.567568  \n",
       "std    1.097365e+08   3165.632076  2.492906e+07    0.495662  \n",
       "min    7.925465e+05    215.969046  1.429056e+09    0.000000  \n",
       "25%    2.297687e+06    384.227045  1.450613e+09    0.000000  \n",
       "50%    3.484114e+06    632.673702  1.472170e+09    1.000000  \n",
       "75%    1.985804e+07   1471.613323  1.493726e+09    1.000000  \n",
       "max    1.393385e+09  19537.276941  1.515283e+09    1.000000  "
      ]
     },
     "execution_count": 47,
     "metadata": {},
     "output_type": "execute_result"
    }
   ],
   "source": [
    "bit_df.describe()"
   ]
  },
  {
   "cell_type": "code",
   "execution_count": null,
   "metadata": {},
   "outputs": [],
   "source": []
  },
  {
   "cell_type": "markdown",
   "metadata": {},
   "source": [
    "## Decision Tree\n",
    "\n",
    "* The process of training classifier is to get X and y and call `.fit(X, y)`\n",
    "* To predict values of y (y hat), call `.predict(X)`\n",
    "* To get the accuracy call `.score(X, y)`"
   ]
  },
  {
   "cell_type": "code",
   "execution_count": 68,
   "metadata": {},
   "outputs": [],
   "source": [
    "ignore = {'buy'}\n",
    "cols = [c for c in bit_df.columns if c not in ignore]\n",
    "X = bit_df[cols]\n",
    "y = bit_df.buy\n",
    "X_train, X_test, y_train, y_test = model_selection.\\\n",
    "    train_test_split(X, y, test_size=.3, random_state=42)"
   ]
  },
  {
   "cell_type": "code",
   "execution_count": 69,
   "metadata": {},
   "outputs": [
    {
     "data": {
      "text/plain": [
       "0.4866666666666667"
      ]
     },
     "execution_count": 69,
     "metadata": {},
     "output_type": "execute_result"
    }
   ],
   "source": [
    "dt_model = tree.DecisionTreeClassifier(random_state=42)\n",
    "dt_model.fit(X_train, y_train)\n",
    "dt_model.score(X_test, y_test)"
   ]
  },
  {
   "cell_type": "code",
   "execution_count": 50,
   "metadata": {},
   "outputs": [
    {
     "data": {
      "text/plain": [
       "array([1, 0, 1, 1, 1, 1, 0, 1, 0, 0, 0, 1, 0, 0, 1, 0, 1, 1, 0, 0, 0, 1,\n",
       "       1, 0, 0, 1, 0, 0, 1, 1, 0, 1, 0, 0, 1, 1, 1, 0, 1, 0, 0, 1, 0, 0,\n",
       "       0, 0, 0, 1, 1, 0, 1, 1, 0, 1, 1, 0, 1, 0, 1, 1, 1, 1, 0, 0, 0, 0,\n",
       "       0, 1, 0, 0, 1, 1, 1, 0, 1, 1, 0, 0, 1, 1, 1, 0, 0, 1, 0, 1, 1, 1,\n",
       "       0, 0, 0, 0, 1, 0, 0, 1, 0, 1, 0, 1, 1, 1, 1, 1, 0, 0, 0, 0, 1, 0,\n",
       "       1, 0, 0, 1, 0, 1, 0, 1, 0, 0, 1, 0, 0, 0, 0, 1, 1, 0, 0, 0, 0, 1,\n",
       "       1, 0, 1, 0, 0, 1, 0, 1, 0, 1, 1, 1, 1, 1, 0, 0, 1, 0, 0, 1, 0, 0,\n",
       "       1, 1, 0, 0, 0, 1, 0, 1, 1, 0, 0, 1, 0, 1, 1, 0, 1, 0, 1, 1, 0, 0,\n",
       "       1, 1, 1, 0, 1, 1, 1, 1, 1, 0, 1, 1, 0, 1, 1, 1, 1, 1, 1, 1, 1, 1,\n",
       "       0, 1, 1, 1, 1, 0, 0, 1, 0, 1, 0, 0, 1, 1, 0, 0, 1, 1, 0, 0, 0, 1,\n",
       "       0, 0, 0, 1, 1, 1, 0, 1, 1, 0, 0, 1, 1, 1, 0, 1, 1, 0, 0, 1, 0, 0,\n",
       "       1, 1, 0, 1, 1, 0, 0, 0, 0, 1, 1, 1, 0, 1, 0, 1, 0, 1, 1, 0, 0, 1,\n",
       "       0, 0, 1, 0, 0, 0, 0, 0, 0, 0, 0, 1, 0, 1, 0, 1, 0, 0, 1, 1, 0, 1,\n",
       "       1, 0, 0, 0, 0, 1, 1, 0, 1, 0, 0, 1, 0, 1, 1, 0, 1, 1, 1, 0, 1, 1,\n",
       "       1, 0, 1, 1, 0, 0, 1, 0, 1, 1, 1, 1, 0, 0, 0, 0, 0, 1, 1, 0, 1, 1,\n",
       "       1, 0, 1, 1, 1, 1, 1, 0, 1, 1, 1, 1, 1, 0, 1, 1, 1, 0, 0, 0, 1, 1,\n",
       "       1, 1, 0, 1, 0, 1, 0, 0, 1, 1, 1, 0, 1, 1, 1, 0, 0, 1, 1, 1, 0, 1,\n",
       "       1, 1, 1, 0, 1, 1, 0, 1, 0, 1, 0, 1, 1, 0, 1, 1, 0, 1, 1, 1, 1, 1,\n",
       "       0, 0, 1, 0, 1, 1, 0, 1, 1, 1, 1, 1, 1, 1, 1, 0, 1, 1, 1, 1, 0, 1,\n",
       "       0, 1, 0, 1, 1, 1, 1, 0, 1, 1, 0, 1, 1, 0, 0, 0, 1, 1, 1, 0, 1, 0,\n",
       "       0, 1, 1, 1, 0, 1, 0, 1, 0, 1, 0, 0, 0, 1, 0, 1, 1, 0, 1, 0, 0, 0,\n",
       "       1, 0, 1, 1, 0, 0, 1, 1, 0, 0, 0, 0, 0, 1, 1, 0, 1, 1, 0, 0, 1, 0,\n",
       "       0, 0, 0, 0, 1, 0, 0, 0, 1, 0, 1, 0, 0, 0, 1, 0, 1, 0, 1, 0, 1, 1,\n",
       "       1, 1, 0, 1, 1, 1, 0, 1, 0, 0, 1, 0, 0, 1, 0, 1, 0, 0, 0, 0, 1, 1,\n",
       "       0, 1, 0, 0, 1, 1, 1, 0, 1, 0, 1, 0, 1, 1, 0, 1, 1, 0, 0, 1, 1, 1,\n",
       "       0, 0, 0, 0, 1, 1, 0, 0, 1, 1, 1, 0, 1, 0, 0, 1, 1, 0, 1, 1, 1, 0,\n",
       "       1, 1, 0, 1, 0, 0, 1, 1, 1, 0, 1, 1, 0, 1, 1, 0, 0, 1, 0, 0, 1, 1,\n",
       "       1, 1, 1, 0, 1, 0, 1, 1, 1, 1, 1, 0, 1, 0, 1, 0, 1, 1, 1, 1, 1, 1,\n",
       "       1, 1, 0, 1, 1, 1, 1, 0, 0, 1, 1, 1, 1, 1, 0, 0, 1, 1, 0, 1, 0, 1,\n",
       "       1, 0, 1, 1, 1, 0, 1, 0, 1, 1, 0, 0, 1, 1, 1, 1, 0, 1, 1, 1, 1, 1,\n",
       "       1, 0, 1, 1, 1, 0, 1, 1, 0, 0, 1, 1, 1, 1, 1, 0, 1, 1, 1, 1, 1, 0,\n",
       "       1, 1, 0, 1, 1, 1, 0, 1, 1, 0, 0, 1, 0, 1, 1, 1, 1, 1, 0, 0, 0, 1,\n",
       "       1, 1, 0, 0, 0, 1, 1, 1, 1, 0, 0, 1, 1, 1, 1, 0, 0, 1, 1, 0, 1, 0,\n",
       "       1, 0, 0, 0, 1, 0, 1, 1, 1, 1, 1, 0, 1, 1, 1, 1, 1, 1, 1, 1, 1, 1,\n",
       "       1, 1, 0, 1, 1, 1, 1, 1, 1, 0, 1, 1, 0, 1, 1, 1, 1, 1, 0, 1, 1, 1,\n",
       "       0, 0, 0, 1, 1, 0, 1, 1, 1, 1, 0, 1, 1, 0, 1, 1, 1, 1, 0, 1, 0, 0,\n",
       "       1, 1, 0, 1, 1, 0, 1, 1, 0, 0, 0, 1, 0, 0, 0, 0, 1, 1, 1, 1, 0, 0,\n",
       "       1, 0, 0, 0, 1, 0, 0, 0, 0, 1, 1, 0, 1, 0, 1, 0, 1, 0, 0, 1, 1, 0,\n",
       "       1, 1, 0, 0, 1, 1, 1, 0, 1, 1, 0, 1, 1, 1, 1, 1, 0, 1, 0, 0, 1, 0,\n",
       "       0, 1, 1, 1, 1, 0, 0, 1, 1, 0, 1, 1, 0, 0, 0, 0, 1, 1, 0, 0, 0, 0,\n",
       "       0, 0, 0, 1, 0, 0, 1, 0, 0, 0, 1, 1, 0, 1, 0, 1, 0, 0, 1, 1, 0, 0,\n",
       "       0, 1, 1, 1, 1, 1, 0, 1, 1, 1, 1, 0, 1, 0, 0, 1, 1, 1, 0, 0, 0, 1,\n",
       "       1, 0, 0, 1, 0, 1, 1, 1, 1, 1, 0, 0, 1, 1, 0, 0, 0, 0, 1, 1, 1, 1,\n",
       "       0, 1, 1, 1, 0, 1, 0, 1, 1, 1, 1, 1, 0, 0, 1, 1, 1, 1, 1, 1, 1, 0,\n",
       "       0, 0, 1, 1, 0, 1, 1, 1, 0, 0, 0, 0, 0, 0, 1, 0, 0, 1, 0, 0, 1, 0,\n",
       "       1, 0, 1, 1, 1, 1, 1, 0, 0])"
      ]
     },
     "execution_count": 50,
     "metadata": {},
     "output_type": "execute_result"
    }
   ],
   "source": [
    "dt_model.predict(X)"
   ]
  },
  {
   "cell_type": "code",
   "execution_count": 52,
   "metadata": {
    "scrolled": true
   },
   "outputs": [
    {
     "data": {
      "text/plain": [
       "[Text(81.38229957651869, 213.69103448275862, 'X[3] <= 225.425\\ngini = 0.491\\nsamples = 999\\nvalue = [432, 567]'),\n",
       " Text(79.81781359521028, 206.19310344827585, 'gini = 0.0\\nsamples = 13\\nvalue = [0, 13]'),\n",
       " Text(82.94678555782711, 206.19310344827585, 'X[7] <= 1443441600.0\\ngini = 0.492\\nsamples = 986\\nvalue = [432, 554]'),\n",
       " Text(30.214135514018693, 198.6951724137931, 'X[5] <= 1542237.25\\ngini = 0.49\\nsamples = 154\\nvalue = [88, 66]'),\n",
       " Text(16.035981308411216, 191.19724137931036, 'X[0] <= 282.17\\ngini = 0.496\\nsamples = 55\\nvalue = [25, 30]'),\n",
       " Text(14.471495327102804, 183.69931034482758, 'X[5] <= 1494430.75\\ngini = 0.5\\nsamples = 50\\nvalue = [25, 25]'),\n",
       " Text(8.604672897196263, 176.20137931034483, 'X[5] <= 900533.25\\ngini = 0.493\\nsamples = 43\\nvalue = [24, 19]'),\n",
       " Text(7.040186915887851, 168.70344827586206, 'gini = 0.0\\nsamples = 2\\nvalue = [0, 2]'),\n",
       " Text(10.169158878504673, 168.70344827586206, 'X[1] <= 242.975\\ngini = 0.485\\nsamples = 41\\nvalue = [24, 17]'),\n",
       " Text(6.257943925233645, 161.2055172413793, 'X[0] <= 230.885\\ngini = 0.408\\nsamples = 21\\nvalue = [15, 6]'),\n",
       " Text(3.1289719626168226, 153.70758620689656, 'X[0] <= 229.0\\ngini = 0.48\\nsamples = 5\\nvalue = [2, 3]'),\n",
       " Text(1.5644859813084113, 146.2096551724138, 'gini = 0.0\\nsamples = 2\\nvalue = [2, 0]'),\n",
       " Text(4.6934579439252335, 146.2096551724138, 'gini = 0.0\\nsamples = 3\\nvalue = [0, 3]'),\n",
       " Text(9.386915887850467, 153.70758620689656, 'X[7] <= 1443268800.0\\ngini = 0.305\\nsamples = 16\\nvalue = [13, 3]'),\n",
       " Text(7.822429906542057, 146.2096551724138, 'X[0] <= 236.215\\ngini = 0.231\\nsamples = 15\\nvalue = [13, 2]'),\n",
       " Text(6.257943925233645, 138.71172413793101, 'gini = 0.0\\nsamples = 8\\nvalue = [8, 0]'),\n",
       " Text(9.386915887850467, 138.71172413793101, 'X[1] <= 240.88\\ngini = 0.408\\nsamples = 7\\nvalue = [5, 2]'),\n",
       " Text(7.822429906542057, 131.21379310344827, 'X[7] <= 1432080000.0\\ngini = 0.444\\nsamples = 3\\nvalue = [1, 2]'),\n",
       " Text(6.257943925233645, 123.71586206896552, 'gini = 0.0\\nsamples = 1\\nvalue = [1, 0]'),\n",
       " Text(9.386915887850467, 123.71586206896552, 'gini = 0.0\\nsamples = 2\\nvalue = [0, 2]'),\n",
       " Text(10.951401869158879, 131.21379310344827, 'gini = 0.0\\nsamples = 4\\nvalue = [4, 0]'),\n",
       " Text(10.951401869158879, 146.2096551724138, 'gini = 0.0\\nsamples = 1\\nvalue = [0, 1]'),\n",
       " Text(14.080373831775702, 161.2055172413793, 'X[1] <= 246.985\\ngini = 0.495\\nsamples = 20\\nvalue = [9, 11]'),\n",
       " Text(12.51588785046729, 153.70758620689656, 'gini = 0.0\\nsamples = 6\\nvalue = [0, 6]'),\n",
       " Text(15.644859813084114, 153.70758620689656, 'X[0] <= 249.47\\ngini = 0.459\\nsamples = 14\\nvalue = [9, 5]'),\n",
       " Text(14.080373831775702, 146.2096551724138, 'gini = 0.0\\nsamples = 4\\nvalue = [4, 0]'),\n",
       " Text(17.209345794392526, 146.2096551724138, 'X[7] <= 1437480000.0\\ngini = 0.5\\nsamples = 10\\nvalue = [5, 5]'),\n",
       " Text(15.644859813084114, 138.71172413793101, 'X[3] <= 277.515\\ngini = 0.278\\nsamples = 6\\nvalue = [1, 5]'),\n",
       " Text(14.080373831775702, 131.21379310344827, 'gini = 0.0\\nsamples = 5\\nvalue = [0, 5]'),\n",
       " Text(17.209345794392526, 131.21379310344827, 'gini = 0.0\\nsamples = 1\\nvalue = [1, 0]'),\n",
       " Text(18.773831775700934, 138.71172413793101, 'gini = 0.0\\nsamples = 4\\nvalue = [4, 0]'),\n",
       " Text(20.338317757009346, 176.20137931034483, 'X[7] <= 1436270400.0\\ngini = 0.245\\nsamples = 7\\nvalue = [1, 6]'),\n",
       " Text(18.773831775700934, 168.70344827586206, 'X[2] <= 238.73\\ngini = 0.444\\nsamples = 3\\nvalue = [1, 2]'),\n",
       " Text(17.209345794392526, 161.2055172413793, 'gini = 0.0\\nsamples = 2\\nvalue = [0, 2]'),\n",
       " Text(20.338317757009346, 161.2055172413793, 'gini = 0.0\\nsamples = 1\\nvalue = [1, 0]'),\n",
       " Text(21.902803738317758, 168.70344827586206, 'gini = 0.0\\nsamples = 4\\nvalue = [0, 4]'),\n",
       " Text(17.600467289719628, 183.69931034482758, 'gini = 0.0\\nsamples = 5\\nvalue = [0, 5]'),\n",
       " Text(44.39228971962617, 191.19724137931036, 'X[3] <= 236.8\\ngini = 0.463\\nsamples = 99\\nvalue = [63, 36]'),\n",
       " Text(31.68084112149533, 183.69931034482758, 'X[7] <= 1430222400.0\\ngini = 0.5\\nsamples = 46\\nvalue = [23, 23]'),\n",
       " Text(26.596261682242993, 176.20137931034483, 'X[6] <= 235.463\\ngini = 0.245\\nsamples = 7\\nvalue = [6, 1]'),\n",
       " Text(25.03177570093458, 168.70344827586206, 'gini = 0.0\\nsamples = 6\\nvalue = [6, 0]'),\n",
       " Text(28.160747663551405, 168.70344827586206, 'gini = 0.0\\nsamples = 1\\nvalue = [0, 1]'),\n",
       " Text(36.765420560747664, 176.20137931034483, 'X[7] <= 1432771200.0\\ngini = 0.492\\nsamples = 39\\nvalue = [17, 22]'),\n",
       " Text(31.289719626168228, 168.70344827586206, 'X[0] <= 236.94\\ngini = 0.298\\nsamples = 11\\nvalue = [2, 9]'),\n",
       " Text(29.725233644859816, 161.2055172413793, 'gini = 0.0\\nsamples = 7\\nvalue = [0, 7]'),\n",
       " Text(32.854205607476636, 161.2055172413793, 'X[2] <= 233.77\\ngini = 0.5\\nsamples = 4\\nvalue = [2, 2]'),\n",
       " Text(31.289719626168228, 153.70758620689656, 'gini = 0.0\\nsamples = 2\\nvalue = [2, 0]'),\n",
       " Text(34.41869158878505, 153.70758620689656, 'gini = 0.0\\nsamples = 2\\nvalue = [0, 2]'),\n",
       " Text(42.24112149532711, 168.70344827586206, 'X[2] <= 230.19\\ngini = 0.497\\nsamples = 28\\nvalue = [15, 13]'),\n",
       " Text(40.67663551401869, 161.2055172413793, 'X[0] <= 229.56\\ngini = 0.491\\nsamples = 23\\nvalue = [10, 13]'),\n",
       " Text(37.54766355140187, 153.70758620689656, 'X[0] <= 227.275\\ngini = 0.473\\nsamples = 13\\nvalue = [8, 5]'),\n",
       " Text(35.98317757009346, 146.2096551724138, 'X[4] <= 7265.971\\ngini = 0.469\\nsamples = 8\\nvalue = [3, 5]'),\n",
       " Text(34.41869158878505, 138.71172413793101, 'gini = 0.0\\nsamples = 1\\nvalue = [1, 0]'),\n",
       " Text(37.54766355140187, 138.71172413793101, 'X[5] <= 2176441.875\\ngini = 0.408\\nsamples = 7\\nvalue = [2, 5]'),\n",
       " Text(35.98317757009346, 131.21379310344827, 'gini = 0.0\\nsamples = 4\\nvalue = [0, 4]'),\n",
       " Text(39.11214953271028, 131.21379310344827, 'X[6] <= 230.597\\ngini = 0.444\\nsamples = 3\\nvalue = [2, 1]'),\n",
       " Text(37.54766355140187, 123.71586206896552, 'gini = 0.0\\nsamples = 2\\nvalue = [2, 0]'),\n",
       " Text(40.67663551401869, 123.71586206896552, 'gini = 0.0\\nsamples = 1\\nvalue = [0, 1]'),\n",
       " Text(39.11214953271028, 146.2096551724138, 'gini = 0.0\\nsamples = 5\\nvalue = [5, 0]'),\n",
       " Text(43.805607476635515, 153.70758620689656, 'X[7] <= 1440633600.0\\ngini = 0.32\\nsamples = 10\\nvalue = [2, 8]'),\n",
       " Text(42.24112149532711, 146.2096551724138, 'gini = 0.0\\nsamples = 1\\nvalue = [1, 0]'),\n",
       " Text(45.37009345794393, 146.2096551724138, 'X[7] <= 1442275200.0\\ngini = 0.198\\nsamples = 9\\nvalue = [1, 8]'),\n",
       " Text(43.805607476635515, 138.71172413793101, 'X[7] <= 1441800000.0\\ngini = 0.375\\nsamples = 4\\nvalue = [1, 3]'),\n",
       " Text(42.24112149532711, 131.21379310344827, 'gini = 0.0\\nsamples = 3\\nvalue = [0, 3]'),\n",
       " Text(45.37009345794393, 131.21379310344827, 'gini = 0.0\\nsamples = 1\\nvalue = [1, 0]'),\n",
       " Text(46.93457943925234, 138.71172413793101, 'gini = 0.0\\nsamples = 5\\nvalue = [0, 5]'),\n",
       " Text(43.805607476635515, 161.2055172413793, 'gini = 0.0\\nsamples = 5\\nvalue = [5, 0]'),\n",
       " Text(57.10373831775701, 183.69931034482758, 'X[4] <= 14622.171\\ngini = 0.37\\nsamples = 53\\nvalue = [40, 13]'),\n",
       " Text(55.539252336448605, 176.20137931034483, 'X[5] <= 1683469.562\\ngini = 0.338\\nsamples = 51\\nvalue = [40, 11]'),\n",
       " Text(53.97476635514019, 168.70344827586206, 'gini = 0.0\\nsamples = 12\\nvalue = [12, 0]'),\n",
       " Text(57.10373831775701, 168.70344827586206, 'X[7] <= 1439164800.0\\ngini = 0.405\\nsamples = 39\\nvalue = [28, 11]'),\n",
       " Text(55.539252336448605, 161.2055172413793, 'X[4] <= 7732.314\\ngini = 0.444\\nsamples = 33\\nvalue = [22, 11]'),\n",
       " Text(50.06355140186916, 153.70758620689656, 'X[3] <= 275.165\\ngini = 0.496\\nsamples = 11\\nvalue = [5, 6]'),\n",
       " Text(48.499065420560754, 146.2096551724138, 'gini = 0.0\\nsamples = 4\\nvalue = [0, 4]'),\n",
       " Text(51.62803738317757, 146.2096551724138, 'X[3] <= 288.315\\ngini = 0.408\\nsamples = 7\\nvalue = [5, 2]'),\n",
       " Text(50.06355140186916, 138.71172413793101, 'gini = 0.0\\nsamples = 4\\nvalue = [4, 0]'),\n",
       " Text(53.192523364485986, 138.71172413793101, 'X[1] <= 297.5\\ngini = 0.444\\nsamples = 3\\nvalue = [1, 2]'),\n",
       " Text(51.62803738317757, 131.21379310344827, 'gini = 0.0\\nsamples = 2\\nvalue = [0, 2]'),\n",
       " Text(54.757009345794394, 131.21379310344827, 'gini = 0.0\\nsamples = 1\\nvalue = [1, 0]'),\n",
       " Text(61.01495327102804, 153.70758620689656, 'X[2] <= 233.86\\ngini = 0.351\\nsamples = 22\\nvalue = [17, 5]'),\n",
       " Text(57.88598130841122, 146.2096551724138, 'X[2] <= 226.885\\ngini = 0.444\\nsamples = 3\\nvalue = [1, 2]'),\n",
       " Text(56.32149532710281, 138.71172413793101, 'gini = 0.0\\nsamples = 1\\nvalue = [1, 0]'),\n",
       " Text(59.45046728971963, 138.71172413793101, 'gini = 0.0\\nsamples = 2\\nvalue = [0, 2]'),\n",
       " Text(64.14392523364486, 146.2096551724138, 'X[7] <= 1436961600.0\\ngini = 0.266\\nsamples = 19\\nvalue = [16, 3]'),\n",
       " Text(62.579439252336456, 138.71172413793101, 'X[5] <= 2563465.25\\ngini = 0.198\\nsamples = 18\\nvalue = [16, 2]'),\n",
       " Text(61.01495327102804, 131.21379310344827, 'gini = 0.0\\nsamples = 11\\nvalue = [11, 0]'),\n",
       " Text(64.14392523364486, 131.21379310344827, 'X[5] <= 2759482.375\\ngini = 0.408\\nsamples = 7\\nvalue = [5, 2]'),\n",
       " Text(62.579439252336456, 123.71586206896552, 'X[1] <= 255.625\\ngini = 0.444\\nsamples = 3\\nvalue = [1, 2]'),\n",
       " Text(61.01495327102804, 116.21793103448276, 'gini = 0.0\\nsamples = 1\\nvalue = [1, 0]'),\n",
       " Text(64.14392523364486, 116.21793103448276, 'gini = 0.0\\nsamples = 2\\nvalue = [0, 2]'),\n",
       " Text(65.70841121495327, 123.71586206896552, 'gini = 0.0\\nsamples = 4\\nvalue = [4, 0]'),\n",
       " Text(65.70841121495327, 138.71172413793101, 'gini = 0.0\\nsamples = 1\\nvalue = [0, 1]'),\n",
       " Text(58.66822429906542, 161.2055172413793, 'gini = 0.0\\nsamples = 6\\nvalue = [6, 0]'),\n",
       " Text(58.66822429906542, 176.20137931034483, 'gini = 0.0\\nsamples = 2\\nvalue = [0, 2]'),\n",
       " Text(135.67943560163553, 198.6951724137931, 'X[0] <= 16817.774\\ngini = 0.485\\nsamples = 832\\nvalue = [344, 488]'),\n",
       " Text(100.46322283878506, 191.19724137931036, 'X[6] <= 323.24\\ngini = 0.483\\nsamples = 822\\nvalue = [335, 487]'),\n",
       " Text(73.53084112149533, 183.69931034482758, 'X[0] <= 264.955\\ngini = 0.313\\nsamples = 36\\nvalue = [7, 29]'),\n",
       " Text(71.96635514018692, 176.20137931034483, 'X[5] <= 2614383.75\\ngini = 0.455\\nsamples = 20\\nvalue = [7, 13]'),\n",
       " Text(70.40186915887851, 168.70344827586206, 'X[0] <= 238.325\\ngini = 0.36\\nsamples = 17\\nvalue = [4, 13]'),\n",
       " Text(67.27289719626168, 161.2055172413793, 'X[2] <= 236.58\\ngini = 0.444\\nsamples = 3\\nvalue = [2, 1]'),\n",
       " Text(65.70841121495327, 153.70758620689656, 'gini = 0.0\\nsamples = 1\\nvalue = [0, 1]'),\n",
       " Text(68.8373831775701, 153.70758620689656, 'gini = 0.0\\nsamples = 2\\nvalue = [2, 0]'),\n",
       " Text(73.53084112149533, 161.2055172413793, 'X[4] <= 9962.37\\ngini = 0.245\\nsamples = 14\\nvalue = [2, 12]'),\n",
       " Text(71.96635514018692, 153.70758620689656, 'X[4] <= 5413.543\\ngini = 0.142\\nsamples = 13\\nvalue = [1, 12]'),\n",
       " Text(70.40186915887851, 146.2096551724138, 'X[6] <= 245.966\\ngini = 0.444\\nsamples = 3\\nvalue = [1, 2]'),\n",
       " Text(68.8373831775701, 138.71172413793101, 'gini = 0.0\\nsamples = 2\\nvalue = [0, 2]'),\n",
       " Text(71.96635514018692, 138.71172413793101, 'gini = 0.0\\nsamples = 1\\nvalue = [1, 0]'),\n",
       " Text(73.53084112149533, 146.2096551724138, 'gini = 0.0\\nsamples = 10\\nvalue = [0, 10]'),\n",
       " Text(75.09532710280374, 153.70758620689656, 'gini = 0.0\\nsamples = 1\\nvalue = [1, 0]'),\n",
       " Text(73.53084112149533, 168.70344827586206, 'gini = 0.0\\nsamples = 3\\nvalue = [3, 0]'),\n",
       " Text(75.09532710280374, 176.20137931034483, 'gini = 0.0\\nsamples = 16\\nvalue = [0, 16]'),\n",
       " Text(127.39560455607477, 183.69931034482758, 'X[7] <= 1454846400.0\\ngini = 0.486\\nsamples = 786\\nvalue = [328, 458]'),\n",
       " Text(90.1535046728972, 176.20137931034483, 'X[5] <= 2028431.938\\ngini = 0.489\\nsamples = 96\\nvalue = [55, 41]'),\n",
       " Text(81.35327102803738, 168.70344827586206, 'X[4] <= 4112.626\\ngini = 0.153\\nsamples = 12\\nvalue = [11, 1]'),\n",
       " Text(79.78878504672898, 161.2055172413793, 'X[7] <= 1451736000.0\\ngini = 0.375\\nsamples = 4\\nvalue = [3, 1]'),\n",
       " Text(78.22429906542057, 153.70758620689656, 'gini = 0.0\\nsamples = 3\\nvalue = [3, 0]'),\n",
       " Text(81.35327102803738, 153.70758620689656, 'gini = 0.0\\nsamples = 1\\nvalue = [0, 1]'),\n",
       " Text(82.9177570093458, 161.2055172413793, 'gini = 0.0\\nsamples = 8\\nvalue = [8, 0]'),\n",
       " Text(98.95373831775701, 168.70344827586206, 'X[5] <= 3275781.625\\ngini = 0.499\\nsamples = 84\\nvalue = [44, 40]'),\n",
       " Text(86.04672897196262, 161.2055172413793, 'X[4] <= 7604.128\\ngini = 0.467\\nsamples = 43\\nvalue = [16, 27]'),\n",
       " Text(84.48224299065421, 153.70758620689656, 'X[5] <= 2247519.5\\ngini = 0.496\\nsamples = 35\\nvalue = [16, 19]'),\n",
       " Text(78.22429906542057, 146.2096551724138, 'X[7] <= 1447502400.0\\ngini = 0.245\\nsamples = 7\\nvalue = [1, 6]'),\n",
       " Text(76.65981308411216, 138.71172413793101, 'gini = 0.0\\nsamples = 1\\nvalue = [1, 0]'),\n",
       " Text(79.78878504672898, 138.71172413793101, 'gini = 0.0\\nsamples = 6\\nvalue = [0, 6]'),\n",
       " Text(90.74018691588786, 146.2096551724138, 'X[5] <= 2742289.0\\ngini = 0.497\\nsamples = 28\\nvalue = [15, 13]'),\n",
       " Text(82.9177570093458, 138.71172413793101, 'X[7] <= 1454544000.0\\ngini = 0.337\\nsamples = 14\\nvalue = [11, 3]'),\n",
       " Text(81.35327102803738, 131.21379310344827, 'X[4] <= 5741.084\\ngini = 0.26\\nsamples = 13\\nvalue = [11, 2]'),\n",
       " Text(78.22429906542057, 123.71586206896552, 'X[7] <= 1451995200.0\\ngini = 0.5\\nsamples = 2\\nvalue = [1, 1]'),\n",
       " Text(76.65981308411216, 116.21793103448276, 'gini = 0.0\\nsamples = 1\\nvalue = [1, 0]'),\n",
       " Text(79.78878504672898, 116.21793103448276, 'gini = 0.0\\nsamples = 1\\nvalue = [0, 1]'),\n",
       " Text(84.48224299065421, 123.71586206896552, 'X[4] <= 7359.374\\ngini = 0.165\\nsamples = 11\\nvalue = [10, 1]'),\n",
       " Text(82.9177570093458, 116.21793103448276, 'gini = 0.0\\nsamples = 9\\nvalue = [9, 0]'),\n",
       " Text(86.04672897196262, 116.21793103448276, 'X[4] <= 7380.536\\ngini = 0.5\\nsamples = 2\\nvalue = [1, 1]'),\n",
       " Text(84.48224299065421, 108.72, 'gini = 0.0\\nsamples = 1\\nvalue = [0, 1]'),\n",
       " Text(87.61121495327103, 108.72, 'gini = 0.0\\nsamples = 1\\nvalue = [1, 0]'),\n",
       " Text(84.48224299065421, 131.21379310344827, 'gini = 0.0\\nsamples = 1\\nvalue = [0, 1]'),\n",
       " Text(98.56261682242992, 138.71172413793101, 'X[0] <= 445.845\\ngini = 0.408\\nsamples = 14\\nvalue = [4, 10]'),\n",
       " Text(95.43364485981309, 131.21379310344827, 'X[7] <= 1454544000.0\\ngini = 0.298\\nsamples = 11\\nvalue = [2, 9]'),\n",
       " Text(93.86915887850468, 123.71586206896552, 'X[4] <= 6826.155\\ngini = 0.18\\nsamples = 10\\nvalue = [1, 9]'),\n",
       " Text(92.30467289719627, 116.21793103448276, 'X[7] <= 1451433600.0\\ngini = 0.5\\nsamples = 2\\nvalue = [1, 1]'),\n",
       " Text(90.74018691588786, 108.72, 'gini = 0.0\\nsamples = 1\\nvalue = [1, 0]'),\n",
       " Text(93.86915887850468, 108.72, 'gini = 0.0\\nsamples = 1\\nvalue = [0, 1]'),\n",
       " Text(95.43364485981309, 116.21793103448276, 'gini = 0.0\\nsamples = 8\\nvalue = [0, 8]'),\n",
       " Text(96.99813084112151, 123.71586206896552, 'gini = 0.0\\nsamples = 1\\nvalue = [1, 0]'),\n",
       " Text(101.69158878504673, 131.21379310344827, 'X[4] <= 6687.502\\ngini = 0.444\\nsamples = 3\\nvalue = [2, 1]'),\n",
       " Text(100.12710280373832, 123.71586206896552, 'gini = 0.0\\nsamples = 1\\nvalue = [0, 1]'),\n",
       " Text(103.25607476635514, 123.71586206896552, 'gini = 0.0\\nsamples = 2\\nvalue = [2, 0]'),\n",
       " Text(87.61121495327103, 153.70758620689656, 'gini = 0.0\\nsamples = 8\\nvalue = [0, 8]'),\n",
       " Text(111.86074766355141, 161.2055172413793, 'X[4] <= 12919.277\\ngini = 0.433\\nsamples = 41\\nvalue = [28, 13]'),\n",
       " Text(106.38504672897197, 153.70758620689656, 'X[1] <= 398.005\\ngini = 0.18\\nsamples = 20\\nvalue = [18, 2]'),\n",
       " Text(104.82056074766356, 146.2096551724138, 'gini = 0.0\\nsamples = 10\\nvalue = [10, 0]'),\n",
       " Text(107.94953271028038, 146.2096551724138, 'X[7] <= 1449446400.0\\ngini = 0.32\\nsamples = 10\\nvalue = [8, 2]'),\n",
       " Text(106.38504672897197, 138.71172413793101, 'gini = 0.0\\nsamples = 1\\nvalue = [0, 1]'),\n",
       " Text(109.51401869158879, 138.71172413793101, 'X[5] <= 3374520.0\\ngini = 0.198\\nsamples = 9\\nvalue = [8, 1]'),\n",
       " Text(107.94953271028038, 131.21379310344827, 'X[7] <= 1450742400.0\\ngini = 0.444\\nsamples = 3\\nvalue = [2, 1]'),\n",
       " Text(106.38504672897197, 123.71586206896552, 'gini = 0.0\\nsamples = 2\\nvalue = [2, 0]'),\n",
       " Text(109.51401869158879, 123.71586206896552, 'gini = 0.0\\nsamples = 1\\nvalue = [0, 1]'),\n",
       " Text(111.07850467289721, 131.21379310344827, 'gini = 0.0\\nsamples = 6\\nvalue = [6, 0]'),\n",
       " Text(117.33644859813084, 153.70758620689656, 'X[5] <= 5428910.0\\ngini = 0.499\\nsamples = 21\\nvalue = [10, 11]'),\n",
       " Text(115.77196261682244, 146.2096551724138, 'gini = 0.0\\nsamples = 4\\nvalue = [0, 4]'),\n",
       " Text(118.90093457943927, 146.2096551724138, 'X[5] <= 6829516.5\\ngini = 0.484\\nsamples = 17\\nvalue = [10, 7]'),\n",
       " Text(115.77196261682244, 138.71172413793101, 'X[4] <= 13658.962\\ngini = 0.219\\nsamples = 8\\nvalue = [7, 1]'),\n",
       " Text(114.20747663551403, 131.21379310344827, 'gini = 0.0\\nsamples = 1\\nvalue = [0, 1]'),\n",
       " Text(117.33644859813084, 131.21379310344827, 'gini = 0.0\\nsamples = 7\\nvalue = [7, 0]'),\n",
       " Text(122.02990654205608, 138.71172413793101, 'X[1] <= 467.035\\ngini = 0.444\\nsamples = 9\\nvalue = [3, 6]'),\n",
       " Text(120.46542056074767, 131.21379310344827, 'X[2] <= 364.365\\ngini = 0.245\\nsamples = 7\\nvalue = [1, 6]'),\n",
       " Text(118.90093457943927, 123.71586206896552, 'gini = 0.0\\nsamples = 4\\nvalue = [0, 4]'),\n",
       " Text(122.02990654205608, 123.71586206896552, 'X[0] <= 421.69\\ngini = 0.444\\nsamples = 3\\nvalue = [1, 2]'),\n",
       " Text(120.46542056074767, 116.21793103448276, 'gini = 0.0\\nsamples = 1\\nvalue = [1, 0]'),\n",
       " Text(123.59439252336449, 116.21793103448276, 'gini = 0.0\\nsamples = 2\\nvalue = [0, 2]'),\n",
       " Text(123.59439252336449, 131.21379310344827, 'gini = 0.0\\nsamples = 2\\nvalue = [2, 0]'),\n",
       " Text(164.63770443925236, 176.20137931034483, 'X[1] <= 418.7\\ngini = 0.478\\nsamples = 690\\nvalue = [273, 417]'),\n",
       " Text(129.07009345794393, 168.70344827586206, 'X[1] <= 407.21\\ngini = 0.128\\nsamples = 29\\nvalue = [2, 27]'),\n",
       " Text(127.50560747663552, 161.2055172413793, 'X[1] <= 382.695\\ngini = 0.408\\nsamples = 7\\nvalue = [2, 5]'),\n",
       " Text(125.94112149532711, 153.70758620689656, 'gini = 0.0\\nsamples = 4\\nvalue = [0, 4]'),\n",
       " Text(129.07009345794393, 153.70758620689656, 'X[5] <= 2806985.25\\ngini = 0.444\\nsamples = 3\\nvalue = [2, 1]'),\n",
       " Text(127.50560747663552, 146.2096551724138, 'gini = 0.0\\nsamples = 1\\nvalue = [0, 1]'),\n",
       " Text(130.63457943925235, 146.2096551724138, 'gini = 0.0\\nsamples = 2\\nvalue = [2, 0]'),\n",
       " Text(130.63457943925235, 161.2055172413793, 'gini = 0.0\\nsamples = 22\\nvalue = [0, 22]'),\n",
       " Text(200.20531542056077, 168.70344827586206, 'X[5] <= 2878435.25\\ngini = 0.484\\nsamples = 661\\nvalue = [271, 390]'),\n",
       " Text(146.45055490654207, 161.2055172413793, 'X[3] <= 573.88\\ngini = 0.5\\nsamples = 149\\nvalue = [76, 73]'),\n",
       " Text(135.3280373831776, 153.70758620689656, 'X[0] <= 417.32\\ngini = 0.469\\nsamples = 56\\nvalue = [21, 35]'),\n",
       " Text(133.76355140186917, 146.2096551724138, 'gini = 0.0\\nsamples = 4\\nvalue = [4, 0]'),\n",
       " Text(136.89252336448598, 146.2096551724138, 'X[7] <= 1463832000.0\\ngini = 0.44\\nsamples = 52\\nvalue = [17, 35]'),\n",
       " Text(135.3280373831776, 138.71172413793101, 'X[7] <= 1463227200.0\\ngini = 0.478\\nsamples = 43\\nvalue = [17, 26]'),\n",
       " Text(131.41682242990655, 131.21379310344827, 'X[5] <= 2768023.25\\ngini = 0.45\\nsamples = 38\\nvalue = [13, 25]'),\n",
       " Text(128.28785046728973, 123.71586206896552, 'X[7] <= 1462276800.0\\ngini = 0.397\\nsamples = 33\\nvalue = [9, 24]'),\n",
       " Text(126.72336448598132, 116.21793103448276, 'X[6] <= 432.258\\ngini = 0.453\\nsamples = 26\\nvalue = [9, 17]'),\n",
       " Text(123.59439252336449, 108.72, 'X[3] <= 423.2\\ngini = 0.332\\nsamples = 19\\nvalue = [4, 15]'),\n",
       " Text(122.02990654205608, 101.22206896551724, 'X[6] <= 419.628\\ngini = 0.494\\nsamples = 9\\nvalue = [4, 5]'),\n",
       " Text(120.46542056074767, 93.72413793103449, 'gini = 0.0\\nsamples = 4\\nvalue = [0, 4]'),\n",
       " Text(123.59439252336449, 93.72413793103449, 'X[2] <= 420.12\\ngini = 0.32\\nsamples = 5\\nvalue = [4, 1]'),\n",
       " Text(122.02990654205608, 86.22620689655173, 'gini = 0.0\\nsamples = 4\\nvalue = [4, 0]'),\n",
       " Text(125.15887850467291, 86.22620689655173, 'gini = 0.0\\nsamples = 1\\nvalue = [0, 1]'),\n",
       " Text(125.15887850467291, 101.22206896551724, 'gini = 0.0\\nsamples = 10\\nvalue = [0, 10]'),\n",
       " Text(129.85233644859815, 108.72, 'X[1] <= 454.565\\ngini = 0.408\\nsamples = 7\\nvalue = [5, 2]'),\n",
       " Text(128.28785046728973, 101.22206896551724, 'gini = 0.0\\nsamples = 4\\nvalue = [4, 0]'),\n",
       " Text(131.41682242990655, 101.22206896551724, 'X[3] <= 456.335\\ngini = 0.444\\nsamples = 3\\nvalue = [1, 2]'),\n",
       " Text(129.85233644859815, 93.72413793103449, 'gini = 0.0\\nsamples = 2\\nvalue = [0, 2]'),\n",
       " Text(132.98130841121497, 93.72413793103449, 'gini = 0.0\\nsamples = 1\\nvalue = [1, 0]'),\n",
       " Text(129.85233644859815, 116.21793103448276, 'gini = 0.0\\nsamples = 7\\nvalue = [0, 7]'),\n",
       " Text(134.54579439252336, 123.71586206896552, 'X[7] <= 1462881600.0\\ngini = 0.32\\nsamples = 5\\nvalue = [4, 1]'),\n",
       " Text(132.98130841121497, 116.21793103448276, 'gini = 0.0\\nsamples = 4\\nvalue = [4, 0]'),\n",
       " Text(136.11028037383178, 116.21793103448276, 'gini = 0.0\\nsamples = 1\\nvalue = [0, 1]'),\n",
       " Text(139.2392523364486, 131.21379310344827, 'X[5] <= 2788968.0\\ngini = 0.32\\nsamples = 5\\nvalue = [4, 1]'),\n",
       " Text(137.6747663551402, 123.71586206896552, 'gini = 0.0\\nsamples = 4\\nvalue = [4, 0]'),\n",
       " Text(140.80373831775702, 123.71586206896552, 'gini = 0.0\\nsamples = 1\\nvalue = [0, 1]'),\n",
       " Text(138.4570093457944, 138.71172413793101, 'gini = 0.0\\nsamples = 9\\nvalue = [0, 9]'),\n",
       " Text(157.57307242990655, 153.70758620689656, 'X[7] <= 1472644800.0\\ngini = 0.483\\nsamples = 93\\nvalue = [55, 38]'),\n",
       " Text(147.06168224299066, 146.2096551724138, 'X[0] <= 667.315\\ngini = 0.337\\nsamples = 28\\nvalue = [22, 6]'),\n",
       " Text(143.93271028037384, 138.71172413793101, 'X[5] <= 1483671.688\\ngini = 0.269\\nsamples = 25\\nvalue = [21, 4]'),\n",
       " Text(142.36822429906542, 131.21379310344827, 'gini = 0.0\\nsamples = 1\\nvalue = [0, 1]'),\n",
       " Text(145.49719626168226, 131.21379310344827, 'X[4] <= 4785.97\\ngini = 0.219\\nsamples = 24\\nvalue = [21, 3]'),\n",
       " Text(143.93271028037384, 123.71586206896552, 'X[2] <= 574.675\\ngini = 0.159\\nsamples = 23\\nvalue = [21, 2]'),\n",
       " Text(142.36822429906542, 116.21793103448276, 'X[2] <= 573.06\\ngini = 0.346\\nsamples = 9\\nvalue = [7, 2]'),\n",
       " Text(140.80373831775702, 108.72, 'gini = 0.0\\nsamples = 7\\nvalue = [7, 0]'),\n",
       " Text(143.93271028037384, 108.72, 'gini = 0.0\\nsamples = 2\\nvalue = [0, 2]'),\n",
       " Text(145.49719626168226, 116.21793103448276, 'gini = 0.0\\nsamples = 14\\nvalue = [14, 0]'),\n",
       " Text(147.06168224299066, 123.71586206896552, 'gini = 0.0\\nsamples = 1\\nvalue = [0, 1]'),\n",
       " Text(150.19065420560747, 138.71172413793101, 'X[2] <= 665.385\\ngini = 0.444\\nsamples = 3\\nvalue = [1, 2]'),\n",
       " Text(148.62616822429908, 131.21379310344827, 'gini = 0.0\\nsamples = 2\\nvalue = [0, 2]'),\n",
       " Text(151.7551401869159, 131.21379310344827, 'gini = 0.0\\nsamples = 1\\nvalue = [1, 0]'),\n",
       " Text(168.08446261682244, 146.2096551724138, 'X[3] <= 603.32\\ngini = 0.5\\nsamples = 65\\nvalue = [33, 32]'),\n",
       " Text(166.51997663551404, 138.71172413793101, 'gini = 0.0\\nsamples = 5\\nvalue = [0, 5]'),\n",
       " Text(169.64894859813086, 138.71172413793101, 'X[4] <= 4272.797\\ngini = 0.495\\nsamples = 60\\nvalue = [33, 27]'),\n",
       " Text(162.51098130841123, 131.21379310344827, 'X[5] <= 2396611.375\\ngini = 0.5\\nsamples = 51\\nvalue = [25, 26]'),\n",
       " Text(155.2752336448598, 123.71586206896552, 'X[4] <= 3074.992\\ngini = 0.466\\nsamples = 27\\nvalue = [17, 10]'),\n",
       " Text(150.9728971962617, 116.21793103448276, 'X[0] <= 737.6\\ngini = 0.498\\nsamples = 17\\nvalue = [8, 9]'),\n",
       " Text(147.06168224299066, 108.72, 'X[5] <= 1789317.375\\ngini = 0.444\\nsamples = 12\\nvalue = [4, 8]'),\n",
       " Text(143.93271028037384, 101.22206896551724, 'X[7] <= 1475928000.0\\ngini = 0.48\\nsamples = 5\\nvalue = [3, 2]'),\n",
       " Text(142.36822429906542, 93.72413793103449, 'gini = 0.0\\nsamples = 3\\nvalue = [3, 0]'),\n",
       " Text(145.49719626168226, 93.72413793103449, 'gini = 0.0\\nsamples = 2\\nvalue = [0, 2]'),\n",
       " Text(150.19065420560747, 101.22206896551724, 'X[4] <= 3032.854\\ngini = 0.245\\nsamples = 7\\nvalue = [1, 6]'),\n",
       " Text(148.62616822429908, 93.72413793103449, 'gini = 0.0\\nsamples = 5\\nvalue = [0, 5]'),\n",
       " Text(151.7551401869159, 93.72413793103449, 'X[0] <= 625.05\\ngini = 0.5\\nsamples = 2\\nvalue = [1, 1]'),\n",
       " Text(150.19065420560747, 86.22620689655173, 'gini = 0.0\\nsamples = 1\\nvalue = [0, 1]'),\n",
       " Text(153.31962616822432, 86.22620689655173, 'gini = 0.0\\nsamples = 1\\nvalue = [1, 0]'),\n",
       " Text(154.8841121495327, 108.72, 'X[5] <= 2245454.625\\ngini = 0.32\\nsamples = 5\\nvalue = [4, 1]'),\n",
       " Text(153.31962616822432, 101.22206896551724, 'gini = 0.0\\nsamples = 4\\nvalue = [4, 0]'),\n",
       " Text(156.44859813084113, 101.22206896551724, 'gini = 0.0\\nsamples = 1\\nvalue = [0, 1]'),\n",
       " Text(159.57757009345795, 116.21793103448276, 'X[2] <= 604.17\\ngini = 0.18\\nsamples = 10\\nvalue = [9, 1]'),\n",
       " Text(158.01308411214956, 108.72, 'gini = 0.0\\nsamples = 1\\nvalue = [0, 1]'),\n",
       " Text(161.14205607476637, 108.72, 'gini = 0.0\\nsamples = 9\\nvalue = [9, 0]'),\n",
       " Text(169.74672897196263, 123.71586206896552, 'X[5] <= 2537707.5\\ngini = 0.444\\nsamples = 24\\nvalue = [8, 16]'),\n",
       " Text(165.8355140186916, 116.21793103448276, 'X[4] <= 3547.792\\ngini = 0.18\\nsamples = 10\\nvalue = [1, 9]'),\n",
       " Text(164.2710280373832, 108.72, 'X[7] <= 1479772800.0\\ngini = 0.444\\nsamples = 3\\nvalue = [1, 2]'),\n",
       " Text(162.70654205607477, 101.22206896551724, 'gini = 0.0\\nsamples = 1\\nvalue = [1, 0]'),\n",
       " Text(165.8355140186916, 101.22206896551724, 'gini = 0.0\\nsamples = 2\\nvalue = [0, 2]'),\n",
       " Text(167.4, 108.72, 'gini = 0.0\\nsamples = 7\\nvalue = [0, 7]'),\n",
       " Text(173.65794392523367, 116.21793103448276, 'X[5] <= 2647677.875\\ngini = 0.5\\nsamples = 14\\nvalue = [7, 7]'),\n",
       " Text(170.52897196261682, 108.72, 'X[7] <= 1473552000.0\\ngini = 0.408\\nsamples = 7\\nvalue = [5, 2]'),\n",
       " Text(168.96448598130843, 101.22206896551724, 'gini = 0.0\\nsamples = 1\\nvalue = [0, 1]'),\n",
       " Text(172.09345794392524, 101.22206896551724, 'X[3] <= 688.775\\ngini = 0.278\\nsamples = 6\\nvalue = [5, 1]'),\n",
       " Text(170.52897196261682, 93.72413793103449, 'gini = 0.0\\nsamples = 3\\nvalue = [3, 0]'),\n",
       " Text(173.65794392523367, 93.72413793103449, 'X[1] <= 760.49\\ngini = 0.444\\nsamples = 3\\nvalue = [2, 1]'),\n",
       " Text(172.09345794392524, 86.22620689655173, 'gini = 0.0\\nsamples = 1\\nvalue = [0, 1]'),\n",
       " Text(175.22242990654206, 86.22620689655173, 'gini = 0.0\\nsamples = 2\\nvalue = [2, 0]'),\n",
       " Text(176.78691588785048, 108.72, 'X[5] <= 2679817.25\\ngini = 0.408\\nsamples = 7\\nvalue = [2, 5]'),\n",
       " Text(175.22242990654206, 101.22206896551724, 'gini = 0.0\\nsamples = 3\\nvalue = [0, 3]'),\n",
       " Text(178.35140186915888, 101.22206896551724, 'X[5] <= 2760356.125\\ngini = 0.5\\nsamples = 4\\nvalue = [2, 2]'),\n",
       " Text(176.78691588785048, 93.72413793103449, 'gini = 0.0\\nsamples = 2\\nvalue = [2, 0]'),\n",
       " Text(179.9158878504673, 93.72413793103449, 'gini = 0.0\\nsamples = 2\\nvalue = [0, 2]'),\n",
       " Text(176.78691588785048, 131.21379310344827, 'X[6] <= 621.973\\ngini = 0.198\\nsamples = 9\\nvalue = [8, 1]'),\n",
       " Text(175.22242990654206, 123.71586206896552, 'gini = 0.0\\nsamples = 7\\nvalue = [7, 0]'),\n",
       " Text(178.35140186915888, 123.71586206896552, 'X[7] <= 1474804800.0\\ngini = 0.5\\nsamples = 2\\nvalue = [1, 1]'),\n",
       " Text(176.78691588785048, 116.21793103448276, 'gini = 0.0\\nsamples = 1\\nvalue = [0, 1]'),\n",
       " Text(179.9158878504673, 116.21793103448276, 'gini = 0.0\\nsamples = 1\\nvalue = [1, 0]'),\n",
       " Text(253.96007593457946, 161.2055172413793, 'X[0] <= 2204.31\\ngini = 0.472\\nsamples = 512\\nvalue = [195, 317]'),\n",
       " Text(210.32558411214956, 153.70758620689656, 'X[2] <= 432.96\\ngini = 0.44\\nsamples = 297\\nvalue = [97, 200]'),\n",
       " Text(187.73831775700936, 146.2096551724138, 'X[7] <= 1456574400.0\\ngini = 0.415\\nsamples = 17\\nvalue = [12, 5]'),\n",
       " Text(184.60934579439254, 138.71172413793101, 'X[5] <= 3455621.625\\ngini = 0.444\\nsamples = 6\\nvalue = [2, 4]'),\n",
       " Text(183.04485981308412, 131.21379310344827, 'X[7] <= 1456358400.0\\ngini = 0.444\\nsamples = 3\\nvalue = [2, 1]'),\n",
       " Text(181.48037383177572, 123.71586206896552, 'gini = 0.0\\nsamples = 2\\nvalue = [2, 0]'),\n",
       " Text(184.60934579439254, 123.71586206896552, 'gini = 0.0\\nsamples = 1\\nvalue = [0, 1]'),\n",
       " Text(186.17383177570096, 131.21379310344827, 'gini = 0.0\\nsamples = 3\\nvalue = [0, 3]'),\n",
       " Text(190.86728971962617, 138.71172413793101, 'X[5] <= 2997197.25\\ngini = 0.165\\nsamples = 11\\nvalue = [10, 1]'),\n",
       " Text(189.30280373831778, 131.21379310344827, 'gini = 0.0\\nsamples = 1\\nvalue = [0, 1]'),\n",
       " Text(192.4317757009346, 131.21379310344827, 'gini = 0.0\\nsamples = 10\\nvalue = [10, 0]'),\n",
       " Text(232.91285046728973, 146.2096551724138, 'X[7] <= 1492084800.0\\ngini = 0.423\\nsamples = 280\\nvalue = [85, 195]'),\n",
       " Text(206.12102803738318, 138.71172413793101, 'X[7] <= 1491825600.0\\ngini = 0.447\\nsamples = 237\\nvalue = [80, 157]'),\n",
       " Text(204.5565420560748, 131.21379310344827, 'X[2] <= 553.12\\ngini = 0.442\\nsamples = 234\\nvalue = [77, 157]'),\n",
       " Text(187.73831775700936, 123.71586206896552, 'X[4] <= 6101.69\\ngini = 0.211\\nsamples = 25\\nvalue = [3, 22]'),\n",
       " Text(186.17383177570096, 116.21793103448276, 'gini = 0.0\\nsamples = 1\\nvalue = [1, 0]'),\n",
       " Text(189.30280373831778, 116.21793103448276, 'X[7] <= 1461672000.0\\ngini = 0.153\\nsamples = 24\\nvalue = [2, 22]'),\n",
       " Text(187.73831775700936, 108.72, 'X[4] <= 7498.899\\ngini = 0.444\\nsamples = 6\\nvalue = [2, 4]'),\n",
       " Text(186.17383177570096, 101.22206896551724, 'gini = 0.0\\nsamples = 3\\nvalue = [0, 3]'),\n",
       " Text(189.30280373831778, 101.22206896551724, 'X[1] <= 472.245\\ngini = 0.444\\nsamples = 3\\nvalue = [2, 1]'),\n",
       " Text(187.73831775700936, 93.72413793103449, 'gini = 0.0\\nsamples = 2\\nvalue = [2, 0]'),\n",
       " Text(190.86728971962617, 93.72413793103449, 'gini = 0.0\\nsamples = 1\\nvalue = [0, 1]'),\n",
       " Text(190.86728971962617, 108.72, 'gini = 0.0\\nsamples = 18\\nvalue = [0, 18]'),\n",
       " Text(221.3747663551402, 123.71586206896552, 'X[7] <= 1477785600.0\\ngini = 0.457\\nsamples = 209\\nvalue = [74, 135]'),\n",
       " Text(201.03644859813085, 116.21793103448276, 'X[5] <= 2906312.25\\ngini = 0.5\\nsamples = 68\\nvalue = [33, 35]'),\n",
       " Text(199.47196261682245, 108.72, 'gini = 0.0\\nsamples = 4\\nvalue = [0, 4]'),\n",
       " Text(202.60093457943927, 108.72, 'X[6] <= 652.237\\ngini = 0.5\\nsamples = 64\\nvalue = [33, 31]'),\n",
       " Text(195.5607476635514, 101.22206896551724, 'X[3] <= 575.74\\ngini = 0.471\\nsamples = 29\\nvalue = [18, 11]'),\n",
       " Text(193.99626168224302, 93.72413793103449, 'gini = 0.0\\nsamples = 2\\nvalue = [0, 2]'),\n",
       " Text(197.12523364485983, 93.72413793103449, 'X[1] <= 675.385\\ngini = 0.444\\nsamples = 27\\nvalue = [18, 9]'),\n",
       " Text(195.5607476635514, 86.22620689655173, 'X[5] <= 3389408.625\\ngini = 0.403\\nsamples = 25\\nvalue = [18, 7]'),\n",
       " Text(191.6495327102804, 78.72827586206895, 'X[5] <= 3063359.375\\ngini = 0.497\\nsamples = 13\\nvalue = [7, 6]'),\n",
       " Text(188.52056074766355, 71.23034482758621, 'X[0] <= 635.46\\ngini = 0.278\\nsamples = 6\\nvalue = [5, 1]'),\n",
       " Text(186.95607476635516, 63.73241379310346, 'gini = 0.0\\nsamples = 5\\nvalue = [5, 0]'),\n",
       " Text(190.08504672897197, 63.73241379310346, 'gini = 0.0\\nsamples = 1\\nvalue = [0, 1]'),\n",
       " Text(194.7785046728972, 71.23034482758621, 'X[6] <= 619.093\\ngini = 0.408\\nsamples = 7\\nvalue = [2, 5]'),\n",
       " Text(193.2140186915888, 63.73241379310346, 'X[7] <= 1465430400.0\\ngini = 0.278\\nsamples = 6\\nvalue = [1, 5]'),\n",
       " Text(191.6495327102804, 56.234482758620686, 'gini = 0.0\\nsamples = 1\\nvalue = [1, 0]'),\n",
       " Text(194.7785046728972, 56.234482758620686, 'gini = 0.0\\nsamples = 5\\nvalue = [0, 5]'),\n",
       " Text(196.3429906542056, 63.73241379310346, 'gini = 0.0\\nsamples = 1\\nvalue = [1, 0]'),\n",
       " Text(199.47196261682245, 78.72827586206895, 'X[0] <= 645.2\\ngini = 0.153\\nsamples = 12\\nvalue = [11, 1]'),\n",
       " Text(197.90747663551403, 71.23034482758621, 'gini = 0.0\\nsamples = 8\\nvalue = [8, 0]'),\n",
       " Text(201.03644859813085, 71.23034482758621, 'X[6] <= 638.515\\ngini = 0.375\\nsamples = 4\\nvalue = [3, 1]'),\n",
       " Text(199.47196261682245, 63.73241379310346, 'gini = 0.0\\nsamples = 1\\nvalue = [0, 1]'),\n",
       " Text(202.60093457943927, 63.73241379310346, 'gini = 0.0\\nsamples = 3\\nvalue = [3, 0]'),\n",
       " Text(198.68971962616823, 86.22620689655173, 'gini = 0.0\\nsamples = 2\\nvalue = [0, 2]'),\n",
       " Text(209.64112149532713, 101.22206896551724, 'X[3] <= 657.48\\ngini = 0.49\\nsamples = 35\\nvalue = [15, 20]'),\n",
       " Text(208.0766355140187, 93.72413793103449, 'gini = 0.0\\nsamples = 8\\nvalue = [0, 8]'),\n",
       " Text(211.20560747663552, 93.72413793103449, 'X[0] <= 658.35\\ngini = 0.494\\nsamples = 27\\nvalue = [15, 12]'),\n",
       " Text(207.2943925233645, 86.22620689655173, 'X[3] <= 668.27\\ngini = 0.32\\nsamples = 5\\nvalue = [1, 4]'),\n",
       " Text(205.72990654205609, 78.72827586206895, 'X[1] <= 669.745\\ngini = 0.5\\nsamples = 2\\nvalue = [1, 1]'),\n",
       " Text(204.1654205607477, 71.23034482758621, 'gini = 0.0\\nsamples = 1\\nvalue = [0, 1]'),\n",
       " Text(207.2943925233645, 71.23034482758621, 'gini = 0.0\\nsamples = 1\\nvalue = [1, 0]'),\n",
       " Text(208.8588785046729, 78.72827586206895, 'gini = 0.0\\nsamples = 3\\nvalue = [0, 3]'),\n",
       " Text(215.11682242990656, 86.22620689655173, 'X[0] <= 680.99\\ngini = 0.463\\nsamples = 22\\nvalue = [14, 8]'),\n",
       " Text(211.98785046728975, 78.72827586206895, 'X[7] <= 1467374400.0\\ngini = 0.18\\nsamples = 10\\nvalue = [9, 1]'),\n",
       " Text(210.42336448598132, 71.23034482758621, 'X[4] <= 7297.438\\ngini = 0.444\\nsamples = 3\\nvalue = [2, 1]'),\n",
       " Text(208.8588785046729, 63.73241379310346, 'gini = 0.0\\nsamples = 1\\nvalue = [0, 1]'),\n",
       " Text(211.98785046728975, 63.73241379310346, 'gini = 0.0\\nsamples = 2\\nvalue = [2, 0]'),\n",
       " Text(213.55233644859814, 71.23034482758621, 'gini = 0.0\\nsamples = 7\\nvalue = [7, 0]'),\n",
       " Text(218.24579439252338, 78.72827586206895, 'X[1] <= 712.355\\ngini = 0.486\\nsamples = 12\\nvalue = [5, 7]'),\n",
       " Text(216.68130841121496, 71.23034482758621, 'gini = 0.0\\nsamples = 5\\nvalue = [0, 5]'),\n",
       " Text(219.8102803738318, 71.23034482758621, 'X[1] <= 778.09\\ngini = 0.408\\nsamples = 7\\nvalue = [5, 2]'),\n",
       " Text(218.24579439252338, 63.73241379310346, 'gini = 0.0\\nsamples = 5\\nvalue = [5, 0]'),\n",
       " Text(221.3747663551402, 63.73241379310346, 'gini = 0.0\\nsamples = 2\\nvalue = [0, 2]'),\n",
       " Text(241.71308411214955, 116.21793103448276, 'X[5] <= 7517125.0\\ngini = 0.412\\nsamples = 141\\nvalue = [41, 100]'),\n",
       " Text(234.6728971962617, 108.72, 'X[1] <= 1220.39\\ngini = 0.311\\nsamples = 83\\nvalue = [16, 67]'),\n",
       " Text(231.54392523364487, 101.22206896551724, 'X[3] <= 735.92\\ngini = 0.289\\nsamples = 80\\nvalue = [14, 66]'),\n",
       " Text(229.97943925233648, 93.72413793103449, 'gini = 0.0\\nsamples = 12\\nvalue = [0, 12]'),\n",
       " Text(233.1084112149533, 93.72413793103449, 'X[2] <= 727.635\\ngini = 0.327\\nsamples = 68\\nvalue = [14, 54]'),\n",
       " Text(231.54392523364487, 86.22620689655173, 'gini = 0.0\\nsamples = 3\\nvalue = [3, 0]'),\n",
       " Text(234.6728971962617, 86.22620689655173, 'X[5] <= 5276841.0\\ngini = 0.281\\nsamples = 65\\nvalue = [11, 54]'),\n",
       " Text(229.19719626168225, 78.72827586206895, 'X[5] <= 4866924.25\\ngini = 0.349\\nsamples = 40\\nvalue = [9, 31]'),\n",
       " Text(226.06822429906543, 71.23034482758621, 'X[2] <= 1053.48\\ngini = 0.251\\nsamples = 34\\nvalue = [5, 29]'),\n",
       " Text(224.503738317757, 63.73241379310346, 'X[4] <= 6022.823\\ngini = 0.213\\nsamples = 33\\nvalue = [4, 29]'),\n",
       " Text(222.93925233644862, 56.234482758620686, 'X[4] <= 4515.306\\ngini = 0.17\\nsamples = 32\\nvalue = [3, 29]'),\n",
       " Text(221.3747663551402, 48.73655172413794, 'X[4] <= 4398.584\\ngini = 0.337\\nsamples = 14\\nvalue = [3, 11]'),\n",
       " Text(219.8102803738318, 41.238620689655164, 'gini = 0.0\\nsamples = 10\\nvalue = [0, 10]'),\n",
       " Text(222.93925233644862, 41.238620689655164, 'X[7] <= 1486339200.0\\ngini = 0.375\\nsamples = 4\\nvalue = [3, 1]'),\n",
       " Text(221.3747663551402, 33.74068965517242, 'gini = 0.0\\nsamples = 3\\nvalue = [3, 0]'),\n",
       " Text(224.503738317757, 33.74068965517242, 'gini = 0.0\\nsamples = 1\\nvalue = [0, 1]'),\n",
       " Text(224.503738317757, 48.73655172413794, 'gini = 0.0\\nsamples = 18\\nvalue = [0, 18]'),\n",
       " Text(226.06822429906543, 56.234482758620686, 'gini = 0.0\\nsamples = 1\\nvalue = [1, 0]'),\n",
       " Text(227.63271028037386, 63.73241379310346, 'gini = 0.0\\nsamples = 1\\nvalue = [1, 0]'),\n",
       " Text(232.32616822429907, 71.23034482758621, 'X[6] <= 1021.071\\ngini = 0.444\\nsamples = 6\\nvalue = [4, 2]'),\n",
       " Text(230.76168224299067, 63.73241379310346, 'gini = 0.0\\nsamples = 4\\nvalue = [4, 0]'),\n",
       " Text(233.8906542056075, 63.73241379310346, 'gini = 0.0\\nsamples = 2\\nvalue = [0, 2]'),\n",
       " Text(240.14859813084115, 78.72827586206895, 'X[1] <= 915.9\\ngini = 0.147\\nsamples = 25\\nvalue = [2, 23]'),\n",
       " Text(238.58411214953273, 71.23034482758621, 'X[2] <= 857.73\\ngini = 0.48\\nsamples = 5\\nvalue = [2, 3]'),\n",
       " Text(237.0196261682243, 63.73241379310346, 'gini = 0.0\\nsamples = 3\\nvalue = [0, 3]'),\n",
       " Text(240.14859813084115, 63.73241379310346, 'gini = 0.0\\nsamples = 2\\nvalue = [2, 0]'),\n",
       " Text(241.71308411214955, 71.23034482758621, 'gini = 0.0\\nsamples = 20\\nvalue = [0, 20]'),\n",
       " Text(237.80186915887853, 101.22206896551724, 'X[5] <= 5715375.75\\ngini = 0.444\\nsamples = 3\\nvalue = [2, 1]'),\n",
       " Text(236.2373831775701, 93.72413793103449, 'gini = 0.0\\nsamples = 1\\nvalue = [0, 1]'),\n",
       " Text(239.36635514018693, 93.72413793103449, 'gini = 0.0\\nsamples = 2\\nvalue = [2, 0]'),\n",
       " Text(248.7532710280374, 108.72, 'X[7] <= 1483012800.0\\ngini = 0.49\\nsamples = 58\\nvalue = [25, 33]'),\n",
       " Text(247.18878504672898, 101.22206896551724, 'gini = 0.0\\nsamples = 4\\nvalue = [4, 0]'),\n",
       " Text(250.31775700934583, 101.22206896551724, 'X[6] <= 1033.899\\ngini = 0.475\\nsamples = 54\\nvalue = [21, 33]'),\n",
       " Text(246.40654205607478, 93.72413793103449, 'X[0] <= 865.095\\ngini = 0.208\\nsamples = 17\\nvalue = [2, 15]'),\n",
       " Text(244.84205607476636, 86.22620689655173, 'X[7] <= 1484222400.0\\ngini = 0.444\\nsamples = 3\\nvalue = [2, 1]'),\n",
       " Text(243.27757009345797, 78.72827586206895, 'gini = 0.0\\nsamples = 1\\nvalue = [0, 1]'),\n",
       " Text(246.40654205607478, 78.72827586206895, 'gini = 0.0\\nsamples = 2\\nvalue = [2, 0]'),\n",
       " Text(247.9710280373832, 86.22620689655173, 'gini = 0.0\\nsamples = 14\\nvalue = [0, 14]'),\n",
       " Text(254.22897196261684, 93.72413793103449, 'X[5] <= 13395512.5\\ngini = 0.5\\nsamples = 37\\nvalue = [19, 18]'),\n",
       " Text(251.10000000000002, 86.22620689655173, 'X[4] <= 9276.332\\ngini = 0.48\\nsamples = 25\\nvalue = [10, 15]'),\n",
       " Text(249.5355140186916, 78.72827586206895, 'X[5] <= 10000554.0\\ngini = 0.499\\nsamples = 19\\nvalue = [10, 9]'),\n",
       " Text(247.9710280373832, 71.23034482758621, 'X[5] <= 8421684.25\\ngini = 0.492\\nsamples = 16\\nvalue = [7, 9]'),\n",
       " Text(244.84205607476636, 63.73241379310346, 'X[6] <= 1199.334\\ngini = 0.32\\nsamples = 5\\nvalue = [4, 1]'),\n",
       " Text(243.27757009345797, 56.234482758620686, 'gini = 0.0\\nsamples = 4\\nvalue = [4, 0]'),\n",
       " Text(246.40654205607478, 56.234482758620686, 'gini = 0.0\\nsamples = 1\\nvalue = [0, 1]'),\n",
       " Text(251.10000000000002, 63.73241379310346, 'X[5] <= 8972621.0\\ngini = 0.397\\nsamples = 11\\nvalue = [3, 8]'),\n",
       " Text(249.5355140186916, 56.234482758620686, 'gini = 0.0\\nsamples = 5\\nvalue = [0, 5]'),\n",
       " Text(252.66448598130842, 56.234482758620686, 'X[5] <= 9277226.5\\ngini = 0.5\\nsamples = 6\\nvalue = [3, 3]'),\n",
       " Text(251.10000000000002, 48.73655172413794, 'gini = 0.0\\nsamples = 2\\nvalue = [2, 0]'),\n",
       " Text(254.22897196261684, 48.73655172413794, 'X[4] <= 9023.923\\ngini = 0.375\\nsamples = 4\\nvalue = [1, 3]'),\n",
       " Text(252.66448598130842, 41.238620689655164, 'gini = 0.0\\nsamples = 3\\nvalue = [0, 3]'),\n",
       " Text(255.79345794392526, 41.238620689655164, 'gini = 0.0\\nsamples = 1\\nvalue = [1, 0]'),\n",
       " Text(251.10000000000002, 71.23034482758621, 'gini = 0.0\\nsamples = 3\\nvalue = [3, 0]'),\n",
       " Text(252.66448598130842, 78.72827586206895, 'gini = 0.0\\nsamples = 6\\nvalue = [0, 6]'),\n",
       " Text(257.35794392523366, 86.22620689655173, 'X[2] <= 1122.885\\ngini = 0.375\\nsamples = 12\\nvalue = [9, 3]'),\n",
       " Text(255.79345794392526, 78.72827586206895, 'X[5] <= 25999747.0\\ngini = 0.18\\nsamples = 10\\nvalue = [9, 1]'),\n",
       " Text(254.22897196261684, 71.23034482758621, 'gini = 0.0\\nsamples = 9\\nvalue = [9, 0]'),\n",
       " Text(257.35794392523366, 71.23034482758621, 'gini = 0.0\\nsamples = 1\\nvalue = [0, 1]'),\n",
       " Text(258.92242990654205, 78.72827586206895, 'gini = 0.0\\nsamples = 2\\nvalue = [0, 2]'),\n",
       " Text(207.6855140186916, 131.21379310344827, 'gini = 0.0\\nsamples = 3\\nvalue = [3, 0]'),\n",
       " Text(259.7046728971963, 138.71172413793101, 'X[2] <= 1760.765\\ngini = 0.206\\nsamples = 43\\nvalue = [5, 38]'),\n",
       " Text(256.57570093457946, 131.21379310344827, 'X[5] <= 41801574.0\\ngini = 0.117\\nsamples = 32\\nvalue = [2, 30]'),\n",
       " Text(255.01121495327104, 123.71586206896552, 'X[0] <= 1241.47\\ngini = 0.062\\nsamples = 31\\nvalue = [1, 30]'),\n",
       " Text(253.44672897196264, 116.21793103448276, 'X[2] <= 1224.08\\ngini = 0.245\\nsamples = 7\\nvalue = [1, 6]'),\n",
       " Text(251.88224299065422, 108.72, 'gini = 0.0\\nsamples = 6\\nvalue = [0, 6]'),\n",
       " Text(255.01121495327104, 108.72, 'gini = 0.0\\nsamples = 1\\nvalue = [1, 0]'),\n",
       " Text(256.57570093457946, 116.21793103448276, 'gini = 0.0\\nsamples = 24\\nvalue = [0, 24]'),\n",
       " Text(258.14018691588785, 123.71586206896552, 'gini = 0.0\\nsamples = 1\\nvalue = [1, 0]'),\n",
       " Text(262.8336448598131, 131.21379310344827, 'X[5] <= 32701929.0\\ngini = 0.397\\nsamples = 11\\nvalue = [3, 8]'),\n",
       " Text(261.2691588785047, 123.71586206896552, 'X[1] <= 1894.5\\ngini = 0.375\\nsamples = 4\\nvalue = [3, 1]'),\n",
       " Text(259.7046728971963, 116.21793103448276, 'gini = 0.0\\nsamples = 2\\nvalue = [2, 0]'),\n",
       " Text(262.8336448598131, 116.21793103448276, 'X[2] <= 1885.02\\ngini = 0.5\\nsamples = 2\\nvalue = [1, 1]'),\n",
       " Text(261.2691588785047, 108.72, 'gini = 0.0\\nsamples = 1\\nvalue = [0, 1]'),\n",
       " Text(264.3981308411215, 108.72, 'gini = 0.0\\nsamples = 1\\nvalue = [1, 0]'),\n",
       " Text(264.3981308411215, 123.71586206896552, 'gini = 0.0\\nsamples = 7\\nvalue = [0, 7]'),\n",
       " Text(297.5945677570094, 153.70758620689656, 'X[5] <= 95556504.0\\ngini = 0.496\\nsamples = 215\\nvalue = [98, 117]'),\n",
       " Text(283.17196261682244, 146.2096551724138, 'X[5] <= 31888382.0\\ngini = 0.499\\nsamples = 148\\nvalue = [77, 71]'),\n",
       " Text(274.56728971962616, 138.71172413793101, 'X[7] <= 1500984000.0\\ngini = 0.46\\nsamples = 39\\nvalue = [14, 25]'),\n",
       " Text(269.0915887850467, 131.21379310344827, 'X[4] <= 8328.042\\ngini = 0.484\\nsamples = 17\\nvalue = [10, 7]'),\n",
       " Text(267.52710280373833, 123.71586206896552, 'gini = 0.0\\nsamples = 4\\nvalue = [4, 0]'),\n",
       " Text(270.6560747663552, 123.71586206896552, 'X[3] <= 2381.815\\ngini = 0.497\\nsamples = 13\\nvalue = [6, 7]'),\n",
       " Text(269.0915887850467, 116.21793103448276, 'gini = 0.0\\nsamples = 2\\nvalue = [2, 0]'),\n",
       " Text(272.22056074766357, 116.21793103448276, 'X[7] <= 1498824000.0\\ngini = 0.463\\nsamples = 11\\nvalue = [4, 7]'),\n",
       " Text(269.0915887850467, 108.72, 'X[2] <= 2412.82\\ngini = 0.375\\nsamples = 4\\nvalue = [3, 1]'),\n",
       " Text(267.52710280373833, 101.22206896551724, 'gini = 0.0\\nsamples = 1\\nvalue = [0, 1]'),\n",
       " Text(270.6560747663552, 101.22206896551724, 'gini = 0.0\\nsamples = 3\\nvalue = [3, 0]'),\n",
       " Text(275.3495327102804, 108.72, 'X[3] <= 2609.48\\ngini = 0.245\\nsamples = 7\\nvalue = [1, 6]'),\n",
       " Text(273.78504672897196, 101.22206896551724, 'gini = 0.0\\nsamples = 5\\nvalue = [0, 5]'),\n",
       " Text(276.9140186915888, 101.22206896551724, 'X[7] <= 1499990400.0\\ngini = 0.5\\nsamples = 2\\nvalue = [1, 1]'),\n",
       " Text(275.3495327102804, 93.72413793103449, 'gini = 0.0\\nsamples = 1\\nvalue = [1, 0]'),\n",
       " Text(278.4785046728972, 93.72413793103449, 'gini = 0.0\\nsamples = 1\\nvalue = [0, 1]'),\n",
       " Text(280.04299065420565, 131.21379310344827, 'X[5] <= 22820236.0\\ngini = 0.298\\nsamples = 22\\nvalue = [4, 18]'),\n",
       " Text(278.4785046728972, 123.71586206896552, 'gini = 0.0\\nsamples = 7\\nvalue = [0, 7]'),\n",
       " Text(281.60747663551405, 123.71586206896552, 'X[5] <= 24989754.0\\ngini = 0.391\\nsamples = 15\\nvalue = [4, 11]'),\n",
       " Text(280.04299065420565, 116.21793103448276, 'gini = 0.0\\nsamples = 2\\nvalue = [2, 0]'),\n",
       " Text(283.17196261682244, 116.21793103448276, 'X[5] <= 27394631.0\\ngini = 0.26\\nsamples = 13\\nvalue = [2, 11]'),\n",
       " Text(281.60747663551405, 108.72, 'X[5] <= 26277584.0\\ngini = 0.444\\nsamples = 6\\nvalue = [2, 4]'),\n",
       " Text(280.04299065420565, 101.22206896551724, 'gini = 0.0\\nsamples = 3\\nvalue = [0, 3]'),\n",
       " Text(283.17196261682244, 101.22206896551724, 'X[6] <= 2756.916\\ngini = 0.444\\nsamples = 3\\nvalue = [2, 1]'),\n",
       " Text(281.60747663551405, 93.72413793103449, 'gini = 0.0\\nsamples = 1\\nvalue = [0, 1]'),\n",
       " Text(284.73644859813083, 93.72413793103449, 'gini = 0.0\\nsamples = 2\\nvalue = [2, 0]'),\n",
       " Text(284.73644859813083, 108.72, 'gini = 0.0\\nsamples = 7\\nvalue = [0, 7]'),\n",
       " Text(291.7766355140187, 138.71172413793101, 'X[0] <= 2274.6\\ngini = 0.488\\nsamples = 109\\nvalue = [63, 46]'),\n",
       " Text(290.2121495327103, 131.21379310344827, 'gini = 0.0\\nsamples = 5\\nvalue = [5, 0]'),\n",
       " Text(293.3411214953271, 131.21379310344827, 'X[1] <= 2569.825\\ngini = 0.493\\nsamples = 104\\nvalue = [58, 46]'),\n",
       " Text(287.8654205607477, 123.71586206896552, 'X[5] <= 33554681.0\\ngini = 0.32\\nsamples = 10\\nvalue = [2, 8]'),\n",
       " Text(286.3009345794393, 116.21793103448276, 'gini = 0.0\\nsamples = 1\\nvalue = [1, 0]'),\n",
       " Text(289.4299065420561, 116.21793103448276, 'X[6] <= 2453.268\\ngini = 0.198\\nsamples = 9\\nvalue = [1, 8]'),\n",
       " Text(287.8654205607477, 108.72, 'gini = 0.0\\nsamples = 7\\nvalue = [0, 7]'),\n",
       " Text(290.9943925233645, 108.72, 'X[3] <= 2426.205\\ngini = 0.5\\nsamples = 2\\nvalue = [1, 1]'),\n",
       " Text(289.4299065420561, 101.22206896551724, 'gini = 0.0\\nsamples = 1\\nvalue = [1, 0]'),\n",
       " Text(292.5588785046729, 101.22206896551724, 'gini = 0.0\\nsamples = 1\\nvalue = [0, 1]'),\n",
       " Text(298.81682242990655, 123.71586206896552, 'X[0] <= 2497.845\\ngini = 0.482\\nsamples = 94\\nvalue = [56, 38]'),\n",
       " Text(297.25233644859816, 116.21793103448276, 'gini = 0.0\\nsamples = 5\\nvalue = [5, 0]'),\n",
       " Text(300.38130841121495, 116.21793103448276, 'X[7] <= 1497096000.0\\ngini = 0.489\\nsamples = 89\\nvalue = [51, 38]'),\n",
       " Text(297.25233644859816, 108.72, 'X[4] <= 24042.915\\ngini = 0.278\\nsamples = 6\\nvalue = [1, 5]'),\n",
       " Text(295.68785046728976, 101.22206896551724, 'gini = 0.0\\nsamples = 5\\nvalue = [0, 5]'),\n",
       " Text(298.81682242990655, 101.22206896551724, 'gini = 0.0\\nsamples = 1\\nvalue = [1, 0]'),\n",
       " Text(303.5102803738318, 108.72, 'X[2] <= 5948.13\\ngini = 0.479\\nsamples = 83\\nvalue = [50, 33]'),\n",
       " Text(301.9457943925234, 101.22206896551724, 'X[6] <= 5663.445\\ngini = 0.472\\nsamples = 81\\nvalue = [50, 31]'),\n",
       " Text(300.38130841121495, 93.72413793103449, 'X[7] <= 1507550400.0\\ngini = 0.489\\nsamples = 73\\nvalue = [42, 31]'),\n",
       " Text(295.68785046728976, 86.22620689655173, 'X[4] <= 9995.345\\ngini = 0.471\\nsamples = 66\\nvalue = [41, 25]'),\n",
       " Text(294.1233644859813, 78.72827586206895, 'gini = 0.0\\nsamples = 8\\nvalue = [8, 0]'),\n",
       " Text(297.25233644859816, 78.72827586206895, 'X[0] <= 4601.255\\ngini = 0.49\\nsamples = 58\\nvalue = [33, 25]'),\n",
       " Text(295.68785046728976, 71.23034482758621, 'X[0] <= 4408.75\\ngini = 0.499\\nsamples = 52\\nvalue = [27, 25]'),\n",
       " Text(294.1233644859813, 63.73241379310346, 'X[3] <= 4157.2\\ngini = 0.492\\nsamples = 48\\nvalue = [27, 21]'),\n",
       " Text(288.6476635514019, 56.234482758620686, 'X[0] <= 3410.755\\ngini = 0.498\\nsamples = 36\\nvalue = [17, 19]'),\n",
       " Text(285.5186915887851, 48.73655172413794, 'X[0] <= 2568.61\\ngini = 0.455\\nsamples = 20\\nvalue = [13, 7]'),\n",
       " Text(283.95420560747664, 41.238620689655164, 'gini = 0.0\\nsamples = 2\\nvalue = [0, 2]'),\n",
       " Text(287.0831775700935, 41.238620689655164, 'X[4] <= 11393.991\\ngini = 0.401\\nsamples = 18\\nvalue = [13, 5]'),\n",
       " Text(285.5186915887851, 33.74068965517242, 'gini = 0.0\\nsamples = 1\\nvalue = [0, 1]'),\n",
       " Text(288.6476635514019, 33.74068965517242, 'X[3] <= 2694.5\\ngini = 0.36\\nsamples = 17\\nvalue = [13, 4]'),\n",
       " Text(287.0831775700935, 26.24275862068967, 'X[3] <= 2609.095\\ngini = 0.494\\nsamples = 9\\nvalue = [5, 4]'),\n",
       " Text(285.5186915887851, 18.744827586206895, 'X[7] <= 1498003200.0\\ngini = 0.278\\nsamples = 6\\nvalue = [5, 1]'),\n",
       " Text(283.95420560747664, 11.246896551724149, 'X[2] <= 2392.505\\ngini = 0.5\\nsamples = 2\\nvalue = [1, 1]'),\n",
       " Text(282.38971962616824, 3.7489655172413734, 'gini = 0.0\\nsamples = 1\\nvalue = [1, 0]'),\n",
       " Text(285.5186915887851, 3.7489655172413734, 'gini = 0.0\\nsamples = 1\\nvalue = [0, 1]'),\n",
       " Text(287.0831775700935, 11.246896551724149, 'gini = 0.0\\nsamples = 4\\nvalue = [4, 0]'),\n",
       " Text(288.6476635514019, 18.744827586206895, 'gini = 0.0\\nsamples = 3\\nvalue = [0, 3]'),\n",
       " Text(290.2121495327103, 26.24275862068967, 'gini = 0.0\\nsamples = 8\\nvalue = [8, 0]'),\n",
       " Text(291.7766355140187, 48.73655172413794, 'X[7] <= 1504353600.0\\ngini = 0.375\\nsamples = 16\\nvalue = [4, 12]'),\n",
       " Text(290.2121495327103, 41.238620689655164, 'gini = 0.0\\nsamples = 8\\nvalue = [0, 8]'),\n",
       " Text(293.3411214953271, 41.238620689655164, 'X[4] <= 12900.332\\ngini = 0.5\\nsamples = 8\\nvalue = [4, 4]'),\n",
       " Text(291.7766355140187, 33.74068965517242, 'gini = 0.0\\nsamples = 3\\nvalue = [0, 3]'),\n",
       " Text(294.9056074766355, 33.74068965517242, 'X[2] <= 3585.5\\ngini = 0.32\\nsamples = 5\\nvalue = [4, 1]'),\n",
       " Text(293.3411214953271, 26.24275862068967, 'gini = 0.0\\nsamples = 1\\nvalue = [0, 1]'),\n",
       " Text(296.47009345794396, 26.24275862068967, 'gini = 0.0\\nsamples = 4\\nvalue = [4, 0]'),\n",
       " Text(299.59906542056075, 56.234482758620686, 'X[4] <= 10031.123\\ngini = 0.278\\nsamples = 12\\nvalue = [10, 2]'),\n",
       " Text(298.03457943925235, 48.73655172413794, 'gini = 0.0\\nsamples = 1\\nvalue = [0, 1]'),\n",
       " Text(301.1635514018692, 48.73655172413794, 'X[5] <= 43282880.0\\ngini = 0.165\\nsamples = 11\\nvalue = [10, 1]'),\n",
       " Text(299.59906542056075, 41.238620689655164, 'X[5] <= 43112644.0\\ngini = 0.444\\nsamples = 3\\nvalue = [2, 1]'),\n",
       " Text(298.03457943925235, 33.74068965517242, 'gini = 0.0\\nsamples = 2\\nvalue = [2, 0]'),\n",
       " Text(301.1635514018692, 33.74068965517242, 'gini = 0.0\\nsamples = 1\\nvalue = [0, 1]'),\n",
       " Text(302.7280373831776, 41.238620689655164, 'gini = 0.0\\nsamples = 8\\nvalue = [8, 0]'),\n",
       " Text(297.25233644859816, 63.73241379310346, 'gini = 0.0\\nsamples = 4\\nvalue = [0, 4]'),\n",
       " Text(298.81682242990655, 71.23034482758621, 'gini = 0.0\\nsamples = 6\\nvalue = [6, 0]'),\n",
       " Text(305.0747663551402, 86.22620689655173, 'X[5] <= 49072506.0\\ngini = 0.245\\nsamples = 7\\nvalue = [1, 6]'),\n",
       " Text(303.5102803738318, 78.72827586206895, 'X[4] <= 7895.503\\ngini = 0.5\\nsamples = 2\\nvalue = [1, 1]'),\n",
       " Text(301.9457943925234, 71.23034482758621, 'gini = 0.0\\nsamples = 1\\nvalue = [0, 1]'),\n",
       " Text(305.0747663551402, 71.23034482758621, 'gini = 0.0\\nsamples = 1\\nvalue = [1, 0]'),\n",
       " Text(306.63925233644864, 78.72827586206895, 'gini = 0.0\\nsamples = 5\\nvalue = [0, 5]'),\n",
       " Text(303.5102803738318, 93.72413793103449, 'gini = 0.0\\nsamples = 8\\nvalue = [8, 0]'),\n",
       " Text(305.0747663551402, 101.22206896551724, 'gini = 0.0\\nsamples = 2\\nvalue = [0, 2]'),\n",
       " Text(312.0171728971963, 146.2096551724138, 'X[0] <= 7084.49\\ngini = 0.43\\nsamples = 67\\nvalue = [21, 46]'),\n",
       " Text(305.0747663551402, 138.71172413793101, 'X[4] <= 51309.639\\ngini = 0.198\\nsamples = 18\\nvalue = [2, 16]'),\n",
       " Text(303.5102803738318, 131.21379310344827, 'X[1] <= 6868.22\\ngini = 0.111\\nsamples = 17\\nvalue = [1, 16]'),\n",
       " Text(301.9457943925234, 123.71586206896552, 'gini = 0.0\\nsamples = 12\\nvalue = [0, 12]'),\n",
       " Text(305.0747663551402, 123.71586206896552, 'X[3] <= 6693.34\\ngini = 0.32\\nsamples = 5\\nvalue = [1, 4]'),\n",
       " Text(303.5102803738318, 116.21793103448276, 'gini = 0.0\\nsamples = 1\\nvalue = [1, 0]'),\n",
       " Text(306.63925233644864, 116.21793103448276, 'gini = 0.0\\nsamples = 4\\nvalue = [0, 4]'),\n",
       " Text(306.63925233644864, 131.21379310344827, 'gini = 0.0\\nsamples = 1\\nvalue = [1, 0]'),\n",
       " Text(318.95957943925237, 138.71172413793101, 'X[2] <= 7406.0\\ngini = 0.475\\nsamples = 49\\nvalue = [19, 30]'),\n",
       " Text(312.89719626168227, 131.21379310344827, 'X[2] <= 6955.915\\ngini = 0.245\\nsamples = 7\\nvalue = [6, 1]'),\n",
       " Text(311.3327102803739, 123.71586206896552, 'X[5] <= 195472136.0\\ngini = 0.5\\nsamples = 2\\nvalue = [1, 1]'),\n",
       " Text(309.7682242990654, 116.21793103448276, 'gini = 0.0\\nsamples = 1\\nvalue = [0, 1]'),\n",
       " Text(312.89719626168227, 116.21793103448276, 'gini = 0.0\\nsamples = 1\\nvalue = [1, 0]'),\n",
       " Text(314.46168224299066, 123.71586206896552, 'gini = 0.0\\nsamples = 5\\nvalue = [5, 0]'),\n",
       " Text(325.02196261682246, 131.21379310344827, 'X[6] <= 15046.073\\ngini = 0.427\\nsamples = 42\\nvalue = [13, 29]'),\n",
       " Text(319.9373831775701, 123.71586206896552, 'X[4] <= 18946.608\\ngini = 0.342\\nsamples = 32\\nvalue = [7, 25]'),\n",
       " Text(316.0261682242991, 116.21793103448276, 'X[4] <= 17921.786\\ngini = 0.459\\nsamples = 14\\nvalue = [5, 9]'),\n",
       " Text(314.46168224299066, 108.72, 'X[7] <= 1511352000.0\\ngini = 0.298\\nsamples = 11\\nvalue = [2, 9]'),\n",
       " Text(312.89719626168227, 101.22206896551724, 'X[0] <= 7904.42\\ngini = 0.5\\nsamples = 4\\nvalue = [2, 2]'),\n",
       " Text(311.3327102803739, 93.72413793103449, 'gini = 0.0\\nsamples = 2\\nvalue = [0, 2]'),\n",
       " Text(314.46168224299066, 93.72413793103449, 'gini = 0.0\\nsamples = 2\\nvalue = [2, 0]'),\n",
       " Text(316.0261682242991, 101.22206896551724, 'gini = 0.0\\nsamples = 7\\nvalue = [0, 7]'),\n",
       " Text(317.5906542056075, 108.72, 'gini = 0.0\\nsamples = 3\\nvalue = [3, 0]'),\n",
       " Text(323.84859813084114, 116.21793103448276, 'X[5] <= 683963456.0\\ngini = 0.198\\nsamples = 18\\nvalue = [2, 16]'),\n",
       " Text(320.7196261682243, 108.72, 'X[6] <= 14031.582\\ngini = 0.117\\nsamples = 16\\nvalue = [1, 15]'),\n",
       " Text(319.1551401869159, 101.22206896551724, 'gini = 0.0\\nsamples = 12\\nvalue = [0, 12]'),\n",
       " Text(322.28411214953275, 101.22206896551724, 'X[6] <= 14229.307\\ngini = 0.375\\nsamples = 4\\nvalue = [1, 3]'),\n",
       " Text(320.7196261682243, 93.72413793103449, 'gini = 0.0\\nsamples = 1\\nvalue = [1, 0]'),\n",
       " Text(323.84859813084114, 93.72413793103449, 'gini = 0.0\\nsamples = 3\\nvalue = [0, 3]'),\n",
       " Text(326.977570093458, 108.72, 'X[6] <= 12199.851\\ngini = 0.5\\nsamples = 2\\nvalue = [1, 1]'),\n",
       " Text(325.41308411214953, 101.22206896551724, 'gini = 0.0\\nsamples = 1\\nvalue = [1, 0]'),\n",
       " Text(328.5420560747664, 101.22206896551724, 'gini = 0.0\\nsamples = 1\\nvalue = [0, 1]'),\n",
       " Text(330.1065420560748, 123.71586206896552, 'X[3] <= 16270.33\\ngini = 0.48\\nsamples = 10\\nvalue = [6, 4]'),\n",
       " Text(328.5420560747664, 116.21793103448276, 'gini = 0.0\\nsamples = 5\\nvalue = [5, 0]'),\n",
       " Text(331.6710280373832, 116.21793103448276, 'X[0] <= 14617.5\\ngini = 0.32\\nsamples = 5\\nvalue = [1, 4]'),\n",
       " Text(330.1065420560748, 108.72, 'gini = 0.0\\nsamples = 1\\nvalue = [1, 0]'),\n",
       " Text(333.2355140186916, 108.72, 'gini = 0.0\\nsamples = 4\\nvalue = [0, 4]'),\n",
       " Text(170.895648364486, 191.19724137931036, 'X[7] <= 1513252800.0\\ngini = 0.18\\nsamples = 10\\nvalue = [9, 1]'),\n",
       " Text(169.33116238317757, 183.69931034482758, 'X[0] <= 17560.064\\ngini = 0.444\\nsamples = 3\\nvalue = [2, 1]'),\n",
       " Text(167.76667640186918, 176.20137931034483, 'gini = 0.0\\nsamples = 2\\nvalue = [2, 0]'),\n",
       " Text(170.895648364486, 176.20137931034483, 'gini = 0.0\\nsamples = 1\\nvalue = [0, 1]'),\n",
       " Text(172.46013434579442, 183.69931034482758, 'gini = 0.0\\nsamples = 7\\nvalue = [7, 0]')]"
      ]
     },
     "execution_count": 52,
     "metadata": {},
     "output_type": "execute_result"
    },
    {
     "name": "stderr",
     "output_type": "stream",
     "text": [
      "findfont: Font family ['sans-serif'] not found. Falling back to DejaVu Sans.\n"
     ]
    },
    {
     "data": {
      "image/png": "[encoded data removed]",
      "text/plain": [
       "<Figure size 432x288 with 1 Axes>"
      ]
     },
     "metadata": {
      "needs_background": "light"
     },
     "output_type": "display_data"
    }
   ],
   "source": [
    "tree.plot_tree(dt_model)"
   ]
  },
  {
   "cell_type": "code",
   "execution_count": 64,
   "metadata": {},
   "outputs": [],
   "source": [
    " # note that this goes to a Unix path\n",
    "tree.export_graphviz(dt_model, out_file='/tmp/tree1.dot', \n",
    "                     feature_names=X.columns, class_names=['Sell', 'Buy'],\n",
    "                    filled=True\n",
    "                    )"
   ]
  },
  {
   "cell_type": "code",
   "execution_count": 65,
   "metadata": {},
   "outputs": [],
   "source": [
    " %%bash\n",
    "# This doesn't run on Windows. Also requires that you have graphviz installed (not a Python module)\n",
    "dot -Tpng -otree1.png /tmp/tree1.dot"
   ]
  },
  {
   "cell_type": "markdown",
   "metadata": {},
   "source": [
    "<img src=\"tree1.png\">"
   ]
  },
  {
   "cell_type": "code",
   "execution_count": null,
   "metadata": {},
   "outputs": [],
   "source": []
  },
  {
   "cell_type": "markdown",
   "metadata": {},
   "source": [
    "### Lab Data\n",
    "\n",
    "Mushroom data https://archive.ics.uci.edu/ml/datasets/Mushroom\n",
    "\n",
    "data in ../data/agaricus-lepiota.data.txt\n",
    "\n",
    "First column is class: edible=e, poisonous=p\n",
    "\n",
    "Attribute Information:\n",
    "* cap-shape: bell=b,conical=c,convex=x,flat=f, knobbed=k,sunken=s \n",
    "* cap-surface: fibrous=f,grooves=g,scaly=y,smooth=s \n",
    "* cap-color: brown=n,buff=b,cinnamon=c,gray=g,green=r,pink=p,purple=u,red=e,white=w,yellow=y \n",
    "* bruises?: bruises=t,no=f \n",
    "* odor: almond=a,anise=l,creosote=c,fishy=y,foul=f, musty=m,none=n,pungent=p,spicy=s \n",
    "* gill-attachment: attached=a,descending=d,free=f,notched=n \n",
    "* gill-spacing: close=c,crowded=w,distant=d \n",
    "* gill-size: broad=b,narrow=n \n",
    "* gill-color: black=k,brown=n,buff=b,chocolate=h,gray=g,green=r,orange=o,pink=p,purple=u,red=e, white=w,yellow=y \n",
    "* stalk-shape: enlarging=e,tapering=t \n",
    "* stalk-root: bulbous=b,club=c,cup=u,equal=e, rhizomorphs=z,rooted=r,missing=? \n",
    "* stalk-surface-above-ring: fibrous=f,scaly=y,silky=k,smooth=s \n",
    "* stalk-surface-below-ring: fibrous=f,scaly=y,silky=k,smooth=s \n",
    "* stalk-color-above-ring: brown=n,buff=b,cinnamon=c,gray=g,orange=o, pink=p,red=e,white=w,yellow=y \n",
    "* stalk-color-below-ring: brown=n,buff=b,cinnamon=c,gray=g,orange=o, pink=p,red=e,white=w,yellow=y \n",
    "* veil-type: partial=p,universal=u \n",
    "* veil-color: brown=n,orange=o,white=w,yellow=y \n",
    "* ring-number: none=n,one=o,two=t \n",
    "* ring-type: cobwebby=c,evanescent=e,flaring=f,large=l, none=n,pendant=p,sheathing=s,zone=z \n",
    "* spore-print-color: black=k,brown=n,buff=b,chocolate=h,green=r, orange=o,purple=u,white=w,yellow=y \n",
    "* population: abundant=a,clustered=c,numerous=n, scattered=s,several=v,solitary=y \n",
    "* habitat: grasses=g,leaves=l,meadows=m,paths=p, urban=u,waste=w,woods=d"
   ]
  },
  {
   "cell_type": "code",
   "execution_count": 67,
   "metadata": {},
   "outputs": [],
   "source": [
    "mush_df = pd.read_csv('../data/agaricus-lepiota.data.txt',\n",
    "     names='class,cap_shape,cap_surface,cap_color,bruises,'\n",
    "     'odor,g_attachment,g_spacing,g_size,g_color,s_shape,'\n",
    "     's_root,s_surface_a,s_surface_b,s_color_a,s_color_b,'\n",
    "     'v_type,v_color,ring_num,ring_type,spore_color,pop,hab'.split(','))\n",
    "mush_df = pd.get_dummies(mush_df, columns=mush_df.columns).drop(['class_e'],axis=1)"
   ]
  },
  {
   "cell_type": "code",
   "execution_count": null,
   "metadata": {},
   "outputs": [],
   "source": []
  },
  {
   "cell_type": "markdown",
   "metadata": {},
   "source": [
    "## Predict Exercise\n",
    "\n",
    "* Create a decision tree to model whether a mushroom is poisonous. \n",
    "* What is the score?"
   ]
  },
  {
   "cell_type": "code",
   "execution_count": 70,
   "metadata": {},
   "outputs": [
    {
     "data": {
      "text/plain": [
       "1.0"
      ]
     },
     "execution_count": 70,
     "metadata": {},
     "output_type": "execute_result"
    }
   ],
   "source": [
    "mush_X = mush_df.iloc[:,1:]\n",
    "mush_y = mush_df.class_p\n",
    "mush_X_train, mush_X_test, mush_y_train, mush_y_test = model_selection.\\\n",
    "    train_test_split(mush_X, mush_y, test_size=.3, random_state=42)\n",
    "mush_dt = tree.DecisionTreeClassifier()\n",
    "mush_dt.fit(mush_X_train, mush_y_train)\n",
    "mush_dt.score(mush_X_test, mush_y_test)"
   ]
  },
  {
   "cell_type": "code",
   "execution_count": null,
   "metadata": {},
   "outputs": [],
   "source": []
  },
  {
   "cell_type": "markdown",
   "metadata": {},
   "source": [
    "## Classification Evaluation"
   ]
  },
  {
   "cell_type": "code",
   "execution_count": 72,
   "metadata": {},
   "outputs": [
    {
     "data": {
      "text/plain": [
       "0.4866666666666667"
      ]
     },
     "execution_count": 72,
     "metadata": {},
     "output_type": "execute_result"
    }
   ],
   "source": [
    "dt_model = tree.DecisionTreeClassifier(random_state=42)\n",
    "dt_model.fit(X_train, y_train)\n",
    "dt_model.score(X_test, y_test)"
   ]
  },
  {
   "cell_type": "code",
   "execution_count": 73,
   "metadata": {},
   "outputs": [
    {
     "data": {
      "text/plain": [
       "0.4866666666666667"
      ]
     },
     "execution_count": 73,
     "metadata": {},
     "output_type": "execute_result"
    }
   ],
   "source": [
    "metrics.accuracy_score(y_test, dt_model.predict(X_test))"
   ]
  },
  {
   "cell_type": "code",
   "execution_count": 74,
   "metadata": {},
   "outputs": [
    {
     "data": {
      "text/plain": [
       "0.5506329113924051"
      ]
     },
     "execution_count": 74,
     "metadata": {},
     "output_type": "execute_result"
    }
   ],
   "source": [
    "metrics.precision_score(y_test, dt_model.predict(X_test))"
   ]
  },
  {
   "cell_type": "code",
   "execution_count": 76,
   "metadata": {},
   "outputs": [
    {
     "data": {
      "text/plain": [
       "0.5117647058823529"
      ]
     },
     "execution_count": 76,
     "metadata": {},
     "output_type": "execute_result"
    }
   ],
   "source": [
    "metrics.recall_score(y_test, dt_model.predict(X_test))"
   ]
  },
  {
   "cell_type": "code",
   "execution_count": 77,
   "metadata": {},
   "outputs": [
    {
     "name": "stderr",
     "output_type": "stream",
     "text": [
      "/home/matt/.envs/env36/lib/python3.6/site-packages/sklearn/base.py:197: FutureWarning: From version 0.24, get_params will raise an AttributeError if a parameter cannot be retrieved as an instance attribute. Previously it would return None.\n",
      "  FutureWarning)\n"
     ]
    },
    {
     "data": {
      "image/png": "[encoded data removed]",
      "text/plain": [
       "<Figure size 432x288 with 1 Axes>"
      ]
     },
     "metadata": {
      "needs_background": "light"
     },
     "output_type": "display_data"
    },
    {
     "name": "stderr",
     "output_type": "stream",
     "text": [
      "/home/matt/.envs/env36/lib/python3.6/site-packages/sklearn/base.py:197: FutureWarning: From version 0.24, get_params will raise an AttributeError if a parameter cannot be retrieved as an instance attribute. Previously it would return None.\n",
      "  FutureWarning)\n"
     ]
    },
    {
     "data": {
      "text/plain": [
       "ConfusionMatrix(ax=<matplotlib.axes._subplots.AxesSubplot object at 0x7f35d529b748>,\n",
       "                classes=None,\n",
       "                cmap=<matplotlib.colors.ListedColormap object at 0x7f35d53e9b70>,\n",
       "                encoder=None, fontsize=None, force_model=False,\n",
       "                is_fitted='auto', model=None, percent=False,\n",
       "                sample_weight=None)"
      ]
     },
     "execution_count": 77,
     "metadata": {},
     "output_type": "execute_result"
    }
   ],
   "source": [
    "classifier.confusion_matrix(dt_model, X_train, y_train, X_test, y_test)"
   ]
  },
  {
   "cell_type": "code",
   "execution_count": 78,
   "metadata": {},
   "outputs": [
    {
     "data": {
      "image/png": "[encoded data removed]",
      "text/plain": [
       "<Figure size 432x288 with 1 Axes>"
      ]
     },
     "metadata": {
      "needs_background": "light"
     },
     "output_type": "display_data"
    },
    {
     "name": "stderr",
     "output_type": "stream",
     "text": [
      "/home/matt/.envs/env36/lib/python3.6/site-packages/sklearn/base.py:197: FutureWarning: From version 0.24, get_params will raise an AttributeError if a parameter cannot be retrieved as an instance attribute. Previously it would return None.\n",
      "  FutureWarning)\n"
     ]
    },
    {
     "data": {
      "text/plain": [
       "ConfusionMatrix(ax=<matplotlib.axes._subplots.AxesSubplot object at 0x7f3594d60d68>,\n",
       "                classes=['sell', 'buy'],\n",
       "                cmap=<matplotlib.colors.ListedColormap object at 0x7f35d532f2b0>,\n",
       "                encoder=None, fontsize=None, force_model=False,\n",
       "                is_fitted='auto', model=None, percent=False,\n",
       "                sample_weight=None)"
      ]
     },
     "execution_count": 78,
     "metadata": {},
     "output_type": "execute_result"
    }
   ],
   "source": [
    "classifier.confusion_matrix(dt_model, X_train, y_train, X_test, y_test,\n",
    "                   classes=['sell', 'buy'])"
   ]
  },
  {
   "cell_type": "code",
   "execution_count": 80,
   "metadata": {},
   "outputs": [
    {
     "name": "stderr",
     "output_type": "stream",
     "text": [
      "/home/matt/.envs/env36/lib/python3.6/site-packages/sklearn/base.py:197: FutureWarning: From version 0.24, get_params will raise an AttributeError if a parameter cannot be retrieved as an instance attribute. Previously it would return None.\n",
      "  FutureWarning)\n"
     ]
    },
    {
     "data": {
      "image/png": "[encoded data removed]",
      "text/plain": [
       "<Figure size 432x288 with 1 Axes>"
      ]
     },
     "metadata": {
      "needs_background": "light"
     },
     "output_type": "display_data"
    },
    {
     "name": "stderr",
     "output_type": "stream",
     "text": [
      "/home/matt/.envs/env36/lib/python3.6/site-packages/sklearn/base.py:197: FutureWarning: From version 0.24, get_params will raise an AttributeError if a parameter cannot be retrieved as an instance attribute. Previously it would return None.\n",
      "  FutureWarning)\n"
     ]
    },
    {
     "data": {
      "text/plain": [
       "ROCAUC(ax=<matplotlib.axes._subplots.AxesSubplot object at 0x7f35d51b1b70>,\n",
       "       classes=['sell', 'buy'], encoder=None, force_model=False,\n",
       "       is_fitted='auto', macro=False, micro=False, model=None, per_class=True)"
      ]
     },
     "execution_count": 80,
     "metadata": {},
     "output_type": "execute_result"
    }
   ],
   "source": [
    "classifier.roc_auc(dt_model, X_train, y_train, X_test, y_test,\n",
    "                   classes=['sell', 'buy'], micro=False, macro=False)"
   ]
  },
  {
   "cell_type": "code",
   "execution_count": 81,
   "metadata": {},
   "outputs": [
    {
     "name": "stderr",
     "output_type": "stream",
     "text": [
      "/home/matt/.envs/env36/lib/python3.6/site-packages/sklearn/base.py:197: FutureWarning: From version 0.24, get_params will raise an AttributeError if a parameter cannot be retrieved as an instance attribute. Previously it would return None.\n",
      "  FutureWarning)\n"
     ]
    },
    {
     "data": {
      "image/png": "[encoded data removed]",
      "text/plain": [
       "<Figure size 432x288 with 1 Axes>"
      ]
     },
     "metadata": {
      "needs_background": "light"
     },
     "output_type": "display_data"
    },
    {
     "name": "stderr",
     "output_type": "stream",
     "text": [
      "/home/matt/.envs/env36/lib/python3.6/site-packages/sklearn/base.py:197: FutureWarning: From version 0.24, get_params will raise an AttributeError if a parameter cannot be retrieved as an instance attribute. Previously it would return None.\n",
      "  FutureWarning)\n"
     ]
    },
    {
     "data": {
      "text/plain": [
       "PrecisionRecallCurve(ap_score=True,\n",
       "                     ax=<matplotlib.axes._subplots.AxesSubplot object at 0x7f35d5119eb8>,\n",
       "                     classes=['sell', 'buy'], encoder=None, fill_area=True,\n",
       "                     fill_opacity=0.2, force_model=False, is_fitted='auto',\n",
       "                     iso_f1_curves=False, iso_f1_values={0.2, 0.4, 0.6, 0.8},\n",
       "                     line_opacity=0.8, micro=False, model=None,\n",
       "                     per_class=False)"
      ]
     },
     "execution_count": 81,
     "metadata": {},
     "output_type": "execute_result"
    }
   ],
   "source": [
    "classifier.precision_recall_curve(dt_model, X_train, y_train, X_test, y_test,\n",
    "                   classes=['sell', 'buy'], micro=False, macro=False)"
   ]
  },
  {
   "cell_type": "code",
   "execution_count": null,
   "metadata": {},
   "outputs": [],
   "source": []
  },
  {
   "cell_type": "markdown",
   "metadata": {},
   "source": [
    "## Classification Evaluation Exercise\n",
    "With the mushroom dataset\n",
    "* Evaluate the accuracy\n",
    "* Plot a confusion matrix\n",
    "* Plot an ROC "
   ]
  },
  {
   "cell_type": "code",
   "execution_count": 82,
   "metadata": {},
   "outputs": [
    {
     "data": {
      "text/plain": [
       "1.0"
      ]
     },
     "execution_count": 82,
     "metadata": {},
     "output_type": "execute_result"
    }
   ],
   "source": [
    "mush_X = mush_df.iloc[:,1:]\n",
    "mush_y = mush_df.class_p\n",
    "mush_X_train, mush_X_test, mush_y_train, mush_y_test = model_selection.\\\n",
    "    train_test_split(mush_X, mush_y, test_size=.3, random_state=42)\n",
    "mush_dt = tree.DecisionTreeClassifier()\n",
    "mush_dt.fit(mush_X_train, mush_y_train)\n",
    "mush_dt.score(mush_X_test, mush_y_test)"
   ]
  },
  {
   "cell_type": "code",
   "execution_count": 83,
   "metadata": {},
   "outputs": [
    {
     "data": {
      "text/plain": [
       "1.0"
      ]
     },
     "execution_count": 83,
     "metadata": {},
     "output_type": "execute_result"
    }
   ],
   "source": [
    "metrics.accuracy_score(mush_y_test, mush_dt.predict(mush_X_test))"
   ]
  },
  {
   "cell_type": "code",
   "execution_count": 85,
   "metadata": {
    "scrolled": true
   },
   "outputs": [
    {
     "data": {
      "image/png": "[encoded data removed]",
      "text/plain": [
       "<Figure size 432x288 with 1 Axes>"
      ]
     },
     "metadata": {
      "needs_background": "light"
     },
     "output_type": "display_data"
    },
    {
     "name": "stderr",
     "output_type": "stream",
     "text": [
      "/home/matt/.envs/env36/lib/python3.6/site-packages/sklearn/base.py:197: FutureWarning: From version 0.24, get_params will raise an AttributeError if a parameter cannot be retrieved as an instance attribute. Previously it would return None.\n",
      "  FutureWarning)\n"
     ]
    },
    {
     "data": {
      "text/plain": [
       "ConfusionMatrix(ax=<matplotlib.axes._subplots.AxesSubplot object at 0x7f35d50c2eb8>,\n",
       "                classes=['poisonous', 'edible'],\n",
       "                cmap=<matplotlib.colors.ListedColormap object at 0x7f3594d91908>,\n",
       "                encoder=None, fontsize=None, force_model=False,\n",
       "                is_fitted='auto', model=None, percent=False,\n",
       "                sample_weight=None)"
      ]
     },
     "execution_count": 85,
     "metadata": {},
     "output_type": "execute_result"
    }
   ],
   "source": [
    "classifier.confusion_matrix(mush_dt, mush_X_train, mush_y_train, mush_X_test, mush_y_test,\n",
    "                   classes=['poisonous', 'edible'])"
   ]
  },
  {
   "cell_type": "code",
   "execution_count": 87,
   "metadata": {
    "scrolled": true
   },
   "outputs": [
    {
     "name": "stderr",
     "output_type": "stream",
     "text": [
      "/home/matt/.envs/env36/lib/python3.6/site-packages/sklearn/base.py:197: FutureWarning: From version 0.24, get_params will raise an AttributeError if a parameter cannot be retrieved as an instance attribute. Previously it would return None.\n",
      "  FutureWarning)\n"
     ]
    },
    {
     "data": {
      "image/png": "[encoded data removed]",
      "text/plain": [
       "<Figure size 432x288 with 1 Axes>"
      ]
     },
     "metadata": {
      "needs_background": "light"
     },
     "output_type": "display_data"
    },
    {
     "name": "stderr",
     "output_type": "stream",
     "text": [
      "/home/matt/.envs/env36/lib/python3.6/site-packages/sklearn/base.py:197: FutureWarning: From version 0.24, get_params will raise an AttributeError if a parameter cannot be retrieved as an instance attribute. Previously it would return None.\n",
      "  FutureWarning)\n"
     ]
    },
    {
     "data": {
      "text/plain": [
       "ROCAUC(ax=<matplotlib.axes._subplots.AxesSubplot object at 0x7f35d47daf98>,\n",
       "       classes=['poisonous', 'edible'], encoder=None, force_model=False,\n",
       "       is_fitted='auto', macro=False, micro=False, model=None, per_class=True)"
      ]
     },
     "execution_count": 87,
     "metadata": {},
     "output_type": "execute_result"
    }
   ],
   "source": [
    "classifier.roc_auc(mush_dt, mush_X_train, mush_y_train, mush_X_test, mush_y_test,\n",
    "                   classes=['poisonous', 'edible'], micro=False, macro=False)"
   ]
  },
  {
   "cell_type": "code",
   "execution_count": null,
   "metadata": {},
   "outputs": [],
   "source": []
  },
  {
   "cell_type": "code",
   "execution_count": null,
   "metadata": {},
   "outputs": [],
   "source": []
  },
  {
   "cell_type": "code",
   "execution_count": null,
   "metadata": {},
   "outputs": [],
   "source": []
  }
 ],
 "metadata": {
  "jupytext": {
   "formats": "ipynb,py:light"
  },
  "kernelspec": {
   "display_name": "Python 3",
   "language": "python",
   "name": "python3"
  },
  "language_info": {
   "codemirror_mode": {
    "name": "ipython",
    "version": 3
   },
   "file_extension": ".py",
   "mimetype": "text/x-python",
   "name": "python",
   "nbconvert_exporter": "python",
   "pygments_lexer": "ipython3",
   "version": "3.6.9"
  }
 },
 "nbformat": 4,
 "nbformat_minor": 4
}
